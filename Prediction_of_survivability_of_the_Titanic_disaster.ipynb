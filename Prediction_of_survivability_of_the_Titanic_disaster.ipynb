{
  "nbformat": 4,
  "nbformat_minor": 0,
  "metadata": {
    "colab": {
      "name": "Prediction of survivability of the Titanic disaster.ipynb",
      "provenance": [],
      "collapsed_sections": [],
      "authorship_tag": "ABX9TyMq02ks12OSiiex94klqua8",
      "include_colab_link": true
    },
    "kernelspec": {
      "name": "python3",
      "display_name": "Python 3"
    },
    "language_info": {
      "name": "python"
    }
  },
  "cells": [
    {
      "cell_type": "markdown",
      "metadata": {
        "id": "view-in-github",
        "colab_type": "text"
      },
      "source": [
        "<a href=\"https://colab.research.google.com/github/cesarhanna/Data-Science-Projects/blob/main/Prediction_of_survivability_of_the_Titanic_disaster.ipynb\" target=\"_parent\"><img src=\"https://colab.research.google.com/assets/colab-badge.svg\" alt=\"Open In Colab\"/></a>"
      ]
    },
    {
      "cell_type": "markdown",
      "source": [
        "# **Prediction of survivability of the Titanic disaster**"
      ],
      "metadata": {
        "id": "j9zzIk64EVzc"
      }
    },
    {
      "cell_type": "markdown",
      "source": [
        "**The Challenge**\n",
        "\n",
        "The sinking of the Titanic is one of the most infamous shipwrecks in history.\n",
        "\n",
        "On April 15, 1912, during her maiden voyage, the widely considered “unsinkable” RMS Titanic sank after colliding with an iceberg. Unfortunately, there weren’t enough lifeboats for everyone onboard, resulting in the death of 1502 out of 2224 passengers and crew.\n",
        "\n",
        "While there was some element of luck involved in surviving, it seems some groups of people were more likely to survive than others.\n",
        "\n",
        "In this challenge, we want to build a predictive model that answers the question: “what sorts of people were more likely to survive?” using passenger data (ie name, age, gender, socio-economic class, etc)."
      ],
      "metadata": {
        "id": "kqn4ux5yEhpa"
      }
    },
    {
      "cell_type": "markdown",
      "source": [
        "**The dataframe**\n",
        "\n",
        "In this model, I decided to use Spark to create dataframes"
      ],
      "metadata": {
        "id": "CmCQugs1FVXp"
      }
    },
    {
      "cell_type": "code",
      "execution_count": 1,
      "metadata": {
        "colab": {
          "base_uri": "https://localhost:8080/"
        },
        "id": "UZ3VpMUaEU5R",
        "outputId": "0bed3e9c-d2b2-4dd8-d6d8-200d61807009"
      },
      "outputs": [
        {
          "output_type": "stream",
          "name": "stdout",
          "text": [
            "Looking in indexes: https://pypi.org/simple, https://us-python.pkg.dev/colab-wheels/public/simple/\n",
            "Collecting pyspark==2.4.5\n",
            "  Downloading pyspark-2.4.5.tar.gz (217.8 MB)\n",
            "\u001b[K     |████████████████████████████████| 217.8 MB 6.2 kB/s \n",
            "\u001b[?25hCollecting py4j==0.10.7\n",
            "  Downloading py4j-0.10.7-py2.py3-none-any.whl (197 kB)\n",
            "\u001b[K     |████████████████████████████████| 197 kB 52.8 MB/s \n",
            "\u001b[?25hBuilding wheels for collected packages: pyspark\n",
            "  Building wheel for pyspark (setup.py) ... \u001b[?25l\u001b[?25hdone\n",
            "  Created wheel for pyspark: filename=pyspark-2.4.5-py2.py3-none-any.whl size=218257928 sha256=76ce08a72b292fe2a85e0f5d989789e55e9fe15d8f66b71145777cfb5e15fedc\n",
            "  Stored in directory: /root/.cache/pip/wheels/01/c0/03/1c241c9c482b647d4d99412a98a5c7f87472728ad41ae55e1e\n",
            "Successfully built pyspark\n",
            "Installing collected packages: py4j, pyspark\n",
            "Successfully installed py4j-0.10.7 pyspark-2.4.5\n"
          ]
        }
      ],
      "source": [
        "!pip install pyspark==2.4.5"
      ]
    },
    {
      "cell_type": "code",
      "source": [
        "!pip install --upgrade pyspark"
      ],
      "metadata": {
        "colab": {
          "base_uri": "https://localhost:8080/"
        },
        "id": "Knw9a_Y5GwME",
        "outputId": "cc233eae-ca9a-4bf8-f2fa-884fe7c9e113"
      },
      "execution_count": 2,
      "outputs": [
        {
          "output_type": "stream",
          "name": "stdout",
          "text": [
            "Looking in indexes: https://pypi.org/simple, https://us-python.pkg.dev/colab-wheels/public/simple/\n",
            "Requirement already satisfied: pyspark in /usr/local/lib/python3.7/dist-packages (2.4.5)\n",
            "Collecting pyspark\n",
            "  Downloading pyspark-3.3.0.tar.gz (281.3 MB)\n",
            "\u001b[K     |████████████████████████████████| 281.3 MB 46 kB/s \n",
            "\u001b[?25hCollecting py4j==0.10.9.5\n",
            "  Downloading py4j-0.10.9.5-py2.py3-none-any.whl (199 kB)\n",
            "\u001b[K     |████████████████████████████████| 199 kB 55.0 MB/s \n",
            "\u001b[?25hBuilding wheels for collected packages: pyspark\n",
            "  Building wheel for pyspark (setup.py) ... \u001b[?25l\u001b[?25hdone\n",
            "  Created wheel for pyspark: filename=pyspark-3.3.0-py2.py3-none-any.whl size=281764026 sha256=625f7adaa93f156630f4f09539b06b92f02e4156e66abad94a2f695566c4df17\n",
            "  Stored in directory: /root/.cache/pip/wheels/7a/8e/1b/f73a52650d2e5f337708d9f6a1750d451a7349a867f928b885\n",
            "Successfully built pyspark\n",
            "Installing collected packages: py4j, pyspark\n",
            "  Attempting uninstall: py4j\n",
            "    Found existing installation: py4j 0.10.7\n",
            "    Uninstalling py4j-0.10.7:\n",
            "      Successfully uninstalled py4j-0.10.7\n",
            "  Attempting uninstall: pyspark\n",
            "    Found existing installation: pyspark 2.4.5\n",
            "    Uninstalling pyspark-2.4.5:\n",
            "      Successfully uninstalled pyspark-2.4.5\n",
            "Successfully installed py4j-0.10.9.5 pyspark-3.3.0\n"
          ]
        }
      ]
    },
    {
      "cell_type": "code",
      "source": [
        "from pyspark import SparkContext, SparkConf\n",
        "from pyspark.sql import SparkSession"
      ],
      "metadata": {
        "id": "9euBdI81w4WE"
      },
      "execution_count": 42,
      "outputs": []
    },
    {
      "cell_type": "code",
      "source": [
        "sc = SparkContext.getOrCreate(SparkConf().setMaster(\"local[*]\"))\n",
        "\n",
        "spark = SparkSession \\\n",
        "    .builder \\\n",
        "    .getOrCreate()"
      ],
      "metadata": {
        "id": "us27sSrjHLaj"
      },
      "execution_count": 43,
      "outputs": []
    },
    {
      "cell_type": "code",
      "source": [
        "# We first need to create a pandas dataframe from the csv file in order to convert it to parquet\n",
        "\n",
        "import pandas as pd\n",
        "\n",
        "df1=pd.read_csv('train.csv')\n",
        "df_train = df1.to_parquet('train.parquet')\n",
        "\n",
        "# We then convert the dataframe to Spark\n",
        "df_train = spark.read.load('train.parquet')\n",
        "\n",
        "df_train.createOrReplaceTempView(\"df_train\")\n",
        "spark.sql(\"SELECT * from df_train\").show()"
      ],
      "metadata": {
        "colab": {
          "base_uri": "https://localhost:8080/"
        },
        "id": "M5698DbtHbTl",
        "outputId": "9626c1b6-41a5-4791-ceb5-f7f7cf959969"
      },
      "execution_count": 44,
      "outputs": [
        {
          "output_type": "stream",
          "name": "stdout",
          "text": [
            "+-----------+--------+------+--------------------+------+----+-----+-----+----------------+-------+-----+--------+\n",
            "|PassengerId|Survived|Pclass|                Name|   Sex| Age|SibSp|Parch|          Ticket|   Fare|Cabin|Embarked|\n",
            "+-----------+--------+------+--------------------+------+----+-----+-----+----------------+-------+-----+--------+\n",
            "|          1|       0|     3|Braund, Mr. Owen ...|  male|22.0|    1|    0|       A/5 21171|   7.25| null|       S|\n",
            "|          2|       1|     1|Cumings, Mrs. Joh...|female|38.0|    1|    0|        PC 17599|71.2833|  C85|       C|\n",
            "|          3|       1|     3|Heikkinen, Miss. ...|female|26.0|    0|    0|STON/O2. 3101282|  7.925| null|       S|\n",
            "|          4|       1|     1|Futrelle, Mrs. Ja...|female|35.0|    1|    0|          113803|   53.1| C123|       S|\n",
            "|          5|       0|     3|Allen, Mr. Willia...|  male|35.0|    0|    0|          373450|   8.05| null|       S|\n",
            "|          6|       0|     3|    Moran, Mr. James|  male|null|    0|    0|          330877| 8.4583| null|       Q|\n",
            "|          7|       0|     1|McCarthy, Mr. Tim...|  male|54.0|    0|    0|           17463|51.8625|  E46|       S|\n",
            "|          8|       0|     3|Palsson, Master. ...|  male| 2.0|    3|    1|          349909| 21.075| null|       S|\n",
            "|          9|       1|     3|Johnson, Mrs. Osc...|female|27.0|    0|    2|          347742|11.1333| null|       S|\n",
            "|         10|       1|     2|Nasser, Mrs. Nich...|female|14.0|    1|    0|          237736|30.0708| null|       C|\n",
            "|         11|       1|     3|Sandstrom, Miss. ...|female| 4.0|    1|    1|         PP 9549|   16.7|   G6|       S|\n",
            "|         12|       1|     1|Bonnell, Miss. El...|female|58.0|    0|    0|          113783|  26.55| C103|       S|\n",
            "|         13|       0|     3|Saundercock, Mr. ...|  male|20.0|    0|    0|       A/5. 2151|   8.05| null|       S|\n",
            "|         14|       0|     3|Andersson, Mr. An...|  male|39.0|    1|    5|          347082| 31.275| null|       S|\n",
            "|         15|       0|     3|Vestrom, Miss. Hu...|female|14.0|    0|    0|          350406| 7.8542| null|       S|\n",
            "|         16|       1|     2|Hewlett, Mrs. (Ma...|female|55.0|    0|    0|          248706|   16.0| null|       S|\n",
            "|         17|       0|     3|Rice, Master. Eugene|  male| 2.0|    4|    1|          382652| 29.125| null|       Q|\n",
            "|         18|       1|     2|Williams, Mr. Cha...|  male|null|    0|    0|          244373|   13.0| null|       S|\n",
            "|         19|       0|     3|Vander Planke, Mr...|female|31.0|    1|    0|          345763|   18.0| null|       S|\n",
            "|         20|       1|     3|Masselmani, Mrs. ...|female|null|    0|    0|            2649|  7.225| null|       C|\n",
            "+-----------+--------+------+--------------------+------+----+-----+-----+----------------+-------+-----+--------+\n",
            "only showing top 20 rows\n",
            "\n"
          ]
        }
      ]
    },
    {
      "cell_type": "code",
      "source": [
        "# We do the same procedure to the test dataframe as above\n",
        "\n",
        "df2=pd.read_csv('test.csv')\n",
        "df_test = df2.to_parquet('test.parquet')\n",
        "\n",
        "# We then convert the dataframe to Spark\n",
        "df_test = spark.read.load('test.parquet')\n",
        "\n",
        "df_test.createOrReplaceTempView(\"df_test\")\n",
        "spark.sql(\"SELECT * from df_test\").show()"
      ],
      "metadata": {
        "colab": {
          "base_uri": "https://localhost:8080/"
        },
        "id": "o3CvSVNMJzl0",
        "outputId": "4838a09e-8ff9-45ca-8361-98b45ad877cb"
      },
      "execution_count": 45,
      "outputs": [
        {
          "output_type": "stream",
          "name": "stdout",
          "text": [
            "+-----------+------+--------------------+------+----+-----+-----+----------------+-------+-----+--------+\n",
            "|PassengerId|Pclass|                Name|   Sex| Age|SibSp|Parch|          Ticket|   Fare|Cabin|Embarked|\n",
            "+-----------+------+--------------------+------+----+-----+-----+----------------+-------+-----+--------+\n",
            "|        892|     3|    Kelly, Mr. James|  male|34.5|    0|    0|          330911| 7.8292| null|       Q|\n",
            "|        893|     3|Wilkes, Mrs. Jame...|female|47.0|    1|    0|          363272|    7.0| null|       S|\n",
            "|        894|     2|Myles, Mr. Thomas...|  male|62.0|    0|    0|          240276| 9.6875| null|       Q|\n",
            "|        895|     3|    Wirz, Mr. Albert|  male|27.0|    0|    0|          315154| 8.6625| null|       S|\n",
            "|        896|     3|Hirvonen, Mrs. Al...|female|22.0|    1|    1|         3101298|12.2875| null|       S|\n",
            "|        897|     3|Svensson, Mr. Joh...|  male|14.0|    0|    0|            7538|  9.225| null|       S|\n",
            "|        898|     3|Connolly, Miss. Kate|female|30.0|    0|    0|          330972| 7.6292| null|       Q|\n",
            "|        899|     2|Caldwell, Mr. Alb...|  male|26.0|    1|    1|          248738|   29.0| null|       S|\n",
            "|        900|     3|Abrahim, Mrs. Jos...|female|18.0|    0|    0|            2657| 7.2292| null|       C|\n",
            "|        901|     3|Davies, Mr. John ...|  male|21.0|    2|    0|       A/4 48871|  24.15| null|       S|\n",
            "|        902|     3|    Ilieff, Mr. Ylio|  male|null|    0|    0|          349220| 7.8958| null|       S|\n",
            "|        903|     1|Jones, Mr. Charle...|  male|46.0|    0|    0|             694|   26.0| null|       S|\n",
            "|        904|     1|Snyder, Mrs. John...|female|23.0|    1|    0|           21228|82.2667|  B45|       S|\n",
            "|        905|     2|Howard, Mr. Benjamin|  male|63.0|    1|    0|           24065|   26.0| null|       S|\n",
            "|        906|     1|Chaffee, Mrs. Her...|female|47.0|    1|    0|     W.E.P. 5734| 61.175|  E31|       S|\n",
            "|        907|     2|del Carlo, Mrs. S...|female|24.0|    1|    0|   SC/PARIS 2167|27.7208| null|       C|\n",
            "|        908|     2|   Keane, Mr. Daniel|  male|35.0|    0|    0|          233734|  12.35| null|       Q|\n",
            "|        909|     3|   Assaf, Mr. Gerios|  male|21.0|    0|    0|            2692|  7.225| null|       C|\n",
            "|        910|     3|Ilmakangas, Miss....|female|27.0|    1|    0|STON/O2. 3101270|  7.925| null|       S|\n",
            "|        911|     3|Assaf Khalil, Mrs...|female|45.0|    0|    0|            2696|  7.225| null|       C|\n",
            "+-----------+------+--------------------+------+----+-----+-----+----------------+-------+-----+--------+\n",
            "only showing top 20 rows\n",
            "\n"
          ]
        }
      ]
    },
    {
      "cell_type": "markdown",
      "source": [
        "Based on the data that we see, we can fairly conclude the following features to predict the survival:\n",
        "\n",
        "\n",
        "*   Features:\n",
        " *   Sex\n",
        " *   Age\n",
        " *   SibSP (Siblings and/or Spouses)\n",
        " *   Parch (Parents and/or children)\n",
        " *   Pclass (Ticket class)\n",
        "*   Target:\n",
        " *   Survived\n",
        "\n",
        "\n",
        "\n",
        "\n",
        "\n",
        "\n",
        "\n"
      ],
      "metadata": {
        "id": "gXo7P8LgODuc"
      }
    },
    {
      "cell_type": "code",
      "source": [
        "# Now, let's transform the \"Sex\" column from categorical to numerical; 0 will be assigned to male and 1 to female\n",
        "\n",
        "from pyspark.sql.catalog import Column\n",
        "from pyspark.sql import column\n",
        "from pyspark.sql.functions import *\n",
        "\n",
        "df_train_num = df_train.withColumn('Sex', when(col('Sex') == 'female', 1).when(col('Sex') == 'male', 0))\n",
        "df_train_num.show()"
      ],
      "metadata": {
        "colab": {
          "base_uri": "https://localhost:8080/"
        },
        "id": "j62Q7fWqQnz1",
        "outputId": "7a692f9f-1887-4372-9228-4eba2c3b5e63"
      },
      "execution_count": 46,
      "outputs": [
        {
          "output_type": "stream",
          "name": "stdout",
          "text": [
            "+-----------+--------+------+--------------------+---+----+-----+-----+----------------+-------+-----+--------+\n",
            "|PassengerId|Survived|Pclass|                Name|Sex| Age|SibSp|Parch|          Ticket|   Fare|Cabin|Embarked|\n",
            "+-----------+--------+------+--------------------+---+----+-----+-----+----------------+-------+-----+--------+\n",
            "|          1|       0|     3|Braund, Mr. Owen ...|  0|22.0|    1|    0|       A/5 21171|   7.25| null|       S|\n",
            "|          2|       1|     1|Cumings, Mrs. Joh...|  1|38.0|    1|    0|        PC 17599|71.2833|  C85|       C|\n",
            "|          3|       1|     3|Heikkinen, Miss. ...|  1|26.0|    0|    0|STON/O2. 3101282|  7.925| null|       S|\n",
            "|          4|       1|     1|Futrelle, Mrs. Ja...|  1|35.0|    1|    0|          113803|   53.1| C123|       S|\n",
            "|          5|       0|     3|Allen, Mr. Willia...|  0|35.0|    0|    0|          373450|   8.05| null|       S|\n",
            "|          6|       0|     3|    Moran, Mr. James|  0|null|    0|    0|          330877| 8.4583| null|       Q|\n",
            "|          7|       0|     1|McCarthy, Mr. Tim...|  0|54.0|    0|    0|           17463|51.8625|  E46|       S|\n",
            "|          8|       0|     3|Palsson, Master. ...|  0| 2.0|    3|    1|          349909| 21.075| null|       S|\n",
            "|          9|       1|     3|Johnson, Mrs. Osc...|  1|27.0|    0|    2|          347742|11.1333| null|       S|\n",
            "|         10|       1|     2|Nasser, Mrs. Nich...|  1|14.0|    1|    0|          237736|30.0708| null|       C|\n",
            "|         11|       1|     3|Sandstrom, Miss. ...|  1| 4.0|    1|    1|         PP 9549|   16.7|   G6|       S|\n",
            "|         12|       1|     1|Bonnell, Miss. El...|  1|58.0|    0|    0|          113783|  26.55| C103|       S|\n",
            "|         13|       0|     3|Saundercock, Mr. ...|  0|20.0|    0|    0|       A/5. 2151|   8.05| null|       S|\n",
            "|         14|       0|     3|Andersson, Mr. An...|  0|39.0|    1|    5|          347082| 31.275| null|       S|\n",
            "|         15|       0|     3|Vestrom, Miss. Hu...|  1|14.0|    0|    0|          350406| 7.8542| null|       S|\n",
            "|         16|       1|     2|Hewlett, Mrs. (Ma...|  1|55.0|    0|    0|          248706|   16.0| null|       S|\n",
            "|         17|       0|     3|Rice, Master. Eugene|  0| 2.0|    4|    1|          382652| 29.125| null|       Q|\n",
            "|         18|       1|     2|Williams, Mr. Cha...|  0|null|    0|    0|          244373|   13.0| null|       S|\n",
            "|         19|       0|     3|Vander Planke, Mr...|  1|31.0|    1|    0|          345763|   18.0| null|       S|\n",
            "|         20|       1|     3|Masselmani, Mrs. ...|  1|null|    0|    0|            2649|  7.225| null|       C|\n",
            "+-----------+--------+------+--------------------+---+----+-----+-----+----------------+-------+-----+--------+\n",
            "only showing top 20 rows\n",
            "\n"
          ]
        }
      ]
    },
    {
      "cell_type": "code",
      "source": [
        "# The same transformation should be done on the test dataset\n",
        "\n",
        "df_test_num = df_test.withColumn('Sex', when(col('Sex') == 'female', 1).when(col('Sex') == 'male', 0))\n",
        "df_test_num.show()"
      ],
      "metadata": {
        "colab": {
          "base_uri": "https://localhost:8080/"
        },
        "id": "F3R6VpwtolYr",
        "outputId": "7ebb8cfe-efb4-4380-db67-94a04b804be8"
      },
      "execution_count": 47,
      "outputs": [
        {
          "output_type": "stream",
          "name": "stdout",
          "text": [
            "+-----------+------+--------------------+---+----+-----+-----+----------------+-------+-----+--------+\n",
            "|PassengerId|Pclass|                Name|Sex| Age|SibSp|Parch|          Ticket|   Fare|Cabin|Embarked|\n",
            "+-----------+------+--------------------+---+----+-----+-----+----------------+-------+-----+--------+\n",
            "|        892|     3|    Kelly, Mr. James|  0|34.5|    0|    0|          330911| 7.8292| null|       Q|\n",
            "|        893|     3|Wilkes, Mrs. Jame...|  1|47.0|    1|    0|          363272|    7.0| null|       S|\n",
            "|        894|     2|Myles, Mr. Thomas...|  0|62.0|    0|    0|          240276| 9.6875| null|       Q|\n",
            "|        895|     3|    Wirz, Mr. Albert|  0|27.0|    0|    0|          315154| 8.6625| null|       S|\n",
            "|        896|     3|Hirvonen, Mrs. Al...|  1|22.0|    1|    1|         3101298|12.2875| null|       S|\n",
            "|        897|     3|Svensson, Mr. Joh...|  0|14.0|    0|    0|            7538|  9.225| null|       S|\n",
            "|        898|     3|Connolly, Miss. Kate|  1|30.0|    0|    0|          330972| 7.6292| null|       Q|\n",
            "|        899|     2|Caldwell, Mr. Alb...|  0|26.0|    1|    1|          248738|   29.0| null|       S|\n",
            "|        900|     3|Abrahim, Mrs. Jos...|  1|18.0|    0|    0|            2657| 7.2292| null|       C|\n",
            "|        901|     3|Davies, Mr. John ...|  0|21.0|    2|    0|       A/4 48871|  24.15| null|       S|\n",
            "|        902|     3|    Ilieff, Mr. Ylio|  0|null|    0|    0|          349220| 7.8958| null|       S|\n",
            "|        903|     1|Jones, Mr. Charle...|  0|46.0|    0|    0|             694|   26.0| null|       S|\n",
            "|        904|     1|Snyder, Mrs. John...|  1|23.0|    1|    0|           21228|82.2667|  B45|       S|\n",
            "|        905|     2|Howard, Mr. Benjamin|  0|63.0|    1|    0|           24065|   26.0| null|       S|\n",
            "|        906|     1|Chaffee, Mrs. Her...|  1|47.0|    1|    0|     W.E.P. 5734| 61.175|  E31|       S|\n",
            "|        907|     2|del Carlo, Mrs. S...|  1|24.0|    1|    0|   SC/PARIS 2167|27.7208| null|       C|\n",
            "|        908|     2|   Keane, Mr. Daniel|  0|35.0|    0|    0|          233734|  12.35| null|       Q|\n",
            "|        909|     3|   Assaf, Mr. Gerios|  0|21.0|    0|    0|            2692|  7.225| null|       C|\n",
            "|        910|     3|Ilmakangas, Miss....|  1|27.0|    1|    0|STON/O2. 3101270|  7.925| null|       S|\n",
            "|        911|     3|Assaf Khalil, Mrs...|  1|45.0|    0|    0|            2696|  7.225| null|       C|\n",
            "+-----------+------+--------------------+---+----+-----+-----+----------------+-------+-----+--------+\n",
            "only showing top 20 rows\n",
            "\n"
          ]
        }
      ]
    },
    {
      "cell_type": "markdown",
      "source": [
        "Now, we need to drop the columns that we don't need and keep the features in addition to the PassengerID, which we are going to use in our final prediction resulted dataframe"
      ],
      "metadata": {
        "id": "OVl-rediqL0M"
      }
    },
    {
      "cell_type": "code",
      "source": [
        "df_train_num_dropped = df_train_num.drop('Name', 'Ticket', 'Fare', 'Cabin', 'Embarked')\n",
        "df_train_num_dropped.show()"
      ],
      "metadata": {
        "colab": {
          "base_uri": "https://localhost:8080/"
        },
        "id": "9woFZffDqzAT",
        "outputId": "9d36ef55-a9a4-4c88-c729-9ccfa4f6fbe4"
      },
      "execution_count": 48,
      "outputs": [
        {
          "output_type": "stream",
          "name": "stdout",
          "text": [
            "+-----------+--------+------+---+----+-----+-----+\n",
            "|PassengerId|Survived|Pclass|Sex| Age|SibSp|Parch|\n",
            "+-----------+--------+------+---+----+-----+-----+\n",
            "|          1|       0|     3|  0|22.0|    1|    0|\n",
            "|          2|       1|     1|  1|38.0|    1|    0|\n",
            "|          3|       1|     3|  1|26.0|    0|    0|\n",
            "|          4|       1|     1|  1|35.0|    1|    0|\n",
            "|          5|       0|     3|  0|35.0|    0|    0|\n",
            "|          6|       0|     3|  0|null|    0|    0|\n",
            "|          7|       0|     1|  0|54.0|    0|    0|\n",
            "|          8|       0|     3|  0| 2.0|    3|    1|\n",
            "|          9|       1|     3|  1|27.0|    0|    2|\n",
            "|         10|       1|     2|  1|14.0|    1|    0|\n",
            "|         11|       1|     3|  1| 4.0|    1|    1|\n",
            "|         12|       1|     1|  1|58.0|    0|    0|\n",
            "|         13|       0|     3|  0|20.0|    0|    0|\n",
            "|         14|       0|     3|  0|39.0|    1|    5|\n",
            "|         15|       0|     3|  1|14.0|    0|    0|\n",
            "|         16|       1|     2|  1|55.0|    0|    0|\n",
            "|         17|       0|     3|  0| 2.0|    4|    1|\n",
            "|         18|       1|     2|  0|null|    0|    0|\n",
            "|         19|       0|     3|  1|31.0|    1|    0|\n",
            "|         20|       1|     3|  1|null|    0|    0|\n",
            "+-----------+--------+------+---+----+-----+-----+\n",
            "only showing top 20 rows\n",
            "\n"
          ]
        }
      ]
    },
    {
      "cell_type": "code",
      "source": [
        "df_test_num_dropped = df_test_num.drop('Name', 'Ticket', 'Fare', 'Cabin', 'Embarked')\n",
        "df_test_num_dropped.show()"
      ],
      "metadata": {
        "colab": {
          "base_uri": "https://localhost:8080/"
        },
        "id": "wDc7QQe-rTDW",
        "outputId": "6c5404ba-e7ca-4f80-b2c5-30319b843135"
      },
      "execution_count": 49,
      "outputs": [
        {
          "output_type": "stream",
          "name": "stdout",
          "text": [
            "+-----------+------+---+----+-----+-----+\n",
            "|PassengerId|Pclass|Sex| Age|SibSp|Parch|\n",
            "+-----------+------+---+----+-----+-----+\n",
            "|        892|     3|  0|34.5|    0|    0|\n",
            "|        893|     3|  1|47.0|    1|    0|\n",
            "|        894|     2|  0|62.0|    0|    0|\n",
            "|        895|     3|  0|27.0|    0|    0|\n",
            "|        896|     3|  1|22.0|    1|    1|\n",
            "|        897|     3|  0|14.0|    0|    0|\n",
            "|        898|     3|  1|30.0|    0|    0|\n",
            "|        899|     2|  0|26.0|    1|    1|\n",
            "|        900|     3|  1|18.0|    0|    0|\n",
            "|        901|     3|  0|21.0|    2|    0|\n",
            "|        902|     3|  0|null|    0|    0|\n",
            "|        903|     1|  0|46.0|    0|    0|\n",
            "|        904|     1|  1|23.0|    1|    0|\n",
            "|        905|     2|  0|63.0|    1|    0|\n",
            "|        906|     1|  1|47.0|    1|    0|\n",
            "|        907|     2|  1|24.0|    1|    0|\n",
            "|        908|     2|  0|35.0|    0|    0|\n",
            "|        909|     3|  0|21.0|    0|    0|\n",
            "|        910|     3|  1|27.0|    1|    0|\n",
            "|        911|     3|  1|45.0|    0|    0|\n",
            "+-----------+------+---+----+-----+-----+\n",
            "only showing top 20 rows\n",
            "\n"
          ]
        }
      ]
    },
    {
      "cell_type": "code",
      "source": [
        "# Let's get rid of the null values in Age\n",
        "\n",
        "df_train_num_dropped.createOrReplaceTempView(\"df_train_num_dropped\")\n",
        "df_train_updated = spark.sql(\"select * from df_train_num_dropped where Age is not null\")\n",
        "df_train_updated.show()"
      ],
      "metadata": {
        "colab": {
          "base_uri": "https://localhost:8080/"
        },
        "id": "irpxo5vWrxYl",
        "outputId": "a3994b6c-c3cc-49a9-b20d-3e3608e4969a"
      },
      "execution_count": 50,
      "outputs": [
        {
          "output_type": "stream",
          "name": "stdout",
          "text": [
            "+-----------+--------+------+---+----+-----+-----+\n",
            "|PassengerId|Survived|Pclass|Sex| Age|SibSp|Parch|\n",
            "+-----------+--------+------+---+----+-----+-----+\n",
            "|          1|       0|     3|  0|22.0|    1|    0|\n",
            "|          2|       1|     1|  1|38.0|    1|    0|\n",
            "|          3|       1|     3|  1|26.0|    0|    0|\n",
            "|          4|       1|     1|  1|35.0|    1|    0|\n",
            "|          5|       0|     3|  0|35.0|    0|    0|\n",
            "|          7|       0|     1|  0|54.0|    0|    0|\n",
            "|          8|       0|     3|  0| 2.0|    3|    1|\n",
            "|          9|       1|     3|  1|27.0|    0|    2|\n",
            "|         10|       1|     2|  1|14.0|    1|    0|\n",
            "|         11|       1|     3|  1| 4.0|    1|    1|\n",
            "|         12|       1|     1|  1|58.0|    0|    0|\n",
            "|         13|       0|     3|  0|20.0|    0|    0|\n",
            "|         14|       0|     3|  0|39.0|    1|    5|\n",
            "|         15|       0|     3|  1|14.0|    0|    0|\n",
            "|         16|       1|     2|  1|55.0|    0|    0|\n",
            "|         17|       0|     3|  0| 2.0|    4|    1|\n",
            "|         19|       0|     3|  1|31.0|    1|    0|\n",
            "|         21|       0|     2|  0|35.0|    0|    0|\n",
            "|         22|       1|     2|  0|34.0|    0|    0|\n",
            "|         23|       1|     3|  1|15.0|    0|    0|\n",
            "+-----------+--------+------+---+----+-----+-----+\n",
            "only showing top 20 rows\n",
            "\n"
          ]
        }
      ]
    },
    {
      "cell_type": "code",
      "source": [
        "# The same for the test set\n",
        "\n",
        "df_test_num_dropped.createOrReplaceTempView(\"df_test_num_dropped\")\n",
        "df_test_updated = spark.sql(\"select PassengerId, Pclass, Sex, Age, SibSp, Parch from df_test_num_dropped where Age is not null\")\n",
        "df_test_updated.show()"
      ],
      "metadata": {
        "colab": {
          "base_uri": "https://localhost:8080/"
        },
        "id": "SwQTnxA9wVPX",
        "outputId": "6e5342fa-4019-445c-de85-0fb5db9fc2fe"
      },
      "execution_count": 51,
      "outputs": [
        {
          "output_type": "stream",
          "name": "stdout",
          "text": [
            "+-----------+------+---+----+-----+-----+\n",
            "|PassengerId|Pclass|Sex| Age|SibSp|Parch|\n",
            "+-----------+------+---+----+-----+-----+\n",
            "|        892|     3|  0|34.5|    0|    0|\n",
            "|        893|     3|  1|47.0|    1|    0|\n",
            "|        894|     2|  0|62.0|    0|    0|\n",
            "|        895|     3|  0|27.0|    0|    0|\n",
            "|        896|     3|  1|22.0|    1|    1|\n",
            "|        897|     3|  0|14.0|    0|    0|\n",
            "|        898|     3|  1|30.0|    0|    0|\n",
            "|        899|     2|  0|26.0|    1|    1|\n",
            "|        900|     3|  1|18.0|    0|    0|\n",
            "|        901|     3|  0|21.0|    2|    0|\n",
            "|        903|     1|  0|46.0|    0|    0|\n",
            "|        904|     1|  1|23.0|    1|    0|\n",
            "|        905|     2|  0|63.0|    1|    0|\n",
            "|        906|     1|  1|47.0|    1|    0|\n",
            "|        907|     2|  1|24.0|    1|    0|\n",
            "|        908|     2|  0|35.0|    0|    0|\n",
            "|        909|     3|  0|21.0|    0|    0|\n",
            "|        910|     3|  1|27.0|    1|    0|\n",
            "|        911|     3|  1|45.0|    0|    0|\n",
            "|        912|     1|  0|55.0|    1|    0|\n",
            "+-----------+------+---+----+-----+-----+\n",
            "only showing top 20 rows\n",
            "\n"
          ]
        }
      ]
    },
    {
      "cell_type": "markdown",
      "source": [
        "In order to fit and to predict this model, I have to convert the spark dataframes for both the training features and the target (Survived) to pnadas, as using spark the fit/predict is throwing an error."
      ],
      "metadata": {
        "id": "1rjOYqCXgaNd"
      }
    },
    {
      "cell_type": "code",
      "source": [
        "# Converting the training dataframe to pandas\n",
        "\n",
        "df_train_updated.createOrReplaceTempView(\"df_train_updated\")\n",
        "df_train_updated_features = spark.sql(\"select Pclass, Sex, Age, SibSp, Parch from df_train_updated\")\n",
        "\n",
        "df_train_updated_features_pd = df_train_updated_features.toPandas()\n",
        "df_train_updated_features_pd"
      ],
      "metadata": {
        "colab": {
          "base_uri": "https://localhost:8080/",
          "height": 424
        },
        "id": "9Hp87Pwtalvr",
        "outputId": "e22bd377-14ed-4202-bb1d-067ed1d6765c"
      },
      "execution_count": 52,
      "outputs": [
        {
          "output_type": "execute_result",
          "data": {
            "text/plain": [
              "     Pclass  Sex   Age  SibSp  Parch\n",
              "0         3    0  22.0      1      0\n",
              "1         1    1  38.0      1      0\n",
              "2         3    1  26.0      0      0\n",
              "3         1    1  35.0      1      0\n",
              "4         3    0  35.0      0      0\n",
              "..      ...  ...   ...    ...    ...\n",
              "709       3    1  39.0      0      5\n",
              "710       2    0  27.0      0      0\n",
              "711       1    1  19.0      0      0\n",
              "712       1    0  26.0      0      0\n",
              "713       3    0  32.0      0      0\n",
              "\n",
              "[714 rows x 5 columns]"
            ],
            "text/html": [
              "\n",
              "  <div id=\"df-245244f1-d022-40d3-84ba-eb5858f71209\">\n",
              "    <div class=\"colab-df-container\">\n",
              "      <div>\n",
              "<style scoped>\n",
              "    .dataframe tbody tr th:only-of-type {\n",
              "        vertical-align: middle;\n",
              "    }\n",
              "\n",
              "    .dataframe tbody tr th {\n",
              "        vertical-align: top;\n",
              "    }\n",
              "\n",
              "    .dataframe thead th {\n",
              "        text-align: right;\n",
              "    }\n",
              "</style>\n",
              "<table border=\"1\" class=\"dataframe\">\n",
              "  <thead>\n",
              "    <tr style=\"text-align: right;\">\n",
              "      <th></th>\n",
              "      <th>Pclass</th>\n",
              "      <th>Sex</th>\n",
              "      <th>Age</th>\n",
              "      <th>SibSp</th>\n",
              "      <th>Parch</th>\n",
              "    </tr>\n",
              "  </thead>\n",
              "  <tbody>\n",
              "    <tr>\n",
              "      <th>0</th>\n",
              "      <td>3</td>\n",
              "      <td>0</td>\n",
              "      <td>22.0</td>\n",
              "      <td>1</td>\n",
              "      <td>0</td>\n",
              "    </tr>\n",
              "    <tr>\n",
              "      <th>1</th>\n",
              "      <td>1</td>\n",
              "      <td>1</td>\n",
              "      <td>38.0</td>\n",
              "      <td>1</td>\n",
              "      <td>0</td>\n",
              "    </tr>\n",
              "    <tr>\n",
              "      <th>2</th>\n",
              "      <td>3</td>\n",
              "      <td>1</td>\n",
              "      <td>26.0</td>\n",
              "      <td>0</td>\n",
              "      <td>0</td>\n",
              "    </tr>\n",
              "    <tr>\n",
              "      <th>3</th>\n",
              "      <td>1</td>\n",
              "      <td>1</td>\n",
              "      <td>35.0</td>\n",
              "      <td>1</td>\n",
              "      <td>0</td>\n",
              "    </tr>\n",
              "    <tr>\n",
              "      <th>4</th>\n",
              "      <td>3</td>\n",
              "      <td>0</td>\n",
              "      <td>35.0</td>\n",
              "      <td>0</td>\n",
              "      <td>0</td>\n",
              "    </tr>\n",
              "    <tr>\n",
              "      <th>...</th>\n",
              "      <td>...</td>\n",
              "      <td>...</td>\n",
              "      <td>...</td>\n",
              "      <td>...</td>\n",
              "      <td>...</td>\n",
              "    </tr>\n",
              "    <tr>\n",
              "      <th>709</th>\n",
              "      <td>3</td>\n",
              "      <td>1</td>\n",
              "      <td>39.0</td>\n",
              "      <td>0</td>\n",
              "      <td>5</td>\n",
              "    </tr>\n",
              "    <tr>\n",
              "      <th>710</th>\n",
              "      <td>2</td>\n",
              "      <td>0</td>\n",
              "      <td>27.0</td>\n",
              "      <td>0</td>\n",
              "      <td>0</td>\n",
              "    </tr>\n",
              "    <tr>\n",
              "      <th>711</th>\n",
              "      <td>1</td>\n",
              "      <td>1</td>\n",
              "      <td>19.0</td>\n",
              "      <td>0</td>\n",
              "      <td>0</td>\n",
              "    </tr>\n",
              "    <tr>\n",
              "      <th>712</th>\n",
              "      <td>1</td>\n",
              "      <td>0</td>\n",
              "      <td>26.0</td>\n",
              "      <td>0</td>\n",
              "      <td>0</td>\n",
              "    </tr>\n",
              "    <tr>\n",
              "      <th>713</th>\n",
              "      <td>3</td>\n",
              "      <td>0</td>\n",
              "      <td>32.0</td>\n",
              "      <td>0</td>\n",
              "      <td>0</td>\n",
              "    </tr>\n",
              "  </tbody>\n",
              "</table>\n",
              "<p>714 rows × 5 columns</p>\n",
              "</div>\n",
              "      <button class=\"colab-df-convert\" onclick=\"convertToInteractive('df-245244f1-d022-40d3-84ba-eb5858f71209')\"\n",
              "              title=\"Convert this dataframe to an interactive table.\"\n",
              "              style=\"display:none;\">\n",
              "        \n",
              "  <svg xmlns=\"http://www.w3.org/2000/svg\" height=\"24px\"viewBox=\"0 0 24 24\"\n",
              "       width=\"24px\">\n",
              "    <path d=\"M0 0h24v24H0V0z\" fill=\"none\"/>\n",
              "    <path d=\"M18.56 5.44l.94 2.06.94-2.06 2.06-.94-2.06-.94-.94-2.06-.94 2.06-2.06.94zm-11 1L8.5 8.5l.94-2.06 2.06-.94-2.06-.94L8.5 2.5l-.94 2.06-2.06.94zm10 10l.94 2.06.94-2.06 2.06-.94-2.06-.94-.94-2.06-.94 2.06-2.06.94z\"/><path d=\"M17.41 7.96l-1.37-1.37c-.4-.4-.92-.59-1.43-.59-.52 0-1.04.2-1.43.59L10.3 9.45l-7.72 7.72c-.78.78-.78 2.05 0 2.83L4 21.41c.39.39.9.59 1.41.59.51 0 1.02-.2 1.41-.59l7.78-7.78 2.81-2.81c.8-.78.8-2.07 0-2.86zM5.41 20L4 18.59l7.72-7.72 1.47 1.35L5.41 20z\"/>\n",
              "  </svg>\n",
              "      </button>\n",
              "      \n",
              "  <style>\n",
              "    .colab-df-container {\n",
              "      display:flex;\n",
              "      flex-wrap:wrap;\n",
              "      gap: 12px;\n",
              "    }\n",
              "\n",
              "    .colab-df-convert {\n",
              "      background-color: #E8F0FE;\n",
              "      border: none;\n",
              "      border-radius: 50%;\n",
              "      cursor: pointer;\n",
              "      display: none;\n",
              "      fill: #1967D2;\n",
              "      height: 32px;\n",
              "      padding: 0 0 0 0;\n",
              "      width: 32px;\n",
              "    }\n",
              "\n",
              "    .colab-df-convert:hover {\n",
              "      background-color: #E2EBFA;\n",
              "      box-shadow: 0px 1px 2px rgba(60, 64, 67, 0.3), 0px 1px 3px 1px rgba(60, 64, 67, 0.15);\n",
              "      fill: #174EA6;\n",
              "    }\n",
              "\n",
              "    [theme=dark] .colab-df-convert {\n",
              "      background-color: #3B4455;\n",
              "      fill: #D2E3FC;\n",
              "    }\n",
              "\n",
              "    [theme=dark] .colab-df-convert:hover {\n",
              "      background-color: #434B5C;\n",
              "      box-shadow: 0px 1px 3px 1px rgba(0, 0, 0, 0.15);\n",
              "      filter: drop-shadow(0px 1px 2px rgba(0, 0, 0, 0.3));\n",
              "      fill: #FFFFFF;\n",
              "    }\n",
              "  </style>\n",
              "\n",
              "      <script>\n",
              "        const buttonEl =\n",
              "          document.querySelector('#df-245244f1-d022-40d3-84ba-eb5858f71209 button.colab-df-convert');\n",
              "        buttonEl.style.display =\n",
              "          google.colab.kernel.accessAllowed ? 'block' : 'none';\n",
              "\n",
              "        async function convertToInteractive(key) {\n",
              "          const element = document.querySelector('#df-245244f1-d022-40d3-84ba-eb5858f71209');\n",
              "          const dataTable =\n",
              "            await google.colab.kernel.invokeFunction('convertToInteractive',\n",
              "                                                     [key], {});\n",
              "          if (!dataTable) return;\n",
              "\n",
              "          const docLinkHtml = 'Like what you see? Visit the ' +\n",
              "            '<a target=\"_blank\" href=https://colab.research.google.com/notebooks/data_table.ipynb>data table notebook</a>'\n",
              "            + ' to learn more about interactive tables.';\n",
              "          element.innerHTML = '';\n",
              "          dataTable['output_type'] = 'display_data';\n",
              "          await google.colab.output.renderOutput(dataTable, element);\n",
              "          const docLink = document.createElement('div');\n",
              "          docLink.innerHTML = docLinkHtml;\n",
              "          element.appendChild(docLink);\n",
              "        }\n",
              "      </script>\n",
              "    </div>\n",
              "  </div>\n",
              "  "
            ]
          },
          "metadata": {},
          "execution_count": 52
        }
      ]
    },
    {
      "cell_type": "code",
      "source": [
        "# Creating the features dataframe of the test set and converting it to pandas\n",
        "\n",
        "df_test_updated.createOrReplaceTempView(\"df_test_updated\")\n",
        "df_test_features = spark.sql('select Pclass, Sex, Age, SibSp, Parch from df_train_updated')\n",
        "\n",
        "df_test_features_pd = df_test_features.toPandas()\n",
        "df_test_features_pd"
      ],
      "metadata": {
        "colab": {
          "base_uri": "https://localhost:8080/",
          "height": 424
        },
        "id": "9GYgyZ_OyGNp",
        "outputId": "d91c3679-1908-4ccc-ad64-b6791c6cbd50"
      },
      "execution_count": 53,
      "outputs": [
        {
          "output_type": "execute_result",
          "data": {
            "text/plain": [
              "     Pclass  Sex   Age  SibSp  Parch\n",
              "0         3    0  22.0      1      0\n",
              "1         1    1  38.0      1      0\n",
              "2         3    1  26.0      0      0\n",
              "3         1    1  35.0      1      0\n",
              "4         3    0  35.0      0      0\n",
              "..      ...  ...   ...    ...    ...\n",
              "709       3    1  39.0      0      5\n",
              "710       2    0  27.0      0      0\n",
              "711       1    1  19.0      0      0\n",
              "712       1    0  26.0      0      0\n",
              "713       3    0  32.0      0      0\n",
              "\n",
              "[714 rows x 5 columns]"
            ],
            "text/html": [
              "\n",
              "  <div id=\"df-1444ca3b-b705-423b-a269-32919cc0a519\">\n",
              "    <div class=\"colab-df-container\">\n",
              "      <div>\n",
              "<style scoped>\n",
              "    .dataframe tbody tr th:only-of-type {\n",
              "        vertical-align: middle;\n",
              "    }\n",
              "\n",
              "    .dataframe tbody tr th {\n",
              "        vertical-align: top;\n",
              "    }\n",
              "\n",
              "    .dataframe thead th {\n",
              "        text-align: right;\n",
              "    }\n",
              "</style>\n",
              "<table border=\"1\" class=\"dataframe\">\n",
              "  <thead>\n",
              "    <tr style=\"text-align: right;\">\n",
              "      <th></th>\n",
              "      <th>Pclass</th>\n",
              "      <th>Sex</th>\n",
              "      <th>Age</th>\n",
              "      <th>SibSp</th>\n",
              "      <th>Parch</th>\n",
              "    </tr>\n",
              "  </thead>\n",
              "  <tbody>\n",
              "    <tr>\n",
              "      <th>0</th>\n",
              "      <td>3</td>\n",
              "      <td>0</td>\n",
              "      <td>22.0</td>\n",
              "      <td>1</td>\n",
              "      <td>0</td>\n",
              "    </tr>\n",
              "    <tr>\n",
              "      <th>1</th>\n",
              "      <td>1</td>\n",
              "      <td>1</td>\n",
              "      <td>38.0</td>\n",
              "      <td>1</td>\n",
              "      <td>0</td>\n",
              "    </tr>\n",
              "    <tr>\n",
              "      <th>2</th>\n",
              "      <td>3</td>\n",
              "      <td>1</td>\n",
              "      <td>26.0</td>\n",
              "      <td>0</td>\n",
              "      <td>0</td>\n",
              "    </tr>\n",
              "    <tr>\n",
              "      <th>3</th>\n",
              "      <td>1</td>\n",
              "      <td>1</td>\n",
              "      <td>35.0</td>\n",
              "      <td>1</td>\n",
              "      <td>0</td>\n",
              "    </tr>\n",
              "    <tr>\n",
              "      <th>4</th>\n",
              "      <td>3</td>\n",
              "      <td>0</td>\n",
              "      <td>35.0</td>\n",
              "      <td>0</td>\n",
              "      <td>0</td>\n",
              "    </tr>\n",
              "    <tr>\n",
              "      <th>...</th>\n",
              "      <td>...</td>\n",
              "      <td>...</td>\n",
              "      <td>...</td>\n",
              "      <td>...</td>\n",
              "      <td>...</td>\n",
              "    </tr>\n",
              "    <tr>\n",
              "      <th>709</th>\n",
              "      <td>3</td>\n",
              "      <td>1</td>\n",
              "      <td>39.0</td>\n",
              "      <td>0</td>\n",
              "      <td>5</td>\n",
              "    </tr>\n",
              "    <tr>\n",
              "      <th>710</th>\n",
              "      <td>2</td>\n",
              "      <td>0</td>\n",
              "      <td>27.0</td>\n",
              "      <td>0</td>\n",
              "      <td>0</td>\n",
              "    </tr>\n",
              "    <tr>\n",
              "      <th>711</th>\n",
              "      <td>1</td>\n",
              "      <td>1</td>\n",
              "      <td>19.0</td>\n",
              "      <td>0</td>\n",
              "      <td>0</td>\n",
              "    </tr>\n",
              "    <tr>\n",
              "      <th>712</th>\n",
              "      <td>1</td>\n",
              "      <td>0</td>\n",
              "      <td>26.0</td>\n",
              "      <td>0</td>\n",
              "      <td>0</td>\n",
              "    </tr>\n",
              "    <tr>\n",
              "      <th>713</th>\n",
              "      <td>3</td>\n",
              "      <td>0</td>\n",
              "      <td>32.0</td>\n",
              "      <td>0</td>\n",
              "      <td>0</td>\n",
              "    </tr>\n",
              "  </tbody>\n",
              "</table>\n",
              "<p>714 rows × 5 columns</p>\n",
              "</div>\n",
              "      <button class=\"colab-df-convert\" onclick=\"convertToInteractive('df-1444ca3b-b705-423b-a269-32919cc0a519')\"\n",
              "              title=\"Convert this dataframe to an interactive table.\"\n",
              "              style=\"display:none;\">\n",
              "        \n",
              "  <svg xmlns=\"http://www.w3.org/2000/svg\" height=\"24px\"viewBox=\"0 0 24 24\"\n",
              "       width=\"24px\">\n",
              "    <path d=\"M0 0h24v24H0V0z\" fill=\"none\"/>\n",
              "    <path d=\"M18.56 5.44l.94 2.06.94-2.06 2.06-.94-2.06-.94-.94-2.06-.94 2.06-2.06.94zm-11 1L8.5 8.5l.94-2.06 2.06-.94-2.06-.94L8.5 2.5l-.94 2.06-2.06.94zm10 10l.94 2.06.94-2.06 2.06-.94-2.06-.94-.94-2.06-.94 2.06-2.06.94z\"/><path d=\"M17.41 7.96l-1.37-1.37c-.4-.4-.92-.59-1.43-.59-.52 0-1.04.2-1.43.59L10.3 9.45l-7.72 7.72c-.78.78-.78 2.05 0 2.83L4 21.41c.39.39.9.59 1.41.59.51 0 1.02-.2 1.41-.59l7.78-7.78 2.81-2.81c.8-.78.8-2.07 0-2.86zM5.41 20L4 18.59l7.72-7.72 1.47 1.35L5.41 20z\"/>\n",
              "  </svg>\n",
              "      </button>\n",
              "      \n",
              "  <style>\n",
              "    .colab-df-container {\n",
              "      display:flex;\n",
              "      flex-wrap:wrap;\n",
              "      gap: 12px;\n",
              "    }\n",
              "\n",
              "    .colab-df-convert {\n",
              "      background-color: #E8F0FE;\n",
              "      border: none;\n",
              "      border-radius: 50%;\n",
              "      cursor: pointer;\n",
              "      display: none;\n",
              "      fill: #1967D2;\n",
              "      height: 32px;\n",
              "      padding: 0 0 0 0;\n",
              "      width: 32px;\n",
              "    }\n",
              "\n",
              "    .colab-df-convert:hover {\n",
              "      background-color: #E2EBFA;\n",
              "      box-shadow: 0px 1px 2px rgba(60, 64, 67, 0.3), 0px 1px 3px 1px rgba(60, 64, 67, 0.15);\n",
              "      fill: #174EA6;\n",
              "    }\n",
              "\n",
              "    [theme=dark] .colab-df-convert {\n",
              "      background-color: #3B4455;\n",
              "      fill: #D2E3FC;\n",
              "    }\n",
              "\n",
              "    [theme=dark] .colab-df-convert:hover {\n",
              "      background-color: #434B5C;\n",
              "      box-shadow: 0px 1px 3px 1px rgba(0, 0, 0, 0.15);\n",
              "      filter: drop-shadow(0px 1px 2px rgba(0, 0, 0, 0.3));\n",
              "      fill: #FFFFFF;\n",
              "    }\n",
              "  </style>\n",
              "\n",
              "      <script>\n",
              "        const buttonEl =\n",
              "          document.querySelector('#df-1444ca3b-b705-423b-a269-32919cc0a519 button.colab-df-convert');\n",
              "        buttonEl.style.display =\n",
              "          google.colab.kernel.accessAllowed ? 'block' : 'none';\n",
              "\n",
              "        async function convertToInteractive(key) {\n",
              "          const element = document.querySelector('#df-1444ca3b-b705-423b-a269-32919cc0a519');\n",
              "          const dataTable =\n",
              "            await google.colab.kernel.invokeFunction('convertToInteractive',\n",
              "                                                     [key], {});\n",
              "          if (!dataTable) return;\n",
              "\n",
              "          const docLinkHtml = 'Like what you see? Visit the ' +\n",
              "            '<a target=\"_blank\" href=https://colab.research.google.com/notebooks/data_table.ipynb>data table notebook</a>'\n",
              "            + ' to learn more about interactive tables.';\n",
              "          element.innerHTML = '';\n",
              "          dataTable['output_type'] = 'display_data';\n",
              "          await google.colab.output.renderOutput(dataTable, element);\n",
              "          const docLink = document.createElement('div');\n",
              "          docLink.innerHTML = docLinkHtml;\n",
              "          element.appendChild(docLink);\n",
              "        }\n",
              "      </script>\n",
              "    </div>\n",
              "  </div>\n",
              "  "
            ]
          },
          "metadata": {},
          "execution_count": 53
        }
      ]
    },
    {
      "cell_type": "code",
      "source": [
        "# Creating the target dataframe and converting it to pandas\n",
        "\n",
        "df_train_updated.createOrReplaceTempView(\"df_train_updated\")\n",
        "target = spark.sql(\"select Survived from df_train_updated\")\n",
        "\n",
        "target_pd = target.toPandas()\n",
        "target_pd"
      ],
      "metadata": {
        "colab": {
          "base_uri": "https://localhost:8080/",
          "height": 424
        },
        "id": "hfpUTIzjcf35",
        "outputId": "e3953db8-5f4d-4c63-db27-2fa126496034"
      },
      "execution_count": 54,
      "outputs": [
        {
          "output_type": "execute_result",
          "data": {
            "text/plain": [
              "     Survived\n",
              "0           0\n",
              "1           1\n",
              "2           1\n",
              "3           1\n",
              "4           0\n",
              "..        ...\n",
              "709         0\n",
              "710         0\n",
              "711         1\n",
              "712         1\n",
              "713         0\n",
              "\n",
              "[714 rows x 1 columns]"
            ],
            "text/html": [
              "\n",
              "  <div id=\"df-d085be6e-7a79-4dcc-801f-eff649831293\">\n",
              "    <div class=\"colab-df-container\">\n",
              "      <div>\n",
              "<style scoped>\n",
              "    .dataframe tbody tr th:only-of-type {\n",
              "        vertical-align: middle;\n",
              "    }\n",
              "\n",
              "    .dataframe tbody tr th {\n",
              "        vertical-align: top;\n",
              "    }\n",
              "\n",
              "    .dataframe thead th {\n",
              "        text-align: right;\n",
              "    }\n",
              "</style>\n",
              "<table border=\"1\" class=\"dataframe\">\n",
              "  <thead>\n",
              "    <tr style=\"text-align: right;\">\n",
              "      <th></th>\n",
              "      <th>Survived</th>\n",
              "    </tr>\n",
              "  </thead>\n",
              "  <tbody>\n",
              "    <tr>\n",
              "      <th>0</th>\n",
              "      <td>0</td>\n",
              "    </tr>\n",
              "    <tr>\n",
              "      <th>1</th>\n",
              "      <td>1</td>\n",
              "    </tr>\n",
              "    <tr>\n",
              "      <th>2</th>\n",
              "      <td>1</td>\n",
              "    </tr>\n",
              "    <tr>\n",
              "      <th>3</th>\n",
              "      <td>1</td>\n",
              "    </tr>\n",
              "    <tr>\n",
              "      <th>4</th>\n",
              "      <td>0</td>\n",
              "    </tr>\n",
              "    <tr>\n",
              "      <th>...</th>\n",
              "      <td>...</td>\n",
              "    </tr>\n",
              "    <tr>\n",
              "      <th>709</th>\n",
              "      <td>0</td>\n",
              "    </tr>\n",
              "    <tr>\n",
              "      <th>710</th>\n",
              "      <td>0</td>\n",
              "    </tr>\n",
              "    <tr>\n",
              "      <th>711</th>\n",
              "      <td>1</td>\n",
              "    </tr>\n",
              "    <tr>\n",
              "      <th>712</th>\n",
              "      <td>1</td>\n",
              "    </tr>\n",
              "    <tr>\n",
              "      <th>713</th>\n",
              "      <td>0</td>\n",
              "    </tr>\n",
              "  </tbody>\n",
              "</table>\n",
              "<p>714 rows × 1 columns</p>\n",
              "</div>\n",
              "      <button class=\"colab-df-convert\" onclick=\"convertToInteractive('df-d085be6e-7a79-4dcc-801f-eff649831293')\"\n",
              "              title=\"Convert this dataframe to an interactive table.\"\n",
              "              style=\"display:none;\">\n",
              "        \n",
              "  <svg xmlns=\"http://www.w3.org/2000/svg\" height=\"24px\"viewBox=\"0 0 24 24\"\n",
              "       width=\"24px\">\n",
              "    <path d=\"M0 0h24v24H0V0z\" fill=\"none\"/>\n",
              "    <path d=\"M18.56 5.44l.94 2.06.94-2.06 2.06-.94-2.06-.94-.94-2.06-.94 2.06-2.06.94zm-11 1L8.5 8.5l.94-2.06 2.06-.94-2.06-.94L8.5 2.5l-.94 2.06-2.06.94zm10 10l.94 2.06.94-2.06 2.06-.94-2.06-.94-.94-2.06-.94 2.06-2.06.94z\"/><path d=\"M17.41 7.96l-1.37-1.37c-.4-.4-.92-.59-1.43-.59-.52 0-1.04.2-1.43.59L10.3 9.45l-7.72 7.72c-.78.78-.78 2.05 0 2.83L4 21.41c.39.39.9.59 1.41.59.51 0 1.02-.2 1.41-.59l7.78-7.78 2.81-2.81c.8-.78.8-2.07 0-2.86zM5.41 20L4 18.59l7.72-7.72 1.47 1.35L5.41 20z\"/>\n",
              "  </svg>\n",
              "      </button>\n",
              "      \n",
              "  <style>\n",
              "    .colab-df-container {\n",
              "      display:flex;\n",
              "      flex-wrap:wrap;\n",
              "      gap: 12px;\n",
              "    }\n",
              "\n",
              "    .colab-df-convert {\n",
              "      background-color: #E8F0FE;\n",
              "      border: none;\n",
              "      border-radius: 50%;\n",
              "      cursor: pointer;\n",
              "      display: none;\n",
              "      fill: #1967D2;\n",
              "      height: 32px;\n",
              "      padding: 0 0 0 0;\n",
              "      width: 32px;\n",
              "    }\n",
              "\n",
              "    .colab-df-convert:hover {\n",
              "      background-color: #E2EBFA;\n",
              "      box-shadow: 0px 1px 2px rgba(60, 64, 67, 0.3), 0px 1px 3px 1px rgba(60, 64, 67, 0.15);\n",
              "      fill: #174EA6;\n",
              "    }\n",
              "\n",
              "    [theme=dark] .colab-df-convert {\n",
              "      background-color: #3B4455;\n",
              "      fill: #D2E3FC;\n",
              "    }\n",
              "\n",
              "    [theme=dark] .colab-df-convert:hover {\n",
              "      background-color: #434B5C;\n",
              "      box-shadow: 0px 1px 3px 1px rgba(0, 0, 0, 0.15);\n",
              "      filter: drop-shadow(0px 1px 2px rgba(0, 0, 0, 0.3));\n",
              "      fill: #FFFFFF;\n",
              "    }\n",
              "  </style>\n",
              "\n",
              "      <script>\n",
              "        const buttonEl =\n",
              "          document.querySelector('#df-d085be6e-7a79-4dcc-801f-eff649831293 button.colab-df-convert');\n",
              "        buttonEl.style.display =\n",
              "          google.colab.kernel.accessAllowed ? 'block' : 'none';\n",
              "\n",
              "        async function convertToInteractive(key) {\n",
              "          const element = document.querySelector('#df-d085be6e-7a79-4dcc-801f-eff649831293');\n",
              "          const dataTable =\n",
              "            await google.colab.kernel.invokeFunction('convertToInteractive',\n",
              "                                                     [key], {});\n",
              "          if (!dataTable) return;\n",
              "\n",
              "          const docLinkHtml = 'Like what you see? Visit the ' +\n",
              "            '<a target=\"_blank\" href=https://colab.research.google.com/notebooks/data_table.ipynb>data table notebook</a>'\n",
              "            + ' to learn more about interactive tables.';\n",
              "          element.innerHTML = '';\n",
              "          dataTable['output_type'] = 'display_data';\n",
              "          await google.colab.output.renderOutput(dataTable, element);\n",
              "          const docLink = document.createElement('div');\n",
              "          docLink.innerHTML = docLinkHtml;\n",
              "          element.appendChild(docLink);\n",
              "        }\n",
              "      </script>\n",
              "    </div>\n",
              "  </div>\n",
              "  "
            ]
          },
          "metadata": {},
          "execution_count": 54
        }
      ]
    },
    {
      "cell_type": "markdown",
      "source": [
        "In this case, since we have labled data, it is preferable to use supurvided ML alogorithm; let's use Random Decision Tree since our prediction is binary. After I have ran few algorithms to compare the f1-score of each, it turns out that among Random Decision Tree, Gradient Boosted Tree, Decision Tree, Support Vector Machine and Linear Regression, the Random Decision Tree gave the highest scores, so we'll go with that."
      ],
      "metadata": {
        "id": "EVWCvBAB53Ir"
      }
    },
    {
      "cell_type": "code",
      "source": [
        "from sklearn.ensemble import RandomForestClassifier\n",
        "\n",
        "rfc = RandomForestClassifier(n_estimators=100, max_depth=5, random_state=1)"
      ],
      "metadata": {
        "id": "xLrXf6npZmOr"
      },
      "execution_count": 55,
      "outputs": []
    },
    {
      "cell_type": "code",
      "source": [
        "model = rfc.fit(df_train_updated_features_pd, target_pd)"
      ],
      "metadata": {
        "colab": {
          "base_uri": "https://localhost:8080/"
        },
        "id": "E1FLu0fUaQhd",
        "outputId": "2b11b79a-178d-4cc9-8c5a-55ffeffae037"
      },
      "execution_count": 56,
      "outputs": [
        {
          "output_type": "stream",
          "name": "stderr",
          "text": [
            "/usr/local/lib/python3.7/dist-packages/ipykernel_launcher.py:1: DataConversionWarning: A column-vector y was passed when a 1d array was expected. Please change the shape of y to (n_samples,), for example using ravel().\n",
            "  \"\"\"Entry point for launching an IPython kernel.\n"
          ]
        }
      ]
    },
    {
      "cell_type": "code",
      "source": [
        "prediction_rfc = model.predict(df_test_features_pd)"
      ],
      "metadata": {
        "id": "zPGPtD_tbcX5"
      },
      "execution_count": 57,
      "outputs": []
    },
    {
      "cell_type": "markdown",
      "source": [
        "Evaluating the model"
      ],
      "metadata": {
        "id": "-fG23zpS7sjo"
      }
    },
    {
      "cell_type": "code",
      "source": [
        "#from sklearn import metrics\n",
        "from sklearn.metrics import accuracy_score\n",
        "from sklearn.metrics import f1_score\n",
        "\n",
        "#accuracy_score(target, prediction)\n",
        "f1_score_rfc = f1_score(target_pd, prediction_rfc)\n",
        "print('The f1 score is:', f1_score_rfc)\n",
        "\n",
        "#SVM_metrics_accuracy = metrics.accuracy_score(w, prediction)\n",
        "#print('Metrics accuracy of SVM is:', SVM_metrics_accuracy)"
      ],
      "metadata": {
        "colab": {
          "base_uri": "https://localhost:8080/"
        },
        "id": "YwBRwjLUClq8",
        "outputId": "0da495cc-3581-42dc-ee8e-ec132d625c5a"
      },
      "execution_count": 58,
      "outputs": [
        {
          "output_type": "stream",
          "name": "stdout",
          "text": [
            "The f1 score is: 0.7861271676300577\n"
          ]
        }
      ]
    },
    {
      "cell_type": "markdown",
      "source": [
        "We see that this model's score is almost 80% which is a very good result!"
      ],
      "metadata": {
        "id": "2V3qcwjJk16-"
      }
    },
    {
      "cell_type": "markdown",
      "source": [
        "We can also visualize our evaluation by showing the Confusion Matrix as follows"
      ],
      "metadata": {
        "id": "Woa7LzzfuC49"
      }
    },
    {
      "cell_type": "code",
      "source": [
        "# Importing the required packages for evaluation\n",
        "\n",
        "from sklearn.metrics import classification_report, confusion_matrix"
      ],
      "metadata": {
        "id": "iTW2eEugu793"
      },
      "execution_count": 75,
      "outputs": []
    },
    {
      "cell_type": "code",
      "source": [
        "# Evaluation function\n",
        "\n",
        "def plot_confusion_matrix(cm, classes,\n",
        "                          normalize=False,\n",
        "                          title='Confusion Matrix',\n",
        "                          cmap=plt.cm.Blues):\n",
        "    if normalize:\n",
        "        cm = cm.astype('float') / cm.sum(axis=1)[:, np.newaxis]\n",
        "        print(\"Normalized confusion matrix\")\n",
        "    else:\n",
        "        print('Confusion matrix, without normalization')\n",
        "\n",
        "    print(cm)"
      ],
      "metadata": {
        "id": "feJGs61Ou4Q1"
      },
      "execution_count": 73,
      "outputs": []
    },
    {
      "cell_type": "code",
      "source": [
        "# Evaluation visualization - Survived is \"1\" and did not survive is \"0\"\n",
        "\n",
        "rfc_cnf_matrix = confusion_matrix(target_pd, prediction_rfc, labels=['1','0'])\n",
        "np.set_printoptions(precision=2)\n",
        "print (classification_report(target_pd, prediction_rfc))"
      ],
      "metadata": {
        "colab": {
          "base_uri": "https://localhost:8080/"
        },
        "id": "xBk2ox-7uBhw",
        "outputId": "2bef5861-090f-4fb1-a6f8-d7cc022bfa12"
      },
      "execution_count": 74,
      "outputs": [
        {
          "output_type": "stream",
          "name": "stdout",
          "text": [
            "              precision    recall  f1-score   support\n",
            "\n",
            "           0       0.82      0.94      0.88       424\n",
            "           1       0.89      0.70      0.79       290\n",
            "\n",
            "    accuracy                           0.84       714\n",
            "   macro avg       0.86      0.82      0.83       714\n",
            "weighted avg       0.85      0.84      0.84       714\n",
            "\n"
          ]
        }
      ]
    },
    {
      "cell_type": "markdown",
      "source": [
        "The Confusion Matrix above shows a very good score for both precision and recall, and a metrics accuracy of 84% - the metrics accuracy shows how good our classifer is in classifying observations and predicting."
      ],
      "metadata": {
        "id": "4D28OJXcwKQx"
      }
    }
  ]
}