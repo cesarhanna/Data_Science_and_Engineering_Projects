{
 "cells": [
  {
   "cell_type": "markdown",
   "id": "37a26d76-3a21-432f-8dda-e939368a8ece",
   "metadata": {
    "id": "37a26d76-3a21-432f-8dda-e939368a8ece"
   },
   "source": [
    "## Spam Checker - ML Model"
   ]
  },
  {
   "cell_type": "markdown",
   "id": "1a6ca550-e8ba-4ec2-979a-087958470f5d",
   "metadata": {
    "id": "1a6ca550-e8ba-4ec2-979a-087958470f5d"
   },
   "source": [
    "Author: Cesar Hanna"
   ]
  },
  {
   "cell_type": "markdown",
   "id": "d400d274-9e55-4aef-b535-9934afa4c90a",
   "metadata": {
    "id": "d400d274-9e55-4aef-b535-9934afa4c90a"
   },
   "source": [
    "<br>"
   ]
  },
  {
   "cell_type": "markdown",
   "id": "6cfcb747-2f7a-4096-98d6-6ad279ede6c1",
   "metadata": {
    "id": "6cfcb747-2f7a-4096-98d6-6ad279ede6c1"
   },
   "source": [
    "##### Importing the necessary libraries"
   ]
  },
  {
   "cell_type": "code",
   "execution_count": 4,
   "id": "d687b407-b496-4cc5-b8d6-63ffb5bccb41",
   "metadata": {
    "id": "d687b407-b496-4cc5-b8d6-63ffb5bccb41"
   },
   "outputs": [],
   "source": [
    "import pandas as pd\n",
    "import numpy as np\n",
    "from wordcloud import WordCloud, STOPWORDS\n",
    "import matplotlib.pyplot as plt\n",
    "import re\n",
    "from colorama import Fore"
   ]
  },
  {
   "cell_type": "markdown",
   "id": "309c6ea4-df12-4d88-a5e6-7d892eeb40a3",
   "metadata": {
    "id": "309c6ea4-df12-4d88-a5e6-7d892eeb40a3"
   },
   "source": [
    "##### This code takes the original dataset, wrangles it and creates a dataset that splits the message content from its category."
   ]
  },
  {
   "cell_type": "code",
   "execution_count": 169,
   "id": "3ba7396e-8ba9-42f4-a297-0dfcb345b826",
   "metadata": {
    "id": "3ba7396e-8ba9-42f4-a297-0dfcb345b826"
   },
   "outputs": [],
   "source": [
    "def create_dataset(dataset_path):\n",
    "    # Reading the file into csv format:\n",
    "    spam_dataset = pd.read_csv(dataset_path, sep=\"delimiter\", header=None, engine='python', encoding='utf-8')\n",
    "\n",
    "    # Initializing the required variables and lists:\n",
    "    row = \"\"\n",
    "    first_col = []\n",
    "    second_col = []\n",
    "\n",
    "    # Creating the dataset that entails 2 columns, Message Content and Category:\n",
    "    for i in spam_dataset[0]:\n",
    "        row = i.split(\"\\t\")\n",
    "        first_col.append(row[0])\n",
    "        second_col.append(row[1])\n",
    "    new_df = pd.DataFrame(first_col, second_col).reset_index(drop=True)\n",
    "    new_df_updated = new_df.rename(columns={0: 'Category'})\n",
    "    new_df_updated['Message Content'] = second_col\n",
    "    new_df_updated_reordered = new_df_updated[['Message Content', 'Category']]\n",
    "\n",
    "    # Returning the dataframe for further processing:\n",
    "    return new_df_updated_reordered"
   ]
  },
  {
   "cell_type": "markdown",
   "id": "f9dd6612-692e-4f2d-8d89-50ed26d82f70",
   "metadata": {},
   "source": [
    "##### Using the raw data that is in the form of txt and creating the required dataset for further processing. The data is exctracted from UC Urvine Machine Learning Repository https://archive.ics.uci.edu/dataset/228/sms+spam+collection which contains real SMS labeled messages that have been collected for mobile phone spam research."
   ]
  },
  {
   "cell_type": "code",
   "execution_count": 172,
   "id": "29b05b82-e7f0-4010-8f1e-c8744b1f03c0",
   "metadata": {
    "colab": {
     "base_uri": "https://localhost:8080/",
     "height": 423
    },
    "id": "29b05b82-e7f0-4010-8f1e-c8744b1f03c0",
    "outputId": "2b72894d-8e72-4780-be6c-8249d531ce7d"
   },
   "outputs": [
    {
     "data": {
      "text/html": [
       "<div>\n",
       "<style scoped>\n",
       "    .dataframe tbody tr th:only-of-type {\n",
       "        vertical-align: middle;\n",
       "    }\n",
       "\n",
       "    .dataframe tbody tr th {\n",
       "        vertical-align: top;\n",
       "    }\n",
       "\n",
       "    .dataframe thead th {\n",
       "        text-align: right;\n",
       "    }\n",
       "</style>\n",
       "<table border=\"1\" class=\"dataframe\">\n",
       "  <thead>\n",
       "    <tr style=\"text-align: right;\">\n",
       "      <th></th>\n",
       "      <th>Message Content</th>\n",
       "      <th>Category</th>\n",
       "    </tr>\n",
       "  </thead>\n",
       "  <tbody>\n",
       "    <tr>\n",
       "      <th>0</th>\n",
       "      <td>Go until jurong point, crazy.. Available only ...</td>\n",
       "      <td>ham</td>\n",
       "    </tr>\n",
       "    <tr>\n",
       "      <th>1</th>\n",
       "      <td>Ok lar... Joking wif u oni...</td>\n",
       "      <td>ham</td>\n",
       "    </tr>\n",
       "    <tr>\n",
       "      <th>2</th>\n",
       "      <td>Free entry in 2 a wkly comp to win FA Cup fina...</td>\n",
       "      <td>spam</td>\n",
       "    </tr>\n",
       "    <tr>\n",
       "      <th>3</th>\n",
       "      <td>U dun say so early hor... U c already then say...</td>\n",
       "      <td>ham</td>\n",
       "    </tr>\n",
       "    <tr>\n",
       "      <th>4</th>\n",
       "      <td>Nah I don't think he goes to usf, he lives aro...</td>\n",
       "      <td>ham</td>\n",
       "    </tr>\n",
       "    <tr>\n",
       "      <th>...</th>\n",
       "      <td>...</td>\n",
       "      <td>...</td>\n",
       "    </tr>\n",
       "    <tr>\n",
       "      <th>5569</th>\n",
       "      <td>This is the 2nd time we have tried 2 contact u...</td>\n",
       "      <td>spam</td>\n",
       "    </tr>\n",
       "    <tr>\n",
       "      <th>5570</th>\n",
       "      <td>Will ü b going to esplanade fr home?</td>\n",
       "      <td>ham</td>\n",
       "    </tr>\n",
       "    <tr>\n",
       "      <th>5571</th>\n",
       "      <td>Pity, * was in mood for that. So...any other s...</td>\n",
       "      <td>ham</td>\n",
       "    </tr>\n",
       "    <tr>\n",
       "      <th>5572</th>\n",
       "      <td>The guy did some bitching but I acted like i'd...</td>\n",
       "      <td>ham</td>\n",
       "    </tr>\n",
       "    <tr>\n",
       "      <th>5573</th>\n",
       "      <td>Rofl. Its true to its name</td>\n",
       "      <td>ham</td>\n",
       "    </tr>\n",
       "  </tbody>\n",
       "</table>\n",
       "<p>5574 rows × 2 columns</p>\n",
       "</div>"
      ],
      "text/plain": [
       "                                        Message Content Category\n",
       "0     Go until jurong point, crazy.. Available only ...      ham\n",
       "1                         Ok lar... Joking wif u oni...      ham\n",
       "2     Free entry in 2 a wkly comp to win FA Cup fina...     spam\n",
       "3     U dun say so early hor... U c already then say...      ham\n",
       "4     Nah I don't think he goes to usf, he lives aro...      ham\n",
       "...                                                 ...      ...\n",
       "5569  This is the 2nd time we have tried 2 contact u...     spam\n",
       "5570               Will ü b going to esplanade fr home?      ham\n",
       "5571  Pity, * was in mood for that. So...any other s...      ham\n",
       "5572  The guy did some bitching but I acted like i'd...      ham\n",
       "5573                         Rofl. Its true to its name      ham\n",
       "\n",
       "[5574 rows x 2 columns]"
      ]
     },
     "execution_count": 172,
     "metadata": {},
     "output_type": "execute_result"
    }
   ],
   "source": [
    "# Showing the dataframe created:\n",
    "path = \"C:\\\\Users\\\\cesar\\\\*******\\\\******\\\\CollectionSMSSpam.txt\"\n",
    "new_df_updated_reordered = create_dataset(path)\n",
    "new_df_updated_reordered"
   ]
  },
  {
   "cell_type": "code",
   "execution_count": 174,
   "id": "390b4395-7572-4f50-9530-85dd82fde2ed",
   "metadata": {
    "id": "390b4395-7572-4f50-9530-85dd82fde2ed"
   },
   "outputs": [],
   "source": [
    "# Calculating the average of spam and ham messages in the dataset:\n",
    "def category_average_calculator(sample):\n",
    "    temp_data = new_df_updated_reordered['Category'][:sample]\n",
    "    count = 0\n",
    "    for i in temp_data:\n",
    "        if i == 'spam':\n",
    "            count += 1\n",
    "    average_spam = count/len(temp_data)\n",
    "    average_ham = (len(temp_data)-count)/len(temp_data)\n",
    "    return (average_spam, average_ham)"
   ]
  },
  {
   "cell_type": "code",
   "execution_count": 176,
   "id": "a6414e55-bad0-445a-96ad-4828cc9b065e",
   "metadata": {
    "colab": {
     "base_uri": "https://localhost:8080/"
    },
    "id": "a6414e55-bad0-445a-96ad-4828cc9b065e",
    "outputId": "d03403e2-5a34-46bc-8d14-4a87218a6da7"
   },
   "outputs": [
    {
     "name": "stdout",
     "output_type": "stream",
     "text": [
      "Average spam messages is 13.4%\n",
      "Average ham messages is 86.6%\n"
     ]
    }
   ],
   "source": [
    "# Printing the result of the averages:\n",
    "average_spam, average_ham = category_average_calculator(len(new_df_updated_reordered['Category']))\n",
    "print('Average spam messages is {}{}'.format(round(average_spam*100, 2), \"%\"))\n",
    "print('Average ham messages is {}{}'.format(round(average_ham*100, 2), \"%\"))"
   ]
  },
  {
   "cell_type": "markdown",
   "id": "77109eec-a1e6-4801-81a3-8c6b8a834574",
   "metadata": {
    "id": "77109eec-a1e6-4801-81a3-8c6b8a834574"
   },
   "source": [
    "##### Visualizing the difference in count between spam and ham"
   ]
  },
  {
   "cell_type": "code",
   "execution_count": 179,
   "id": "e2af4514-8d52-4499-9650-bb3d8376e448",
   "metadata": {
    "colab": {
     "base_uri": "https://localhost:8080/",
     "height": 452
    },
    "id": "e2af4514-8d52-4499-9650-bb3d8376e448",
    "outputId": "35ac5708-a9d2-45c1-fe8b-2228918ed5c3"
   },
   "outputs": [
    {
     "data": {
      "image/png": "[encoded data removed]",
      "text/plain": [
       "<Figure size 640x480 with 1 Axes>"
      ]
     },
     "metadata": {},
     "output_type": "display_data"
    }
   ],
   "source": [
    "x = np.array(['spam', 'ham'])\n",
    "y = np.array([average_spam, average_ham])\n",
    "\n",
    "fig, ax = plt.subplots()\n",
    "\n",
    "bar_colors = ['red', 'blue']\n",
    "\n",
    "plt.bar(x, y, color=bar_colors)\n",
    "\n",
    "ax.set_ylabel('Average')\n",
    "ax.set_title('Spam vs Ham Count')\n",
    "\n",
    "plt.show()"
   ]
  },
  {
   "cell_type": "markdown",
   "id": "a96a4e59-0f3e-4e2a-8214-d0f919337918",
   "metadata": {
    "id": "a96a4e59-0f3e-4e2a-8214-d0f919337918"
   },
   "source": [
    "##### The following code cell creates a list of spam words taken from the dataset"
   ]
  },
  {
   "cell_type": "code",
   "execution_count": 182,
   "id": "ea916a06-1657-45af-9743-7a26c9a861c5",
   "metadata": {
    "id": "ea916a06-1657-45af-9743-7a26c9a861c5"
   },
   "outputs": [],
   "source": [
    "def create_spam_words_list(df_reordered):\n",
    "    # Intialize an empty list that will hold the spam words:\n",
    "    words_list = []\n",
    "\n",
    "    # Loop in the content and category and identify the spam messages, and append the spam words into the list:\n",
    "    for i, j in zip(df_reordered['Message Content'], df_reordered['Category']):\n",
    "        if j == 'spam':\n",
    "            words_list.append(i.split(\" \"))\n",
    "\n",
    "    #Merging the list of lists and words_list, into one big unified list:\n",
    "    unified_spam_list = []\n",
    "    for inner_list in words_list:\n",
    "        unified_spam_list.extend(inner_list)\n",
    "        \n",
    "    # Return the unified spam list:\n",
    "    return unified_spam_list"
   ]
  },
  {
   "cell_type": "markdown",
   "id": "cbd411f1-a829-40ef-a2a9-f468d8a0d15a",
   "metadata": {
    "id": "cbd411f1-a829-40ef-a2a9-f468d8a0d15a"
   },
   "source": [
    "##### The following code cell creates a list of ham words taken from the dataset"
   ]
  },
  {
   "cell_type": "code",
   "execution_count": 185,
   "id": "10bcfa95-1210-4825-bb84-2be67eb2c031",
   "metadata": {
    "id": "10bcfa95-1210-4825-bb84-2be67eb2c031"
   },
   "outputs": [],
   "source": [
    "def create_ham_words_list(df_reordered):\n",
    "    # Intialize an empty list that will hold the ham words:\n",
    "    words_list = []\n",
    "\n",
    "    # Loop in the content and category and identify the spam messages, and append the ham words into the list:\n",
    "    for i, j in zip(df_reordered['Message Content'], df_reordered['Category']):\n",
    "        if j == 'ham':\n",
    "            words_list.append(i.split(\" \"))\n",
    "\n",
    "    #Merging the list of lists and words_list, into one big unified list:\n",
    "    unified_ham_list = []\n",
    "    for inner_list in words_list:\n",
    "        unified_ham_list.extend(inner_list)\n",
    "\n",
    "    # Return the unified ham list:\n",
    "    return unified_ham_list"
   ]
  },
  {
   "cell_type": "markdown",
   "id": "bceed02a-08ed-4509-91e3-6d86772d5080",
   "metadata": {
    "id": "bceed02a-08ed-4509-91e3-6d86772d5080"
   },
   "source": [
    "##### The following code removes unwanted words from the list before appending it into the dataframe"
   ]
  },
  {
   "cell_type": "code",
   "execution_count": 188,
   "id": "28a9b844-e7b8-4089-b091-cc6d4d6ee46c",
   "metadata": {
    "id": "28a9b844-e7b8-4089-b091-cc6d4d6ee46c"
   },
   "outputs": [],
   "source": [
    "def remove_words(lst):\n",
    "    # Identify the words to be removed from the dataframe:\n",
    "    list_of_words_to_remove = ['and', 'a', 'the', '&', 'an', 'or', 'but', 'ffffffffff', 'i‘m', 'bx420-ip4-5we', 'ur', '8', '9', '<', '>',\n",
    "        '-', ',', '.', '?', '2', '4', ';_;', 'in', 'on', 'at', 'to', 'from', 'for', 'with', 'by', 'of', '&amp;', \"i'd\", 'tsandcs', '#5000',\n",
    "        'c', 'b', 'n', '!', '!!', '!!!', 'ü', 'u', '*', ':-(', ':-)', ':)', ':(', 'i', 'you', 'he', 'she', 'it', 'we', 'they', 'lccltd',\n",
    "        '=', '+', '/', '*', '...', '.....', 'very', 'really', 'just', 'actually', 'literally', '3', '5', '6', '@', '1', '2', '16+', 'ú1',\n",
    "        'is', 'am', 'are', 'was', 'were', 'be', 'being', 'been', 'have', 'has', 'had', '7', '8', '9', '&lt;url&gt;', \"i'll\", '4403ldnw1a7rw18',\n",
    "        'oh', 'uh', 'um', 'well', 'like', 'so', ';v', '&lt;#&gt;', 'y', 'dat', 'lor', 'ard', '1', '(', ')', \"''\", 'us', '4', '7', 'poboxox36504w45wq',\n",
    "        'my', 'me', 'that', 'your', \"i'm\", 'can', 'do', 'get', 'got', 'this', 'if', 'd', 'r', 'as', 'its', \"i'll\", 'then', 'n=qjkgighjjgcbl', '\"',\n",
    "        'e', 'f', 'g', 'h', 'j', 'k', 'l', 'm', 'o','p', 'q', 'r', 's', 't', 'v', 'w', 'x', 'z', 'that\\x92s', 'csh11', '150p', '18+6*1', '||',\n",
    "        'received', 'would', 'should', 'could', 'or', \"we've\"]\n",
    "\n",
    "    # Filter out the un-needed words:\n",
    "    filtered_list = [item for item in lst if str(item).lower() not in list_of_words_to_remove]\n",
    "\n",
    "    # Return the filtered list:\n",
    "    return filtered_list"
   ]
  },
  {
   "cell_type": "markdown",
   "id": "80947930-e51d-4f26-a904-62205d2ad6f4",
   "metadata": {
    "id": "80947930-e51d-4f26-a904-62205d2ad6f4"
   },
   "source": [
    "##### The following code cell creates a dataframe that entails the spam words count in a descending order"
   ]
  },
  {
   "cell_type": "code",
   "execution_count": 274,
   "id": "d87984a0-ffc0-4fe6-a330-0471f1a83e5f",
   "metadata": {
    "id": "d87984a0-ffc0-4fe6-a330-0471f1a83e5f"
   },
   "outputs": [],
   "source": [
    "def spam_stats(df):\n",
    "    # Create the list of spam words:\n",
    "    uni_list = create_spam_words_list(df)\n",
    "\n",
    "    # Remove the unwanted words from the list:\n",
    "    clean_spam_list = remove_words(uni_list)\n",
    "\n",
    "    # Remove the empty items from the list:\n",
    "    for item in clean_spam_list:\n",
    "        if item == \"\":\n",
    "           clean_spam_list.remove(item)\n",
    "\n",
    "    # Create a dataframe out of the spam list and count each spam word using groupby:\n",
    "    clean_list_df = pd.DataFrame(clean_spam_list)\n",
    "    lower_case = map(lambda x: x.lower(), clean_list_df[0])\n",
    "    clean_list_lower = list(lower_case)\n",
    "    clean_list_df_lower = pd.DataFrame(clean_list_lower)\n",
    "    clean_list_df_lower.rename(columns = {0: 'spam words'}, inplace=True)\n",
    "    clean_list_df_stats = clean_list_df_lower.groupby('spam words').size().reset_index(name='count').sort_values(by='count', \n",
    "                                                                                                ascending=False)\n",
    "\n",
    "    # Return a clean list:\n",
    "    return clean_list_df_stats"
   ]
  },
  {
   "cell_type": "code",
   "execution_count": 276,
   "id": "6b129470-222c-4ee3-821b-076c2e3c5adb",
   "metadata": {
    "colab": {
     "base_uri": "https://localhost:8080/",
     "height": 423
    },
    "id": "6b129470-222c-4ee3-821b-076c2e3c5adb",
    "outputId": "4b8626ae-86ce-4135-86ff-5882fed8e769"
   },
   "outputs": [
    {
     "data": {
      "text/html": [
       "<div>\n",
       "<style scoped>\n",
       "    .dataframe tbody tr th:only-of-type {\n",
       "        vertical-align: middle;\n",
       "    }\n",
       "\n",
       "    .dataframe tbody tr th {\n",
       "        vertical-align: top;\n",
       "    }\n",
       "\n",
       "    .dataframe thead th {\n",
       "        text-align: right;\n",
       "    }\n",
       "</style>\n",
       "<table border=\"1\" class=\"dataframe\">\n",
       "  <thead>\n",
       "    <tr style=\"text-align: right;\">\n",
       "      <th></th>\n",
       "      <th>spam words</th>\n",
       "      <th>count</th>\n",
       "    </tr>\n",
       "  </thead>\n",
       "  <tbody>\n",
       "    <tr>\n",
       "      <th>1150</th>\n",
       "      <td>call</td>\n",
       "      <td>342</td>\n",
       "    </tr>\n",
       "    <tr>\n",
       "      <th>1646</th>\n",
       "      <td>free</td>\n",
       "      <td>180</td>\n",
       "    </tr>\n",
       "    <tr>\n",
       "      <th>3215</th>\n",
       "      <td>txt</td>\n",
       "      <td>136</td>\n",
       "    </tr>\n",
       "    <tr>\n",
       "      <th>3089</th>\n",
       "      <td>text</td>\n",
       "      <td>112</td>\n",
       "    </tr>\n",
       "    <tr>\n",
       "      <th>2217</th>\n",
       "      <td>mobile</td>\n",
       "      <td>109</td>\n",
       "    </tr>\n",
       "    <tr>\n",
       "      <th>...</th>\n",
       "      <td>...</td>\n",
       "      <td>...</td>\n",
       "    </tr>\n",
       "    <tr>\n",
       "      <th>1513</th>\n",
       "      <td>echo</td>\n",
       "      <td>1</td>\n",
       "    </tr>\n",
       "    <tr>\n",
       "      <th>1514</th>\n",
       "      <td>ecstacy.</td>\n",
       "      <td>1</td>\n",
       "    </tr>\n",
       "    <tr>\n",
       "      <th>1516</th>\n",
       "      <td>efreefone</td>\n",
       "      <td>1</td>\n",
       "    </tr>\n",
       "    <tr>\n",
       "      <th>1518</th>\n",
       "      <td>eh74rr</td>\n",
       "      <td>1</td>\n",
       "    </tr>\n",
       "    <tr>\n",
       "      <th>3636</th>\n",
       "      <td>“harry</td>\n",
       "      <td>1</td>\n",
       "    </tr>\n",
       "  </tbody>\n",
       "</table>\n",
       "<p>3637 rows × 2 columns</p>\n",
       "</div>"
      ],
      "text/plain": [
       "     spam words  count\n",
       "1150       call    342\n",
       "1646       free    180\n",
       "3215        txt    136\n",
       "3089       text    112\n",
       "2217     mobile    109\n",
       "...         ...    ...\n",
       "1513       echo      1\n",
       "1514   ecstacy.      1\n",
       "1516  efreefone      1\n",
       "1518     eh74rr      1\n",
       "3636     “harry      1\n",
       "\n",
       "[3637 rows x 2 columns]"
      ]
     },
     "execution_count": 276,
     "metadata": {},
     "output_type": "execute_result"
    }
   ],
   "source": [
    "# Show the dataframe:\n",
    "spam_df = spam_stats(new_df_updated_reordered)\n",
    "spam_df"
   ]
  },
  {
   "cell_type": "markdown",
   "id": "d6517cf7-45fc-43ac-9797-16c6de3a4b31",
   "metadata": {
    "id": "d6517cf7-45fc-43ac-9797-16c6de3a4b31"
   },
   "source": [
    "##### Visualizing the first 20 spam words"
   ]
  },
  {
   "cell_type": "code",
   "execution_count": 196,
   "id": "7d9823ea-d16b-4e70-bed0-c775f86d136c",
   "metadata": {
    "colab": {
     "base_uri": "https://localhost:8080/",
     "height": 472
    },
    "id": "7d9823ea-d16b-4e70-bed0-c775f86d136c",
    "outputId": "63acbbf5-da4f-4606-9f78-4a5a38fe2422"
   },
   "outputs": [
    {
     "data": {
      "image/png": "[encoded data removed]",
      "text/plain": [
       "<Figure size 640x480 with 1 Axes>"
      ]
     },
     "metadata": {},
     "output_type": "display_data"
    }
   ],
   "source": [
    "fig, ax = plt.subplots()\n",
    "\n",
    "plt.barh(spam_df['spam words'][:21][::-1], spam_df['count'][:21][::-1], color ='orange')\n",
    "\n",
    "ax.set_ylabel('Word')\n",
    "ax.set_xlabel('Count')\n",
    "ax.set_title('Spam Count')\n",
    "\n",
    "plt.show()"
   ]
  },
  {
   "cell_type": "markdown",
   "id": "a3cf73a7-e6f9-4e6d-9d28-a0b55089efb4",
   "metadata": {
    "id": "a3cf73a7-e6f9-4e6d-9d28-a0b55089efb4"
   },
   "source": [
    "##### The following code cell creates a dataframe that entails the ham words count in a descending order"
   ]
  },
  {
   "cell_type": "code",
   "execution_count": 199,
   "id": "9ac4aeff-54dc-4c8d-8169-acb3f9883e6d",
   "metadata": {
    "id": "9ac4aeff-54dc-4c8d-8169-acb3f9883e6d"
   },
   "outputs": [],
   "source": [
    "def ham_stats(df):\n",
    "    # Create the list of ham words:\n",
    "    uni_ham_list = create_ham_words_list(df)\n",
    "\n",
    "    # Remove the unwanted words from the list:\n",
    "    clean_ham_list = remove_words(uni_ham_list)\n",
    "\n",
    "    # Remove the empty items from the list:\n",
    "    for item in clean_ham_list:\n",
    "        if item == \"\":\n",
    "           clean_ham_list.remove(item)\n",
    "\n",
    "    # Create a dataframe out of the spam list and count each spam word using groupby:\n",
    "    clean_ham_list_df = pd.DataFrame(clean_ham_list)\n",
    "    lower_case = map(lambda x: x.lower(), clean_ham_list_df[0])\n",
    "    clean_ham_list_lower = list(lower_case)\n",
    "    clean_ham_list_df_lower = pd.DataFrame(clean_ham_list_lower)\n",
    "    clean_ham_list_df_lower.rename(columns = {0: 'ham words'}, inplace=True)\n",
    "    clean_ham_list_df_stats = clean_ham_list_df_lower.groupby('ham words').size().reset_index(name='count').sort_values(by='count', ascending=False)\n",
    "\n",
    "    # Return a clean list:\n",
    "    return clean_ham_list_df_stats"
   ]
  },
  {
   "cell_type": "code",
   "execution_count": 201,
   "id": "eddaad1d-f09f-436d-8ef6-549f120f1ee4",
   "metadata": {
    "colab": {
     "base_uri": "https://localhost:8080/",
     "height": 423
    },
    "id": "eddaad1d-f09f-436d-8ef6-549f120f1ee4",
    "outputId": "8baa27ff-d145-4ba7-9844-a5f42e5c6f22"
   },
   "outputs": [
    {
     "data": {
      "text/html": [
       "<div>\n",
       "<style scoped>\n",
       "    .dataframe tbody tr th:only-of-type {\n",
       "        vertical-align: middle;\n",
       "    }\n",
       "\n",
       "    .dataframe tbody tr th {\n",
       "        vertical-align: top;\n",
       "    }\n",
       "\n",
       "    .dataframe thead th {\n",
       "        text-align: right;\n",
       "    }\n",
       "</style>\n",
       "<table border=\"1\" class=\"dataframe\">\n",
       "  <thead>\n",
       "    <tr style=\"text-align: right;\">\n",
       "      <th></th>\n",
       "      <th>ham words</th>\n",
       "      <th>count</th>\n",
       "    </tr>\n",
       "  </thead>\n",
       "  <tbody>\n",
       "    <tr>\n",
       "      <th>6608</th>\n",
       "      <td>not</td>\n",
       "      <td>387</td>\n",
       "    </tr>\n",
       "    <tr>\n",
       "      <th>10454</th>\n",
       "      <td>will</td>\n",
       "      <td>336</td>\n",
       "    </tr>\n",
       "    <tr>\n",
       "      <th>10395</th>\n",
       "      <td>when</td>\n",
       "      <td>271</td>\n",
       "    </tr>\n",
       "    <tr>\n",
       "      <th>4630</th>\n",
       "      <td>how</td>\n",
       "      <td>246</td>\n",
       "    </tr>\n",
       "    <tr>\n",
       "      <th>9968</th>\n",
       "      <td>up</td>\n",
       "      <td>245</td>\n",
       "    </tr>\n",
       "    <tr>\n",
       "      <th>...</th>\n",
       "      <td>...</td>\n",
       "      <td>...</td>\n",
       "    </tr>\n",
       "    <tr>\n",
       "      <th>4354</th>\n",
       "      <td>head,</td>\n",
       "      <td>1</td>\n",
       "    </tr>\n",
       "    <tr>\n",
       "      <th>4352</th>\n",
       "      <td>he...</td>\n",
       "      <td>1</td>\n",
       "    </tr>\n",
       "    <tr>\n",
       "      <th>4351</th>\n",
       "      <td>he.</td>\n",
       "      <td>1</td>\n",
       "    </tr>\n",
       "    <tr>\n",
       "      <th>4347</th>\n",
       "      <td>hdd</td>\n",
       "      <td>1</td>\n",
       "    </tr>\n",
       "    <tr>\n",
       "      <th>10873</th>\n",
       "      <td>…thanks</td>\n",
       "      <td>1</td>\n",
       "    </tr>\n",
       "  </tbody>\n",
       "</table>\n",
       "<p>10874 rows × 2 columns</p>\n",
       "</div>"
      ],
      "text/plain": [
       "      ham words  count\n",
       "6608        not    387\n",
       "10454      will    336\n",
       "10395      when    271\n",
       "4630        how    246\n",
       "9968         up    245\n",
       "...         ...    ...\n",
       "4354      head,      1\n",
       "4352      he...      1\n",
       "4351        he.      1\n",
       "4347        hdd      1\n",
       "10873   …thanks      1\n",
       "\n",
       "[10874 rows x 2 columns]"
      ]
     },
     "execution_count": 201,
     "metadata": {},
     "output_type": "execute_result"
    }
   ],
   "source": [
    "# Show the dataframe:\n",
    "ham_df = ham_stats(new_df_updated_reordered)\n",
    "ham_df"
   ]
  },
  {
   "cell_type": "markdown",
   "id": "c1df8099-7ad6-4404-a90b-ee2c8feffb0f",
   "metadata": {
    "id": "c1df8099-7ad6-4404-a90b-ee2c8feffb0f"
   },
   "source": [
    "##### Visualizing the first 20 ham words"
   ]
  },
  {
   "cell_type": "code",
   "execution_count": 204,
   "id": "11bafd57-1cda-4915-96ca-54dd0c6baf8e",
   "metadata": {
    "colab": {
     "base_uri": "https://localhost:8080/",
     "height": 472
    },
    "id": "11bafd57-1cda-4915-96ca-54dd0c6baf8e",
    "outputId": "497fd3eb-3113-40cf-b0e6-1bdc6e3f2241"
   },
   "outputs": [
    {
     "data": {
      "image/png": "[encoded data removed]",
      "text/plain": [
       "<Figure size 640x480 with 1 Axes>"
      ]
     },
     "metadata": {},
     "output_type": "display_data"
    }
   ],
   "source": [
    "fig, ax = plt.subplots()\n",
    "\n",
    "plt.barh(ham_df['ham words'][:21][::-1], ham_df['count'][:21][::-1], color ='blue')\n",
    "\n",
    "ax.set_ylabel('Word')\n",
    "ax.set_xlabel('Count')\n",
    "ax.set_title('Ham Count')\n",
    "\n",
    "plt.show()"
   ]
  },
  {
   "cell_type": "markdown",
   "id": "2ca0af9f-09fe-49c2-9e30-fb8237549fb9",
   "metadata": {
    "id": "2ca0af9f-09fe-49c2-9e30-fb8237549fb9"
   },
   "source": [
    "##### WordCloud"
   ]
  },
  {
   "cell_type": "code",
   "execution_count": 340,
   "id": "0074da7e-065e-4b62-ae7e-b720fcecbf59",
   "metadata": {
    "colab": {
     "base_uri": "https://localhost:8080/",
     "height": 836
    },
    "id": "0074da7e-065e-4b62-ae7e-b720fcecbf59",
    "outputId": "35d5650a-fae1-41a2-8219-980ac3ce6c6c"
   },
   "outputs": [
    {
     "data": {
      "image/png": "[encoded data removed]",
      "text/plain": [
       "<Figure size 700x500 with 1 Axes>"
      ]
     },
     "metadata": {},
     "output_type": "display_data"
    }
   ],
   "source": [
    "word = \"\"\n",
    "stopwords = set(STOPWORDS)\n",
    "\n",
    "# Iterate through the dataframe and create the WordCloud:\n",
    "for item, cat in zip(new_df_updated_reordered['Message Content'], new_df_updated_reordered['Category']):\n",
    "    if cat == 'spam':\n",
    "        # cast each val to string\n",
    "        item = str(item)\n",
    "\n",
    "        # split the value\n",
    "        split_item = item.split()\n",
    "\n",
    "        # Converts each token into lowercase\n",
    "        for i in range(len(split_item)):\n",
    "            split_item[i] = split_item[i].lower()\n",
    "\n",
    "        word += \" \".join(split_item)+\" \"\n",
    "\n",
    "wordcloud = WordCloud(width = 500, height = 300,\n",
    "                      background_color ='white',\n",
    "                      stopwords = stopwords,\n",
    "                      min_font_size = 10).generate(word)\n",
    "\n",
    "# Plot WordCloud image:\n",
    "plt.figure(figsize = (7, 5), facecolor = None)\n",
    "plt.imshow(wordcloud)\n",
    "plt.axis(\"off\")\n",
    "plt.tight_layout(pad = 0)\n",
    "\n",
    "plt.show()"
   ]
  },
  {
   "cell_type": "markdown",
   "id": "2884bcca-37d0-4ae6-afd7-8625b8c9b9db",
   "metadata": {
    "id": "2884bcca-37d0-4ae6-afd7-8625b8c9b9db"
   },
   "source": [
    "### The next part of this notebook creates the required dataframe to be used for fitting with a Machine Learning algorithm, in order to predict if the message is a spam or a ham"
   ]
  },
  {
   "cell_type": "markdown",
   "id": "a341aebf-39d2-43de-a832-448c06a7ffb8",
   "metadata": {
    "id": "a341aebf-39d2-43de-a832-448c06a7ffb8"
   },
   "source": [
    "##### After looking into the data, the following code takes the message content, and creates a dataframe by splitting every word in a seperate column. It also adds the category of each message as the last column, in which it will be the target that I will use later on to fit my model, and the rest of the columns will be the features.\n",
    "##### This code also calls another function to perform removal of certain filler words, which are not needed to fit the data."
   ]
  },
  {
   "cell_type": "code",
   "execution_count": 211,
   "id": "fd1a744f-a700-4a1b-a5ec-950d0047dc4f",
   "metadata": {
    "id": "fd1a744f-a700-4a1b-a5ec-950d0047dc4f"
   },
   "outputs": [],
   "source": [
    "def create_words_df(df_reordered):\n",
    "    main_list = []\n",
    "    cat_list = []\n",
    "\n",
    "    for i, j in zip(df_reordered['Message Content'], df_reordered['Category']):\n",
    "        words_list = []\n",
    "\n",
    "        # Cleaning up the words in the message and splitting them by comma:\n",
    "        split_word = i.replace(\":)\", \" \").replace(\">>\", \" \").replace(\">\", \" \").replace(\"&amp;\", \" \").replace(\"-\", \" \").replace(\"(\", \" \").replace(\")\", \" \") \\\n",
    "                        .replace(\"/\", \" \").replace(\".\", \" \").replace(\"!\", \" \").replace(\"?\", \" \").replace(\"£\", \"\").replace(\"$\", \"\") \\\n",
    "                        .replace(\" \", \",\").split(\",\")\n",
    "\n",
    "        # Appending the category list with the categories of each message:\n",
    "        cat_list.append(j)\n",
    "\n",
    "        # Filter out un-needed words, strip them and append them in the words list:\n",
    "        remove_word = remove_words(split_word)\n",
    "\n",
    "        for word in remove_word:\n",
    "            word.rstrip(\"...\").strip('&amp;').strip(\".,!?-()\")\n",
    "            words_list.append(word.lower().replace(\"..\", \"\").replace(\"...\", \"\").replace(\".\", \"\").replace(\",\", \"\").replace(\"!\",\"\").replace(\"?\", \"\"))\n",
    "\n",
    "        # Removing the numbers that are greater than 0 from the list:\n",
    "        for w in words_list:\n",
    "            item = re.search(r\"^[0-9]+\", w)\n",
    "            if item:\n",
    "                words_list[words_list.index(w)] = \"\"\n",
    "\n",
    "        # Appending the main list that contains all the cleaned up words lists:\n",
    "        main_list.append(words_list)\n",
    "\n",
    "    # Creating the category column:\n",
    "    df = pd.DataFrame(main_list)\n",
    "    df['category'] = cat_list\n",
    "\n",
    "    # Renaming the columns:\n",
    "    for col in range(0, len(df)):\n",
    "        df.rename(columns={col: 'word{}'.format(int(col)+1)}, inplace=True)\n",
    "\n",
    "    # Filling the NA with 0's:\n",
    "    df_updated = df.fillna(0)\n",
    "\n",
    "    return df_updated"
   ]
  },
  {
   "cell_type": "code",
   "execution_count": 213,
   "id": "77f48dc3-6be2-4737-9d8b-4c133c3e7e43",
   "metadata": {
    "id": "77f48dc3-6be2-4737-9d8b-4c133c3e7e43"
   },
   "outputs": [],
   "source": [
    "words_df = create_words_df(new_df_updated_reordered)\n",
    "\n",
    "# Replacing all the '' in the dataframe with 0:\n",
    "words_df = words_df.replace('',0)"
   ]
  },
  {
   "cell_type": "code",
   "execution_count": 215,
   "id": "ccaea7ad-14ac-4e32-b2c4-95494c5f15ba",
   "metadata": {
    "id": "ccaea7ad-14ac-4e32-b2c4-95494c5f15ba"
   },
   "outputs": [],
   "source": [
    "# Renaming the dataframe:\n",
    "final_df = words_df"
   ]
  },
  {
   "cell_type": "markdown",
   "id": "d97ae793-ee10-42f3-bc2a-7741b9699f26",
   "metadata": {
    "id": "d97ae793-ee10-42f3-bc2a-7741b9699f26"
   },
   "source": [
    "##### The following cell replaces the 'ham' with 0, and the 'spam' with 1"
   ]
  },
  {
   "cell_type": "code",
   "execution_count": 218,
   "id": "0be0a73a-8116-4a85-bfee-4a1f0a24058b",
   "metadata": {
    "id": "0be0a73a-8116-4a85-bfee-4a1f0a24058b"
   },
   "outputs": [],
   "source": [
    "final_df['category'] = list(map(lambda item: int(item.replace('ham', '0').replace('spam', '1')), words_df['category']))"
   ]
  },
  {
   "cell_type": "code",
   "execution_count": 280,
   "id": "e7555cfb-61ec-4d8a-899e-c56cad92c4aa",
   "metadata": {
    "colab": {
     "base_uri": "https://localhost:8080/",
     "height": 443
    },
    "id": "e7555cfb-61ec-4d8a-899e-c56cad92c4aa",
    "outputId": "d9d41f10-7eee-441a-ee71-fcd01c5ee4ec"
   },
   "outputs": [
    {
     "data": {
      "text/html": [
       "<div>\n",
       "<style scoped>\n",
       "    .dataframe tbody tr th:only-of-type {\n",
       "        vertical-align: middle;\n",
       "    }\n",
       "\n",
       "    .dataframe tbody tr th {\n",
       "        vertical-align: top;\n",
       "    }\n",
       "\n",
       "    .dataframe thead th {\n",
       "        text-align: right;\n",
       "    }\n",
       "</style>\n",
       "<table border=\"1\" class=\"dataframe\">\n",
       "  <thead>\n",
       "    <tr style=\"text-align: right;\">\n",
       "      <th></th>\n",
       "      <th>word1</th>\n",
       "      <th>word2</th>\n",
       "      <th>word3</th>\n",
       "      <th>word4</th>\n",
       "      <th>word5</th>\n",
       "      <th>word6</th>\n",
       "      <th>word7</th>\n",
       "      <th>word8</th>\n",
       "      <th>word9</th>\n",
       "      <th>word10</th>\n",
       "      <th>...</th>\n",
       "      <th>word124</th>\n",
       "      <th>word125</th>\n",
       "      <th>word126</th>\n",
       "      <th>word127</th>\n",
       "      <th>word128</th>\n",
       "      <th>word129</th>\n",
       "      <th>word130</th>\n",
       "      <th>word131</th>\n",
       "      <th>word132</th>\n",
       "      <th>category</th>\n",
       "    </tr>\n",
       "  </thead>\n",
       "  <tbody>\n",
       "    <tr>\n",
       "      <th>0</th>\n",
       "      <td>go</td>\n",
       "      <td>until</td>\n",
       "      <td>jurong</td>\n",
       "      <td>point</td>\n",
       "      <td>0</td>\n",
       "      <td>crazy</td>\n",
       "      <td>0</td>\n",
       "      <td>0</td>\n",
       "      <td>available</td>\n",
       "      <td>only</td>\n",
       "      <td>...</td>\n",
       "      <td>0</td>\n",
       "      <td>0</td>\n",
       "      <td>0</td>\n",
       "      <td>0</td>\n",
       "      <td>0</td>\n",
       "      <td>0</td>\n",
       "      <td>0</td>\n",
       "      <td>0</td>\n",
       "      <td>0</td>\n",
       "      <td>0</td>\n",
       "    </tr>\n",
       "    <tr>\n",
       "      <th>1</th>\n",
       "      <td>ok</td>\n",
       "      <td>lar</td>\n",
       "      <td>0</td>\n",
       "      <td>0</td>\n",
       "      <td>0</td>\n",
       "      <td>joking</td>\n",
       "      <td>wif</td>\n",
       "      <td>oni</td>\n",
       "      <td>0</td>\n",
       "      <td>0</td>\n",
       "      <td>...</td>\n",
       "      <td>0</td>\n",
       "      <td>0</td>\n",
       "      <td>0</td>\n",
       "      <td>0</td>\n",
       "      <td>0</td>\n",
       "      <td>0</td>\n",
       "      <td>0</td>\n",
       "      <td>0</td>\n",
       "      <td>0</td>\n",
       "      <td>0</td>\n",
       "    </tr>\n",
       "    <tr>\n",
       "      <th>2</th>\n",
       "      <td>free</td>\n",
       "      <td>entry</td>\n",
       "      <td>wkly</td>\n",
       "      <td>comp</td>\n",
       "      <td>win</td>\n",
       "      <td>fa</td>\n",
       "      <td>cup</td>\n",
       "      <td>final</td>\n",
       "      <td>tkts</td>\n",
       "      <td>0</td>\n",
       "      <td>...</td>\n",
       "      <td>0</td>\n",
       "      <td>0</td>\n",
       "      <td>0</td>\n",
       "      <td>0</td>\n",
       "      <td>0</td>\n",
       "      <td>0</td>\n",
       "      <td>0</td>\n",
       "      <td>0</td>\n",
       "      <td>0</td>\n",
       "      <td>1</td>\n",
       "    </tr>\n",
       "    <tr>\n",
       "      <th>3</th>\n",
       "      <td>dun</td>\n",
       "      <td>say</td>\n",
       "      <td>early</td>\n",
       "      <td>hor</td>\n",
       "      <td>0</td>\n",
       "      <td>0</td>\n",
       "      <td>0</td>\n",
       "      <td>already</td>\n",
       "      <td>say</td>\n",
       "      <td>0</td>\n",
       "      <td>...</td>\n",
       "      <td>0</td>\n",
       "      <td>0</td>\n",
       "      <td>0</td>\n",
       "      <td>0</td>\n",
       "      <td>0</td>\n",
       "      <td>0</td>\n",
       "      <td>0</td>\n",
       "      <td>0</td>\n",
       "      <td>0</td>\n",
       "      <td>0</td>\n",
       "    </tr>\n",
       "    <tr>\n",
       "      <th>4</th>\n",
       "      <td>nah</td>\n",
       "      <td>don't</td>\n",
       "      <td>think</td>\n",
       "      <td>goes</td>\n",
       "      <td>usf</td>\n",
       "      <td>0</td>\n",
       "      <td>lives</td>\n",
       "      <td>around</td>\n",
       "      <td>here</td>\n",
       "      <td>though</td>\n",
       "      <td>...</td>\n",
       "      <td>0</td>\n",
       "      <td>0</td>\n",
       "      <td>0</td>\n",
       "      <td>0</td>\n",
       "      <td>0</td>\n",
       "      <td>0</td>\n",
       "      <td>0</td>\n",
       "      <td>0</td>\n",
       "      <td>0</td>\n",
       "      <td>0</td>\n",
       "    </tr>\n",
       "    <tr>\n",
       "      <th>...</th>\n",
       "      <td>...</td>\n",
       "      <td>...</td>\n",
       "      <td>...</td>\n",
       "      <td>...</td>\n",
       "      <td>...</td>\n",
       "      <td>...</td>\n",
       "      <td>...</td>\n",
       "      <td>...</td>\n",
       "      <td>...</td>\n",
       "      <td>...</td>\n",
       "      <td>...</td>\n",
       "      <td>...</td>\n",
       "      <td>...</td>\n",
       "      <td>...</td>\n",
       "      <td>...</td>\n",
       "      <td>...</td>\n",
       "      <td>...</td>\n",
       "      <td>...</td>\n",
       "      <td>...</td>\n",
       "      <td>...</td>\n",
       "      <td>...</td>\n",
       "    </tr>\n",
       "    <tr>\n",
       "      <th>5569</th>\n",
       "      <td>0</td>\n",
       "      <td>time</td>\n",
       "      <td>tried</td>\n",
       "      <td>contact</td>\n",
       "      <td>0</td>\n",
       "      <td>won</td>\n",
       "      <td>0</td>\n",
       "      <td>pound</td>\n",
       "      <td>prize</td>\n",
       "      <td>0</td>\n",
       "      <td>...</td>\n",
       "      <td>0</td>\n",
       "      <td>0</td>\n",
       "      <td>0</td>\n",
       "      <td>0</td>\n",
       "      <td>0</td>\n",
       "      <td>0</td>\n",
       "      <td>0</td>\n",
       "      <td>0</td>\n",
       "      <td>0</td>\n",
       "      <td>1</td>\n",
       "    </tr>\n",
       "    <tr>\n",
       "      <th>5570</th>\n",
       "      <td>will</td>\n",
       "      <td>going</td>\n",
       "      <td>esplanade</td>\n",
       "      <td>fr</td>\n",
       "      <td>home</td>\n",
       "      <td>0</td>\n",
       "      <td>0</td>\n",
       "      <td>0</td>\n",
       "      <td>0</td>\n",
       "      <td>0</td>\n",
       "      <td>...</td>\n",
       "      <td>0</td>\n",
       "      <td>0</td>\n",
       "      <td>0</td>\n",
       "      <td>0</td>\n",
       "      <td>0</td>\n",
       "      <td>0</td>\n",
       "      <td>0</td>\n",
       "      <td>0</td>\n",
       "      <td>0</td>\n",
       "      <td>0</td>\n",
       "    </tr>\n",
       "    <tr>\n",
       "      <th>5571</th>\n",
       "      <td>pity</td>\n",
       "      <td>0</td>\n",
       "      <td>mood</td>\n",
       "      <td>0</td>\n",
       "      <td>0</td>\n",
       "      <td>0</td>\n",
       "      <td>any</td>\n",
       "      <td>other</td>\n",
       "      <td>suggestions</td>\n",
       "      <td>0</td>\n",
       "      <td>...</td>\n",
       "      <td>0</td>\n",
       "      <td>0</td>\n",
       "      <td>0</td>\n",
       "      <td>0</td>\n",
       "      <td>0</td>\n",
       "      <td>0</td>\n",
       "      <td>0</td>\n",
       "      <td>0</td>\n",
       "      <td>0</td>\n",
       "      <td>0</td>\n",
       "    </tr>\n",
       "    <tr>\n",
       "      <th>5572</th>\n",
       "      <td>guy</td>\n",
       "      <td>did</td>\n",
       "      <td>some</td>\n",
       "      <td>bitching</td>\n",
       "      <td>acted</td>\n",
       "      <td>interested</td>\n",
       "      <td>buying</td>\n",
       "      <td>something</td>\n",
       "      <td>else</td>\n",
       "      <td>next</td>\n",
       "      <td>...</td>\n",
       "      <td>0</td>\n",
       "      <td>0</td>\n",
       "      <td>0</td>\n",
       "      <td>0</td>\n",
       "      <td>0</td>\n",
       "      <td>0</td>\n",
       "      <td>0</td>\n",
       "      <td>0</td>\n",
       "      <td>0</td>\n",
       "      <td>0</td>\n",
       "    </tr>\n",
       "    <tr>\n",
       "      <th>5573</th>\n",
       "      <td>rofl</td>\n",
       "      <td>0</td>\n",
       "      <td>true</td>\n",
       "      <td>name</td>\n",
       "      <td>0</td>\n",
       "      <td>0</td>\n",
       "      <td>0</td>\n",
       "      <td>0</td>\n",
       "      <td>0</td>\n",
       "      <td>0</td>\n",
       "      <td>...</td>\n",
       "      <td>0</td>\n",
       "      <td>0</td>\n",
       "      <td>0</td>\n",
       "      <td>0</td>\n",
       "      <td>0</td>\n",
       "      <td>0</td>\n",
       "      <td>0</td>\n",
       "      <td>0</td>\n",
       "      <td>0</td>\n",
       "      <td>0</td>\n",
       "    </tr>\n",
       "  </tbody>\n",
       "</table>\n",
       "<p>5574 rows × 133 columns</p>\n",
       "</div>"
      ],
      "text/plain": [
       "     word1  word2      word3     word4  word5       word6   word7      word8  \\\n",
       "0       go  until     jurong     point      0       crazy       0          0   \n",
       "1       ok    lar          0         0      0      joking     wif        oni   \n",
       "2     free  entry       wkly      comp    win          fa     cup      final   \n",
       "3      dun    say      early       hor      0           0       0    already   \n",
       "4      nah  don't      think      goes    usf           0   lives     around   \n",
       "...    ...    ...        ...       ...    ...         ...     ...        ...   \n",
       "5569     0   time      tried   contact      0         won       0      pound   \n",
       "5570  will  going  esplanade        fr   home           0       0          0   \n",
       "5571  pity      0       mood         0      0           0     any      other   \n",
       "5572   guy    did       some  bitching  acted  interested  buying  something   \n",
       "5573  rofl      0       true      name      0           0       0          0   \n",
       "\n",
       "            word9  word10  ... word124 word125 word126 word127 word128  \\\n",
       "0       available    only  ...       0       0       0       0       0   \n",
       "1               0       0  ...       0       0       0       0       0   \n",
       "2            tkts       0  ...       0       0       0       0       0   \n",
       "3             say       0  ...       0       0       0       0       0   \n",
       "4            here  though  ...       0       0       0       0       0   \n",
       "...           ...     ...  ...     ...     ...     ...     ...     ...   \n",
       "5569        prize       0  ...       0       0       0       0       0   \n",
       "5570            0       0  ...       0       0       0       0       0   \n",
       "5571  suggestions       0  ...       0       0       0       0       0   \n",
       "5572         else    next  ...       0       0       0       0       0   \n",
       "5573            0       0  ...       0       0       0       0       0   \n",
       "\n",
       "     word129 word130 word131 word132 category  \n",
       "0          0       0       0       0        0  \n",
       "1          0       0       0       0        0  \n",
       "2          0       0       0       0        1  \n",
       "3          0       0       0       0        0  \n",
       "4          0       0       0       0        0  \n",
       "...      ...     ...     ...     ...      ...  \n",
       "5569       0       0       0       0        1  \n",
       "5570       0       0       0       0        0  \n",
       "5571       0       0       0       0        0  \n",
       "5572       0       0       0       0        0  \n",
       "5573       0       0       0       0        0  \n",
       "\n",
       "[5574 rows x 133 columns]"
      ]
     },
     "execution_count": 280,
     "metadata": {},
     "output_type": "execute_result"
    }
   ],
   "source": [
    "final_df"
   ]
  },
  {
   "cell_type": "markdown",
   "id": "1b0c8495-55e2-4c83-91ea-8e41a06f4f07",
   "metadata": {
    "id": "1b0c8495-55e2-4c83-91ea-8e41a06f4f07"
   },
   "source": [
    "### This setion entails the ML model that we I am going to use for prediction"
   ]
  },
  {
   "cell_type": "markdown",
   "id": "942dc874-19b3-4030-8507-f8ad0c78539d",
   "metadata": {
    "id": "942dc874-19b3-4030-8507-f8ad0c78539d"
   },
   "source": [
    "##### Creating the features and target dataset for training and testing"
   ]
  },
  {
   "cell_type": "code",
   "execution_count": 62,
   "id": "74732a71-7375-414f-80e9-0aeca6aaf326",
   "metadata": {
    "id": "74732a71-7375-414f-80e9-0aeca6aaf326"
   },
   "outputs": [],
   "source": [
    "from sklearn.model_selection import train_test_split"
   ]
  },
  {
   "cell_type": "code",
   "execution_count": 224,
   "id": "1b396933-c19b-4aa7-a8f7-3c62742c9dcd",
   "metadata": {
    "id": "1b396933-c19b-4aa7-a8f7-3c62742c9dcd"
   },
   "outputs": [],
   "source": [
    "from sklearn import preprocessing\n",
    "\n",
    "# Identifying the features:\n",
    "X = final_df.drop('category', axis=1)\n",
    "\n",
    "# Replacing the categorical values with numerical in the features set, by using get_dummies() function in pandas:\n",
    "X = pd.get_dummies(X)\n",
    "\n",
    "# Identifying the target:\n",
    "y = final_df['category']"
   ]
  },
  {
   "cell_type": "markdown",
   "id": "ab443925-ae94-423a-9dd8-12cb21b2a69c",
   "metadata": {
    "id": "ab443925-ae94-423a-9dd8-12cb21b2a69c"
   },
   "source": [
    "##### Splitting the data into training and testing sets"
   ]
  },
  {
   "cell_type": "code",
   "execution_count": 227,
   "id": "a0d07956-d9b7-41d8-9c1a-cadd1fb6e847",
   "metadata": {
    "id": "a0d07956-d9b7-41d8-9c1a-cadd1fb6e847"
   },
   "outputs": [],
   "source": [
    "X_train, X_test, y_train, y_test = train_test_split(X, y, test_size=0.2, random_state=42)"
   ]
  },
  {
   "cell_type": "markdown",
   "id": "2ace8b4f-aa6e-48ae-ab04-958e2561bd4b",
   "metadata": {
    "id": "2ace8b4f-aa6e-48ae-ab04-958e2561bd4b"
   },
   "source": [
    "#### XGBoost Model"
   ]
  },
  {
   "cell_type": "markdown",
   "id": "1213598f-9f73-454c-a0f6-a47c23a2a505",
   "metadata": {
    "id": "1213598f-9f73-454c-a0f6-a47c23a2a505"
   },
   "source": [
    "##### Installing and importing the necessary packages and libraries"
   ]
  },
  {
   "cell_type": "code",
   "execution_count": null,
   "id": "a127a78d-cff1-4a47-9e7a-0634e4100203",
   "metadata": {
    "id": "a127a78d-cff1-4a47-9e7a-0634e4100203"
   },
   "outputs": [],
   "source": [
    "!pip install xgboost"
   ]
  },
  {
   "cell_type": "code",
   "execution_count": 70,
   "id": "a122fc90-d10e-4149-89f3-69f0d5e4c2f2",
   "metadata": {
    "id": "a122fc90-d10e-4149-89f3-69f0d5e4c2f2"
   },
   "outputs": [],
   "source": [
    "import xgboost as xgb\n",
    "from sklearn.metrics import accuracy_score\n",
    "from sklearn.preprocessing import LabelEncoder\n",
    "import numpy as np"
   ]
  },
  {
   "cell_type": "markdown",
   "id": "83cf7e21-0aa6-4b00-8f07-ec2ee25c21fd",
   "metadata": {
    "id": "83cf7e21-0aa6-4b00-8f07-ec2ee25c21fd"
   },
   "source": [
    "##### Converting the training and the testing sets to numpy arrays"
   ]
  },
  {
   "cell_type": "code",
   "execution_count": 231,
   "id": "909188a7-07c3-42cd-b8ae-be8fba0ddd42",
   "metadata": {
    "id": "909188a7-07c3-42cd-b8ae-be8fba0ddd42"
   },
   "outputs": [],
   "source": [
    "X_train = X_train.to_numpy()\n",
    "X_test = X_test.to_numpy()\n",
    "y_train = y_train.to_numpy()\n",
    "y_test = y_test.to_numpy()"
   ]
  },
  {
   "cell_type": "markdown",
   "id": "a39306e8-fb2f-4aec-9803-3836532174aa",
   "metadata": {
    "id": "a39306e8-fb2f-4aec-9803-3836532174aa"
   },
   "source": [
    "##### Training the model"
   ]
  },
  {
   "cell_type": "code",
   "execution_count": 234,
   "id": "b6f7f946-7f00-44d0-af7d-55943ec6b2bf",
   "metadata": {
    "id": "b6f7f946-7f00-44d0-af7d-55943ec6b2bf"
   },
   "outputs": [],
   "source": [
    "# Convert the dataset into DMatrix, which is optimized for XGBoost:\n",
    "dtrain = xgb.DMatrix(X_train, label=y_train, enable_categorical=True)\n",
    "dtest = xgb.DMatrix(X_test, label=y_test, enable_categorical=True)\n",
    "\n",
    "# Set up the parameters for XGBoost:\n",
    "params = {\n",
    "    'max_depth': 3,  # tree depth\n",
    "    'eta': 0.1,  # learning rate\n",
    "    'objective': 'binary:logistic',  # for binary classification\n",
    "    'eval_metric': 'logloss'  # evaluation metric\n",
    "}\n",
    "\n",
    "# Train the model:\n",
    "xgb_model = xgb.train(params, dtrain, num_boost_round=100)"
   ]
  },
  {
   "cell_type": "markdown",
   "id": "d71338c3-a382-4c24-af84-60d32af86635",
   "metadata": {
    "id": "d71338c3-a382-4c24-af84-60d32af86635"
   },
   "source": [
    "##### Making predictions"
   ]
  },
  {
   "cell_type": "code",
   "execution_count": 237,
   "id": "8a348fa7-2142-46b7-9270-cd0f4e3cce11",
   "metadata": {
    "id": "8a348fa7-2142-46b7-9270-cd0f4e3cce11"
   },
   "outputs": [],
   "source": [
    "# Make predictions:\n",
    "y_pred_prob_xgb = xgb_model.predict(dtest)\n",
    "y_pred_xgb = np.round(y_pred_prob_xgb)  # Convert probabilities to binary output"
   ]
  },
  {
   "cell_type": "markdown",
   "id": "9c9c8fca-9155-4d0e-80c4-cc1dbd3ed228",
   "metadata": {
    "id": "9c9c8fca-9155-4d0e-80c4-cc1dbd3ed228"
   },
   "source": [
    "##### Model evaluation for XGBoost"
   ]
  },
  {
   "cell_type": "code",
   "execution_count": 240,
   "id": "211d6dd9-c18a-4e5c-94a6-7793d46ef310",
   "metadata": {
    "colab": {
     "base_uri": "https://localhost:8080/"
    },
    "id": "211d6dd9-c18a-4e5c-94a6-7793d46ef310",
    "outputId": "6541b6dd-cb53-4356-9932-2910435374b2"
   },
   "outputs": [
    {
     "name": "stdout",
     "output_type": "stream",
     "text": [
      "Accuracy of XGBoost model: 0.92\n"
     ]
    }
   ],
   "source": [
    "# Check the accuracy of the trained model:\n",
    "xgboost_accuracy = accuracy_score(y_test, y_pred_xgb)\n",
    "print(f\"Accuracy of XGBoost model: {xgboost_accuracy:.2f}\")"
   ]
  },
  {
   "cell_type": "markdown",
   "id": "7ff41286-7027-4c2f-920c-276af24e92e9",
   "metadata": {
    "id": "7ff41286-7027-4c2f-920c-276af24e92e9"
   },
   "source": [
    "#### Forward Neural Network (FNN) Model"
   ]
  },
  {
   "cell_type": "code",
   "execution_count": null,
   "id": "32ce5b04-a1a6-4506-8dc3-8468e36b5ffd",
   "metadata": {
    "id": "32ce5b04-a1a6-4506-8dc3-8468e36b5ffd"
   },
   "outputs": [],
   "source": [
    "!pip install tensorflow"
   ]
  },
  {
   "cell_type": "code",
   "execution_count": 309,
   "id": "07037eb9-36e0-43e5-ab3c-831754bef553",
   "metadata": {
    "id": "07037eb9-36e0-43e5-ab3c-831754bef553"
   },
   "outputs": [],
   "source": [
    "from tensorflow.keras.models import Sequential\n",
    "from keras.layers import Input, Dense\n",
    "from sklearn.model_selection import train_test_split\n",
    "from sklearn.metrics import accuracy_score"
   ]
  },
  {
   "cell_type": "markdown",
   "id": "e9164b85-cbb6-4424-b350-63119472b791",
   "metadata": {
    "id": "e9164b85-cbb6-4424-b350-63119472b791"
   },
   "source": [
    "##### Create the Neural Network model"
   ]
  },
  {
   "cell_type": "code",
   "execution_count": 312,
   "id": "e3bbbfde-95a8-466b-a0ab-4e3a17cf1123",
   "metadata": {
    "colab": {
     "base_uri": "https://localhost:8080/",
     "height": 228
    },
    "id": "e3bbbfde-95a8-466b-a0ab-4e3a17cf1123",
    "outputId": "fb1c539d-85f6-4dd3-ee25-d0f4788e9cb0"
   },
   "outputs": [
    {
     "data": {
      "text/html": [
       "<pre style=\"white-space:pre;overflow-x:auto;line-height:normal;font-family:Menlo,'DejaVu Sans Mono',consolas,'Courier New',monospace\"><span style=\"font-weight: bold\">Model: \"sequential_3\"</span>\n",
       "</pre>\n"
      ],
      "text/plain": [
       "\u001b[1mModel: \"sequential_3\"\u001b[0m\n"
      ]
     },
     "metadata": {},
     "output_type": "display_data"
    },
    {
     "data": {
      "text/html": [
       "<pre style=\"white-space:pre;overflow-x:auto;line-height:normal;font-family:Menlo,'DejaVu Sans Mono',consolas,'Courier New',monospace\">┏━━━━━━━━━━━━━━━━━━━━━━━━━━━━━━━━━┳━━━━━━━━━━━━━━━━━━━━━━━━┳━━━━━━━━━━━━━━━┓\n",
       "┃<span style=\"font-weight: bold\"> Layer (type)                    </span>┃<span style=\"font-weight: bold\"> Output Shape           </span>┃<span style=\"font-weight: bold\">       Param # </span>┃\n",
       "┡━━━━━━━━━━━━━━━━━━━━━━━━━━━━━━━━━╇━━━━━━━━━━━━━━━━━━━━━━━━╇━━━━━━━━━━━━━━━┩\n",
       "│ dense_9 (<span style=\"color: #0087ff; text-decoration-color: #0087ff\">Dense</span>)                 │ (<span style=\"color: #00d7ff; text-decoration-color: #00d7ff\">None</span>, <span style=\"color: #00af00; text-decoration-color: #00af00\">64</span>)             │     <span style=\"color: #00af00; text-decoration-color: #00af00\">1,608,384</span> │\n",
       "├─────────────────────────────────┼────────────────────────┼───────────────┤\n",
       "│ dense_10 (<span style=\"color: #0087ff; text-decoration-color: #0087ff\">Dense</span>)                │ (<span style=\"color: #00d7ff; text-decoration-color: #00d7ff\">None</span>, <span style=\"color: #00af00; text-decoration-color: #00af00\">32</span>)             │         <span style=\"color: #00af00; text-decoration-color: #00af00\">2,080</span> │\n",
       "├─────────────────────────────────┼────────────────────────┼───────────────┤\n",
       "│ dense_11 (<span style=\"color: #0087ff; text-decoration-color: #0087ff\">Dense</span>)                │ (<span style=\"color: #00d7ff; text-decoration-color: #00d7ff\">None</span>, <span style=\"color: #00af00; text-decoration-color: #00af00\">1</span>)              │            <span style=\"color: #00af00; text-decoration-color: #00af00\">33</span> │\n",
       "└─────────────────────────────────┴────────────────────────┴───────────────┘\n",
       "</pre>\n"
      ],
      "text/plain": [
       "┏━━━━━━━━━━━━━━━━━━━━━━━━━━━━━━━━━┳━━━━━━━━━━━━━━━━━━━━━━━━┳━━━━━━━━━━━━━━━┓\n",
       "┃\u001b[1m \u001b[0m\u001b[1mLayer (type)                   \u001b[0m\u001b[1m \u001b[0m┃\u001b[1m \u001b[0m\u001b[1mOutput Shape          \u001b[0m\u001b[1m \u001b[0m┃\u001b[1m \u001b[0m\u001b[1m      Param #\u001b[0m\u001b[1m \u001b[0m┃\n",
       "┡━━━━━━━━━━━━━━━━━━━━━━━━━━━━━━━━━╇━━━━━━━━━━━━━━━━━━━━━━━━╇━━━━━━━━━━━━━━━┩\n",
       "│ dense_9 (\u001b[38;5;33mDense\u001b[0m)                 │ (\u001b[38;5;45mNone\u001b[0m, \u001b[38;5;34m64\u001b[0m)             │     \u001b[38;5;34m1,608,384\u001b[0m │\n",
       "├─────────────────────────────────┼────────────────────────┼───────────────┤\n",
       "│ dense_10 (\u001b[38;5;33mDense\u001b[0m)                │ (\u001b[38;5;45mNone\u001b[0m, \u001b[38;5;34m32\u001b[0m)             │         \u001b[38;5;34m2,080\u001b[0m │\n",
       "├─────────────────────────────────┼────────────────────────┼───────────────┤\n",
       "│ dense_11 (\u001b[38;5;33mDense\u001b[0m)                │ (\u001b[38;5;45mNone\u001b[0m, \u001b[38;5;34m1\u001b[0m)              │            \u001b[38;5;34m33\u001b[0m │\n",
       "└─────────────────────────────────┴────────────────────────┴───────────────┘\n"
      ]
     },
     "metadata": {},
     "output_type": "display_data"
    },
    {
     "data": {
      "text/html": [
       "<pre style=\"white-space:pre;overflow-x:auto;line-height:normal;font-family:Menlo,'DejaVu Sans Mono',consolas,'Courier New',monospace\"><span style=\"font-weight: bold\"> Total params: </span><span style=\"color: #00af00; text-decoration-color: #00af00\">1,610,497</span> (6.14 MB)\n",
       "</pre>\n"
      ],
      "text/plain": [
       "\u001b[1m Total params: \u001b[0m\u001b[38;5;34m1,610,497\u001b[0m (6.14 MB)\n"
      ]
     },
     "metadata": {},
     "output_type": "display_data"
    },
    {
     "data": {
      "text/html": [
       "<pre style=\"white-space:pre;overflow-x:auto;line-height:normal;font-family:Menlo,'DejaVu Sans Mono',consolas,'Courier New',monospace\"><span style=\"font-weight: bold\"> Trainable params: </span><span style=\"color: #00af00; text-decoration-color: #00af00\">1,610,497</span> (6.14 MB)\n",
       "</pre>\n"
      ],
      "text/plain": [
       "\u001b[1m Trainable params: \u001b[0m\u001b[38;5;34m1,610,497\u001b[0m (6.14 MB)\n"
      ]
     },
     "metadata": {},
     "output_type": "display_data"
    },
    {
     "data": {
      "text/html": [
       "<pre style=\"white-space:pre;overflow-x:auto;line-height:normal;font-family:Menlo,'DejaVu Sans Mono',consolas,'Courier New',monospace\"><span style=\"font-weight: bold\"> Non-trainable params: </span><span style=\"color: #00af00; text-decoration-color: #00af00\">0</span> (0.00 B)\n",
       "</pre>\n"
      ],
      "text/plain": [
       "\u001b[1m Non-trainable params: \u001b[0m\u001b[38;5;34m0\u001b[0m (0.00 B)\n"
      ]
     },
     "metadata": {},
     "output_type": "display_data"
    }
   ],
   "source": [
    "# Define the model\n",
    "model = Sequential()\n",
    "\n",
    "# Input layer using the shape of the training data:\n",
    "model.add(Input(shape=(X_train.shape[1],)))\n",
    "\n",
    "#First hidden layer with 64 neurons and ReLU activation:\n",
    "model.add(Dense(64, activation='relu'))\n",
    "\n",
    "# Second hidden layer with 32 neurons and ReLU activation:\n",
    "model.add(Dense(32, activation='relu'))\n",
    "\n",
    "# Output layer with 1 neuron and sigmoid activation (for binary classification):\n",
    "model.add(Dense(1, activation='sigmoid'))\n",
    "\n",
    "# Model compilation using binary_crossentropy loss for binary classification:\n",
    "model.compile(loss='binary_crossentropy', optimizer='adam', metrics=['accuracy'])\n",
    "\n",
    "# Print the model summary:\n",
    "model.summary()"
   ]
  },
  {
   "cell_type": "markdown",
   "id": "f33aa1e2-61e6-4998-abf2-a1a889113e52",
   "metadata": {
    "id": "f33aa1e2-61e6-4998-abf2-a1a889113e52"
   },
   "source": [
    "##### Training the model"
   ]
  },
  {
   "cell_type": "code",
   "execution_count": 314,
   "id": "5c339a61-9a70-4433-ad5f-46803550b941",
   "metadata": {
    "colab": {
     "base_uri": "https://localhost:8080/"
    },
    "id": "5c339a61-9a70-4433-ad5f-46803550b941",
    "outputId": "258b3290-129a-4d52-d1c2-d83d70c0b7e2"
   },
   "outputs": [
    {
     "name": "stdout",
     "output_type": "stream",
     "text": [
      "Epoch 1/15\n",
      "\u001b[1m112/112\u001b[0m \u001b[32m━━━━━━━━━━━━━━━━━━━━\u001b[0m\u001b[37m\u001b[0m \u001b[1m5s\u001b[0m 21ms/step - accuracy: 0.8754 - loss: 0.3624 - val_accuracy: 0.9226 - val_loss: 0.2233\n",
      "Epoch 2/15\n",
      "\u001b[1m112/112\u001b[0m \u001b[32m━━━━━━━━━━━━━━━━━━━━\u001b[0m\u001b[37m\u001b[0m \u001b[1m2s\u001b[0m 18ms/step - accuracy: 0.9818 - loss: 0.0974 - val_accuracy: 0.9451 - val_loss: 0.1388\n",
      "Epoch 3/15\n",
      "\u001b[1m112/112\u001b[0m \u001b[32m━━━━━━━━━━━━━━━━━━━━\u001b[0m\u001b[37m\u001b[0m \u001b[1m2s\u001b[0m 17ms/step - accuracy: 0.9949 - loss: 0.0247 - val_accuracy: 0.9507 - val_loss: 0.1243\n",
      "Epoch 4/15\n",
      "\u001b[1m112/112\u001b[0m \u001b[32m━━━━━━━━━━━━━━━━━━━━\u001b[0m\u001b[37m\u001b[0m \u001b[1m2s\u001b[0m 18ms/step - accuracy: 0.9966 - loss: 0.0115 - val_accuracy: 0.9529 - val_loss: 0.1497\n",
      "Epoch 5/15\n",
      "\u001b[1m112/112\u001b[0m \u001b[32m━━━━━━━━━━━━━━━━━━━━\u001b[0m\u001b[37m\u001b[0m \u001b[1m3s\u001b[0m 17ms/step - accuracy: 0.9986 - loss: 0.0072 - val_accuracy: 0.9552 - val_loss: 0.1227\n",
      "Epoch 6/15\n",
      "\u001b[1m112/112\u001b[0m \u001b[32m━━━━━━━━━━━━━━━━━━━━\u001b[0m\u001b[37m\u001b[0m \u001b[1m2s\u001b[0m 17ms/step - accuracy: 0.9996 - loss: 0.0028 - val_accuracy: 0.9585 - val_loss: 0.1423\n",
      "Epoch 7/15\n",
      "\u001b[1m112/112\u001b[0m \u001b[32m━━━━━━━━━━━━━━━━━━━━\u001b[0m\u001b[37m\u001b[0m \u001b[1m3s\u001b[0m 17ms/step - accuracy: 0.9982 - loss: 0.0030 - val_accuracy: 0.9596 - val_loss: 0.1315\n",
      "Epoch 8/15\n",
      "\u001b[1m112/112\u001b[0m \u001b[32m━━━━━━━━━━━━━━━━━━━━\u001b[0m\u001b[37m\u001b[0m \u001b[1m2s\u001b[0m 16ms/step - accuracy: 1.0000 - loss: 6.9474e-04 - val_accuracy: 0.9574 - val_loss: 0.1401\n",
      "Epoch 9/15\n",
      "\u001b[1m112/112\u001b[0m \u001b[32m━━━━━━━━━━━━━━━━━━━━\u001b[0m\u001b[37m\u001b[0m \u001b[1m2s\u001b[0m 17ms/step - accuracy: 1.0000 - loss: 6.4062e-04 - val_accuracy: 0.9596 - val_loss: 0.1513\n",
      "Epoch 10/15\n",
      "\u001b[1m112/112\u001b[0m \u001b[32m━━━━━━━━━━━━━━━━━━━━\u001b[0m\u001b[37m\u001b[0m \u001b[1m3s\u001b[0m 17ms/step - accuracy: 1.0000 - loss: 5.6926e-04 - val_accuracy: 0.9417 - val_loss: 0.1570\n",
      "Epoch 11/15\n",
      "\u001b[1m112/112\u001b[0m \u001b[32m━━━━━━━━━━━━━━━━━━━━\u001b[0m\u001b[37m\u001b[0m \u001b[1m2s\u001b[0m 18ms/step - accuracy: 1.0000 - loss: 4.3662e-04 - val_accuracy: 0.9585 - val_loss: 0.1375\n",
      "Epoch 12/15\n",
      "\u001b[1m112/112\u001b[0m \u001b[32m━━━━━━━━━━━━━━━━━━━━\u001b[0m\u001b[37m\u001b[0m \u001b[1m2s\u001b[0m 17ms/step - accuracy: 1.0000 - loss: 4.8923e-04 - val_accuracy: 0.9574 - val_loss: 0.1424\n",
      "Epoch 13/15\n",
      "\u001b[1m112/112\u001b[0m \u001b[32m━━━━━━━━━━━━━━━━━━━━\u001b[0m\u001b[37m\u001b[0m \u001b[1m3s\u001b[0m 18ms/step - accuracy: 1.0000 - loss: 2.2097e-04 - val_accuracy: 0.9585 - val_loss: 0.1385\n",
      "Epoch 14/15\n",
      "\u001b[1m112/112\u001b[0m \u001b[32m━━━━━━━━━━━━━━━━━━━━\u001b[0m\u001b[37m\u001b[0m \u001b[1m2s\u001b[0m 17ms/step - accuracy: 1.0000 - loss: 2.2313e-04 - val_accuracy: 0.9585 - val_loss: 0.1488\n",
      "Epoch 15/15\n",
      "\u001b[1m112/112\u001b[0m \u001b[32m━━━━━━━━━━━━━━━━━━━━\u001b[0m\u001b[37m\u001b[0m \u001b[1m2s\u001b[0m 14ms/step - accuracy: 1.0000 - loss: 1.9725e-04 - val_accuracy: 0.9585 - val_loss: 0.1449\n"
     ]
    }
   ],
   "source": [
    "# Converting the integer type of the data to float:\n",
    "y_train = y_train.astype('float')\n",
    "X_train = X_train.astype('float')\n",
    "\n",
    "# Training the model:\n",
    "fnn_model = model.fit(X_train, y_train, epochs=15, batch_size=32, validation_split=0.2)"
   ]
  },
  {
   "cell_type": "markdown",
   "id": "155265c5-3844-4ed3-86bf-65dc60e5419a",
   "metadata": {
    "id": "155265c5-3844-4ed3-86bf-65dc60e5419a"
   },
   "source": [
    "##### Model evaluation for FNN"
   ]
  },
  {
   "cell_type": "code",
   "execution_count": 316,
   "id": "db570654-548f-4baa-b6be-aa7cbbf1dec9",
   "metadata": {
    "colab": {
     "base_uri": "https://localhost:8080/"
    },
    "id": "db570654-548f-4baa-b6be-aa7cbbf1dec9",
    "outputId": "b726e330-9c2f-40a3-e425-4f7744e1f794"
   },
   "outputs": [
    {
     "name": "stdout",
     "output_type": "stream",
     "text": [
      "\u001b[1m35/35\u001b[0m \u001b[32m━━━━━━━━━━━━━━━━━━━━\u001b[0m\u001b[37m\u001b[0m \u001b[1m0s\u001b[0m 8ms/step\n",
      "Test Accuracy: 0.96\n"
     ]
    }
   ],
   "source": [
    "# Converting the integer type of the data to float\n",
    "X_test = X_test.astype('float')\n",
    "\n",
    "# Evaluate the model on the test data\n",
    "y_pred_prob_fnn = model.predict(X_test)\n",
    "y_pred_fnn = np.round(y_pred_prob_fnn)\n",
    "\n",
    "# Calculate accuracy\n",
    "fnn_accuracy = accuracy_score(y_test, y_pred_fnn)\n",
    "print(f\"Test Accuracy: {fnn_accuracy:.2f}\")"
   ]
  },
  {
   "cell_type": "code",
   "execution_count": 318,
   "id": "4195c22c-e98e-430e-ac03-40774cbd1851",
   "metadata": {
    "colab": {
     "base_uri": "https://localhost:8080/",
     "height": 927
    },
    "id": "4195c22c-e98e-430e-ac03-40774cbd1851",
    "outputId": "2c655308-6f92-4bb2-af3a-f47806422ac9"
   },
   "outputs": [
    {
     "data": {
      "image/png": "[encoded data removed]",
      "text/plain": [
       "<Figure size 640x480 with 1 Axes>"
      ]
     },
     "metadata": {},
     "output_type": "display_data"
    },
    {
     "data": {
      "image/png": "[encoded data removed]",
      "text/plain": [
       "<Figure size 640x480 with 1 Axes>"
      ]
     },
     "metadata": {},
     "output_type": "display_data"
    }
   ],
   "source": [
    "import matplotlib.pyplot as plt\n",
    "\n",
    "# Plot training & validation accuracy values\n",
    "plt.plot(fnn_model.history['accuracy'])\n",
    "plt.plot(fnn_model.history['val_accuracy'])\n",
    "plt.title('Model accuracy')\n",
    "plt.ylabel('Accuracy')\n",
    "plt.xlabel('Epoch')\n",
    "plt.legend(['Training', 'Validation'], loc='upper left')\n",
    "plt.show()\n",
    "\n",
    "# Plot training & validation loss values\n",
    "plt.plot(fnn_model.history['loss'])\n",
    "plt.plot(fnn_model.history['val_loss'])\n",
    "plt.title('Model loss')\n",
    "plt.ylabel('Loss')\n",
    "plt.xlabel('Epoch')\n",
    "plt.legend(['Training', 'Validation'], loc='upper left')\n",
    "plt.show()"
   ]
  },
  {
   "cell_type": "code",
   "execution_count": 250,
   "id": "fcc0fd48-bab2-4f98-80e3-c1ceb057be45",
   "metadata": {
    "colab": {
     "base_uri": "https://localhost:8080/",
     "height": 452
    },
    "id": "fcc0fd48-bab2-4f98-80e3-c1ceb057be45",
    "outputId": "2215a0b0-163d-4b31-fcaa-24b011160c5e"
   },
   "outputs": [
    {
     "data": {
      "image/png": "[encoded data removed]",
      "text/plain": [
       "<Figure size 640x480 with 1 Axes>"
      ]
     },
     "metadata": {},
     "output_type": "display_data"
    }
   ],
   "source": [
    "x = np.array(['xgboost_accuracy', 'fnn_accuracy'])\n",
    "y = np.array([xgboost_accuracy, fnn_accuracy])\n",
    "\n",
    "fig, ax = plt.subplots()\n",
    "\n",
    "bar_colors = ['yellow', 'green']\n",
    "\n",
    "plt.bar(x, y, color=bar_colors)\n",
    "\n",
    "ax.set_ylabel('Accuracy')\n",
    "ax.set_title('Model Accuracy Comparaison')\n",
    "\n",
    "plt.show()"
   ]
  },
  {
   "cell_type": "markdown",
   "id": "9b0fab5f-2de7-4d9a-a5c7-f2d2a803a381",
   "metadata": {},
   "source": [
    "### This section entails the API creation from the model and use it to predict messages"
   ]
  },
  {
   "cell_type": "markdown",
   "id": "e32e2d0b-f413-4e70-99f8-5fbdb6b0e611",
   "metadata": {},
   "source": [
    "#### API creation"
   ]
  },
  {
   "cell_type": "markdown",
   "id": "38b48b8a-466c-44ea-ba82-264f472eac7b",
   "metadata": {},
   "source": [
    "##### Since the FNN model performs better than the XGB model, I am going to use it fro my API creation"
   ]
  },
  {
   "cell_type": "code",
   "execution_count": 297,
   "id": "dceabf25-7e9a-46d7-b674-bfa92eaa4019",
   "metadata": {},
   "outputs": [],
   "source": [
    "import pickle"
   ]
  },
  {
   "cell_type": "code",
   "execution_count": 342,
   "id": "af0f98a7-0ac0-4bc5-b21d-97f70d91dec8",
   "metadata": {},
   "outputs": [],
   "source": [
    "# Create a model file and save it in the directory:\n",
    "model_file = \"C:\\\\Users\\\\cesar\\\\*******\\\\*******\\\\*******\\\\*******\\\\*******\\\\******\\\\fnn_model.pkl\"\n",
    "with open(model_file, 'wb') as f:\n",
    "    pickle.dump(model, f)\n",
    "\n",
    "# Load the model file:\n",
    "with open(model_file, 'rb') as f:\n",
    "    trained_model = pickle.load(f)"
   ]
  },
  {
   "cell_type": "code",
   "execution_count": 344,
   "id": "8445d205-6477-4a98-9927-8694210831a6",
   "metadata": {},
   "outputs": [
    {
     "name": "stdout",
     "output_type": "stream",
     "text": [
      "\u001b[1m35/35\u001b[0m \u001b[32m━━━━━━━━━━━━━━━━━━━━\u001b[0m\u001b[37m\u001b[0m \u001b[1m0s\u001b[0m 7ms/step\n",
      "Model test score: 96.41 %\n"
     ]
    }
   ],
   "source": [
    "# Calculate the accuracy score and predict target values\n",
    "prediction = trained_model.predict(X_test)\n",
    "y_pred = np.round(prediction)\n",
    "acc_score = accuracy_score(y_test, y_pred)\n",
    "print(\"Model test score: {0:.2f} %\".format(100 * acc_score))"
   ]
  },
  {
   "cell_type": "markdown",
   "id": "8e9a365d-8bd8-4957-84f3-6a04c480e5c0",
   "metadata": {},
   "source": [
    "#### Model prediction application"
   ]
  },
  {
   "cell_type": "code",
   "execution_count": 303,
   "id": "2a48c203-2601-4a49-a922-2537a438b99d",
   "metadata": {},
   "outputs": [],
   "source": [
    "def model_prediction(message, model):\n",
    "    # Predict the mesage category:\n",
    "    predict = model.predict(message)\n",
    "\n",
    "    # Round the result:\n",
    "    predict_message = np.round(predict)\n",
    "\n",
    "    # Return ham if the result is 0. or spam if the result is 1.:\n",
    "    if predict_message == [0.]:\n",
    "       return \"ham\"\n",
    "    if predict_message == [1.]:\n",
    "       return \"spam\" "
   ]
  },
  {
   "cell_type": "code",
   "execution_count": 326,
   "id": "ce70d441-55e3-49fc-8fad-4345cfe8deb5",
   "metadata": {},
   "outputs": [],
   "source": [
    "def input_process_predict(message):\n",
    "    # Including the category fieled in the message, so it can have the same format as the original X_train dataset.\n",
    "        # This is needed to process the message using the same function that processes the original dataset:\n",
    "    cat = \"\"\n",
    "\n",
    "    # Identifying the original columns in which will be used to make sure the message and the original dataset are\n",
    "        # aligned in terms of shape (the y coordinate should be the same).\n",
    "        # Since X and X_train have the same number of columns, I am going to use X to avoid disrupting the model training if\n",
    "        # the X_train is converted to Pandas:\n",
    "    training_dataset_columns = pd.get_dummies(X).columns\n",
    "\n",
    "    # Create a dataframe for the new message using the create_words function:\n",
    "    message_df = pd.DataFrame([message, cat]).reset_index(drop=True)\n",
    "    message_df_updated = message_df.T.rename(columns={0: 'Message Content', 1: 'Category'})\n",
    "    processed_df = create_words_df(message_df_updated)\n",
    "    processed_df = processed_df.replace('',0)\n",
    "    processed_df = processed_df.drop('category', axis=1)\n",
    "    \n",
    "    # Convert the new message into dummy variables:\n",
    "    message_dummyfied = pd.get_dummies(processed_df)\n",
    "    \n",
    "    # Adjust the message columns (number of columns) with original training dataset columns:\n",
    "    message_dummyfied_adjusted = message_dummyfied.reindex(columns=training_dataset_columns, fill_value=0)\n",
    "\n",
    "    # Truncate the message to fit the maximum length expected by the model:\n",
    "    if message_dummyfied_adjusted.shape[1] > len(training_dataset_columns):\n",
    "        message_dummyfied_adjusted = message_dummyfied_adjusted.iloc[:, :len(training_dataset_columns)]\n",
    "    # Or pad the message if its length is less than the max length of the original dataset:\n",
    "    elif message_dummyfied_adjusted.shape[1] < len(training_dataset_columns):\n",
    "        message_dummyfied_adjusted = message_dummyfied_adjusted.reindex(columns=training_dataset_columns, fill_value=0)\n",
    "\n",
    "    # Predict the category of the message:\n",
    "    pred_res = model_prediction(message_dummyfied_adjusted.astype('float'), trained_model)\n",
    "    return pred_res"
   ]
  },
  {
   "cell_type": "code",
   "execution_count": 328,
   "id": "7d55b2f4-0c51-4777-9245-1eb97769de61",
   "metadata": {},
   "outputs": [
    {
     "name": "stdin",
     "output_type": "stream",
     "text": [
      "Enter message here:\n",
      " We’re happy to inform you that you’re entitled to a refund for overpayment on your AMEX account. Click on this link [Link] below to claim your refund.\n"
     ]
    },
    {
     "name": "stdout",
     "output_type": "stream",
     "text": [
      "\u001b[1m1/1\u001b[0m \u001b[32m━━━━━━━━━━━━━━━━━━━━\u001b[0m\u001b[37m\u001b[0m \u001b[1m0s\u001b[0m 49ms/step\n",
      "\u001b[31mThis message is spam\n"
     ]
    }
   ],
   "source": [
    "msg_pred = input(\"Enter message here:\\n\")\n",
    "msg_pred_res = input_process_predict(msg_pred)\n",
    "if msg_pred_res == 'ham':\n",
    "    print(Fore.GREEN + \"This message is {}\".format(msg_pred_res))\n",
    "elif msg_pred_res == 'spam':\n",
    "    print(Fore.RED + \"This message is {}\".format(msg_pred_res))"
   ]
  },
  {
   "cell_type": "code",
   "execution_count": 330,
   "id": "8436833e-282f-48a4-8ac3-34e9c14b7730",
   "metadata": {},
   "outputs": [
    {
     "name": "stdin",
     "output_type": "stream",
     "text": [
      "Enter message here:\n",
      " Can't make it to dinner tonight. I am leaving work late\n"
     ]
    },
    {
     "name": "stdout",
     "output_type": "stream",
     "text": [
      "\u001b[1m1/1\u001b[0m \u001b[32m━━━━━━━━━━━━━━━━━━━━\u001b[0m\u001b[37m\u001b[0m \u001b[1m0s\u001b[0m 31ms/step\n",
      "\u001b[32mThis message is ham\n"
     ]
    }
   ],
   "source": [
    "msg_pred = input(\"Enter message here:\\n\")\n",
    "msg_pred_res = input_process_predict(msg_pred)\n",
    "if msg_pred_res == 'ham':\n",
    "    print(Fore.GREEN + \"This message is {}\".format(msg_pred_res))\n",
    "elif msg_pred_res == 'spam':\n",
    "    print(Fore.RED + \"This message is {}\".format(msg_pred_res))"
   ]
  },
  {
   "cell_type": "code",
   "execution_count": null,
   "id": "1d28af09-81a3-4b43-9120-04b2591dd09b",
   "metadata": {},
   "outputs": [],
   "source": []
  }
 ],
 "metadata": {
  "colab": {
   "provenance": []
  },
  "kernelspec": {
   "display_name": "Python 3 (ipykernel)",
   "language": "python",
   "name": "python3"
  },
  "language_info": {
   "codemirror_mode": {
    "name": "ipython",
    "version": 3
   },
   "file_extension": ".py",
   "mimetype": "text/x-python",
   "name": "python",
   "nbconvert_exporter": "python",
   "pygments_lexer": "ipython3",
   "version": "3.11.5"
  }
 },
 "nbformat": 4,
 "nbformat_minor": 5
}
