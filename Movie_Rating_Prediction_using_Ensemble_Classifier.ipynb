{
  "cells": [
    {
      "cell_type": "markdown",
      "metadata": {
        "id": "view-in-github",
        "colab_type": "text"
      },
      "source": [
        "<a href=\"https://colab.research.google.com/github/cesarhanna/Data-Science-Projects/blob/main/Movie_Rating_Prediction_using_Ensemble_Classifier.ipynb\" target=\"_parent\"><img src=\"https://colab.research.google.com/assets/colab-badge.svg\" alt=\"Open In Colab\"/></a>"
      ]
    },
    {
      "cell_type": "markdown",
      "source": [
        "# <center>Movie Rating Prediction using Ensemble Classifier</center>"
      ],
      "metadata": {
        "id": "nEhiNOVgJ5tj"
      }
    },
    {
      "cell_type": "markdown",
      "source": [
        "<br>"
      ],
      "metadata": {
        "id": "zcxTNjFCJ5tm"
      }
    },
    {
      "cell_type": "markdown",
      "source": [
        "**Author:** Cesar Hanna"
      ],
      "metadata": {
        "id": "EO5KJktlJ5tn"
      }
    },
    {
      "cell_type": "markdown",
      "source": [
        "**Date:** September 13, 2022"
      ],
      "metadata": {
        "id": "B50xJ8ZLJ5to"
      }
    },
    {
      "cell_type": "markdown",
      "source": [
        "## **Introduction**"
      ],
      "metadata": {
        "id": "h0k4XjELJ5tp"
      }
    },
    {
      "cell_type": "markdown",
      "source": [
        "Since decades TV was and still the number 1 entertainment for a lot of people with different ages, genderes, occupations and interests.\n",
        "\n",
        "With that, TV entertainment companies are always on the search of enhancing the viewers experience by providng suggestions and recommendations on what to watch based on the viewer's behavior. This has proven the efficiency on improving the number of viewers and the subscribers level of satisfaction."
      ],
      "metadata": {
        "id": "X7MxmhxBJ5tq"
      }
    },
    {
      "cell_type": "markdown",
      "source": [
        "## **The Challenge**"
      ],
      "metadata": {
        "id": "SVyx5g2KJ5tq"
      }
    },
    {
      "cell_type": "markdown",
      "source": [
        "Keeping the customer happy and willing to invest more in the product at hand is no easy task and requires a lot of dedication and support, which in turn require time and money to invest in resources that could be challenging to acquire for many reasons.\n",
        "\n",
        "Imagine that you hire talents to monitor viewers behavior and follow up with each and every one of them for new suggestions and recommendations, that would be almost impossible to achieve!"
      ],
      "metadata": {
        "id": "Y6AbHd47J5tr"
      }
    },
    {
      "cell_type": "markdown",
      "source": [
        "## **Description of the Solution**"
      ],
      "metadata": {
        "id": "-cVg6Jo1J5tr"
      }
    },
    {
      "cell_type": "markdown",
      "source": [
        "The reason of this analysis is to avoid the human interaction as much as possible and help the recommendation mechanism to provide the right suggestions by visualizing different aspects of the users behavior and predict the user ratings of movie genres, based on different independent varibales that will be described in details in the next sections.\n",
        "\n",
        "This analysis will include different data frames and visualization methods in order to achieve the required target, and that is the viewers recommendation for each of the different groups that will be extracted from the data set."
      ],
      "metadata": {
        "id": "gbgZ-hn1J5ts"
      }
    },
    {
      "cell_type": "markdown",
      "source": [
        "## **Description of Data**"
      ],
      "metadata": {
        "id": "qPyR5C-eJ5ts"
      }
    },
    {
      "cell_type": "markdown",
      "source": [
        "The data extracted will contain the following variables. Of course not all of them will be used for analysis, however, the ones that will be used are described in the Decision Criterion section.\n",
        "\n",
        "- User_ID\n",
        "- Gender\n",
        "- Age_Range\n",
        "- Occupation\n",
        "- Zip_Code\n",
        "- Timestamp\n",
        "- Movie_ID\n",
        "- Title\n",
        "- Genres\n",
        "- Rating\n",
        "\n",
        "Value description of some of the above variables:\n",
        "- Ratings are made on a 5-star scale (whole-star ratings only)\n",
        "- Timestamp is represented in seconds since the epoch\n",
        "- Gender is denoted by a \"M\" for male and \"F\" for female\n",
        "- Age is chosen from the following ranges:\n",
        " - 1:  \"Under 18\"\n",
        " - 18:  \"18-24\"\n",
        " - 25:  \"25-34\"\n",
        " - 35:  \"35-44\"\n",
        " - 45:  \"45-49\"\n",
        " - 50:  \"50-55\"\n",
        " - 56:  \"56+\"\n",
        "- Occupation is chosen from the following choices:\n",
        " - 0:  \"other\" or not specified\n",
        " - 1:  \"academic/educator\"\n",
        " - 2:  \"artist\"\n",
        " - 3:  \"clerical/admin\"\n",
        " - 4:  \"college/grad student\"\n",
        " - 5:  \"customer service\"\n",
        " - 6:  \"doctor/health care\"\n",
        " - 7:  \"executive/managerial\"\n",
        " - 8:  \"farmer\"\n",
        " - 9:  \"homemaker\"\n",
        " - 10:  \"K-12 student\"\n",
        " - 11:  \"lawyer\"\n",
        " - 12:  \"programmer\"\n",
        " - 13:  \"retired\"\n",
        " - 14:  \"sales/marketing\"\n",
        " - 15:  \"scientist\"\n",
        " - 16:  \"self-employed\"\n",
        " - 17:  \"technician/engineer\"\n",
        " - 18:  \"tradesman/craftsman\"\n",
        " - 19:  \"unemployed\"\n",
        " - 20:  \"writer\""
      ],
      "metadata": {
        "id": "Bhb2nUwlJ5ts"
      }
    },
    {
      "cell_type": "markdown",
      "source": [
        "## **Data References**"
      ],
      "metadata": {
        "id": "QxgORPiqJ5tt"
      }
    },
    {
      "cell_type": "markdown",
      "source": [
        "- https://www.lafabbricadellarealta.com/open-data-entertainment/\n",
        "- https://grouplens.org/datasets/movielens/"
      ],
      "metadata": {
        "id": "MjAl5_cTJ5tt"
      }
    },
    {
      "cell_type": "markdown",
      "source": [
        "## **Recommendation Criterion**"
      ],
      "metadata": {
        "id": "WFMy6o6AJ5tt"
      }
    },
    {
      "cell_type": "markdown",
      "source": [
        "The end result of the analysis will be to predict the ratings of each movie genre predicted by the users based on certain features.\n",
        "\n",
        "Predicting the ratings will be the basic of recommending movies, by defining a certain rating threshold, howver, this is not part of this notebook.\n",
        "\n",
        "The most important features that will be used are:\n",
        "- Gender\n",
        "- Age_Range\n",
        "- Occupation\n",
        "- Genre\n",
        "\n",
        "The target will be:\n",
        "- Rating"
      ],
      "metadata": {
        "id": "YE8AOyn_J5tt"
      }
    },
    {
      "cell_type": "markdown",
      "source": [
        "## **Data Frames**"
      ],
      "metadata": {
        "id": "h-D1NNEfJ5tu"
      }
    },
    {
      "cell_type": "markdown",
      "source": [
        "- **Step 1**: Importing and installing all the necessary libraries and packages\n",
        "- **Step 2**: Reading all the data sets extracted from the aforementioned data references into data frames\n",
        "- **Step 3**: Data wrangling - editing and cleaning-up\n",
        "- **Step 4**: Merging the data frames and creating the feautes dataframe and the target dataframe"
      ],
      "metadata": {
        "id": "QYm4Uu7VJ5tu"
      }
    },
    {
      "cell_type": "markdown",
      "source": [
        "&nbsp;&nbsp;&nbsp;&nbsp;&nbsp;&nbsp;&nbsp;**Step 1: Importing and installing all the necessary libraries and packages**"
      ],
      "metadata": {
        "id": "Z266OJseJ5tu"
      }
    },
    {
      "cell_type": "code",
      "source": [
        "#Library for data analsysis\n",
        "import pandas as pd\n",
        "\n",
        "#Library to handle data in a vectorized manner\n",
        "import numpy as np\n",
        "\n",
        "#Matplotlib library used for plotting different types of plots\n",
        "import matplotlib.pyplot as plt\n",
        "%matplotlib inline\n",
        "\n",
        "#Seaborn used to plot a type of histogram and scatter plot\n",
        "import seaborn as sns\n",
        "\n",
        "print('Libraries are imported!')"
      ],
      "outputs": [
        {
          "output_type": "stream",
          "name": "stdout",
          "text": "Libraries are imported!\n"
        }
      ],
      "execution_count": null,
      "metadata": {
        "colab": {
          "base_uri": "https://localhost:8080/"
        },
        "id": "dsoJ4glHJ5tu",
        "outputId": "7bd1a4a6-a716-48e5-94d9-9e03d067f4ea",
        "gather": {
          "logged": 1663134175430
        }
      }
    },
    {
      "cell_type": "markdown",
      "source": [
        "<br>"
      ],
      "metadata": {
        "id": "dgE5joMeJ5tw"
      }
    },
    {
      "cell_type": "markdown",
      "source": [
        "&nbsp;&nbsp;&nbsp;&nbsp;&nbsp;&nbsp;&nbsp;**Step 2: Reading all the data sets extracted from the aforementioned data references into data frames**"
      ],
      "metadata": {
        "id": "s9vezYTEJ5tw"
      }
    },
    {
      "cell_type": "code",
      "source": [
        "import pandas as pd\n",
        "\n",
        "df_users = pd.read_csv('users.csv')\n",
        "df_users"
      ],
      "outputs": [
        {
          "output_type": "execute_result",
          "execution_count": 2,
          "data": {
            "text/plain": "      User_ID Gender  Age_Range  Occupation Zip_Code\n0           1      F          1          10    48067\n1           2      M         56          16    70072\n2           3      M         25          15    55117\n3           4      M         45           7     2460\n4           5      M         25          20    55455\n...       ...    ...        ...         ...      ...\n6035     6036      F         25          15    32603\n6036     6037      F         45           1    76006\n6037     6038      F         56           1    14706\n6038     6039      F         45           0     1060\n6039     6040      M         25           6    11106\n\n[6040 rows x 5 columns]",
            "text/html": "<div>\n<style scoped>\n    .dataframe tbody tr th:only-of-type {\n        vertical-align: middle;\n    }\n\n    .dataframe tbody tr th {\n        vertical-align: top;\n    }\n\n    .dataframe thead th {\n        text-align: right;\n    }\n</style>\n<table border=\"1\" class=\"dataframe\">\n  <thead>\n    <tr style=\"text-align: right;\">\n      <th></th>\n      <th>User_ID</th>\n      <th>Gender</th>\n      <th>Age_Range</th>\n      <th>Occupation</th>\n      <th>Zip_Code</th>\n    </tr>\n  </thead>\n  <tbody>\n    <tr>\n      <th>0</th>\n      <td>1</td>\n      <td>F</td>\n      <td>1</td>\n      <td>10</td>\n      <td>48067</td>\n    </tr>\n    <tr>\n      <th>1</th>\n      <td>2</td>\n      <td>M</td>\n      <td>56</td>\n      <td>16</td>\n      <td>70072</td>\n    </tr>\n    <tr>\n      <th>2</th>\n      <td>3</td>\n      <td>M</td>\n      <td>25</td>\n      <td>15</td>\n      <td>55117</td>\n    </tr>\n    <tr>\n      <th>3</th>\n      <td>4</td>\n      <td>M</td>\n      <td>45</td>\n      <td>7</td>\n      <td>2460</td>\n    </tr>\n    <tr>\n      <th>4</th>\n      <td>5</td>\n      <td>M</td>\n      <td>25</td>\n      <td>20</td>\n      <td>55455</td>\n    </tr>\n    <tr>\n      <th>...</th>\n      <td>...</td>\n      <td>...</td>\n      <td>...</td>\n      <td>...</td>\n      <td>...</td>\n    </tr>\n    <tr>\n      <th>6035</th>\n      <td>6036</td>\n      <td>F</td>\n      <td>25</td>\n      <td>15</td>\n      <td>32603</td>\n    </tr>\n    <tr>\n      <th>6036</th>\n      <td>6037</td>\n      <td>F</td>\n      <td>45</td>\n      <td>1</td>\n      <td>76006</td>\n    </tr>\n    <tr>\n      <th>6037</th>\n      <td>6038</td>\n      <td>F</td>\n      <td>56</td>\n      <td>1</td>\n      <td>14706</td>\n    </tr>\n    <tr>\n      <th>6038</th>\n      <td>6039</td>\n      <td>F</td>\n      <td>45</td>\n      <td>0</td>\n      <td>1060</td>\n    </tr>\n    <tr>\n      <th>6039</th>\n      <td>6040</td>\n      <td>M</td>\n      <td>25</td>\n      <td>6</td>\n      <td>11106</td>\n    </tr>\n  </tbody>\n</table>\n<p>6040 rows × 5 columns</p>\n</div>"
          },
          "metadata": {}
        }
      ],
      "execution_count": null,
      "metadata": {
        "colab": {
          "base_uri": "https://localhost:8080/",
          "height": 424
        },
        "id": "eH97hkPHJ5tw",
        "outputId": "d8dc2518-c9f9-4da3-97be-95a5c54932d3",
        "gather": {
          "logged": 1663134180122
        }
      }
    },
    {
      "cell_type": "code",
      "source": [
        "df_movies = pd.read_csv('movies.csv', encoding='latin-1')\n",
        "df_movies"
      ],
      "outputs": [
        {
          "output_type": "execute_result",
          "execution_count": 3,
          "data": {
            "text/plain": "      Movie_ID                               Title  \\\n0            1                    Toy Story (1995)   \n1            2                      Jumanji (1995)   \n2            3             Grumpier Old Men (1995)   \n3            4            Waiting to Exhale (1995)   \n4            5  Father of the Bride Part II (1995)   \n...        ...                                 ...   \n3878      3948             Meet the Parents (2000)   \n3879      3949          Requiem for a Dream (2000)   \n3880      3950                    Tigerland (2000)   \n3881      3951             Two Family House (2000)   \n3882      3952               Contender, The (2000)   \n\n                            Genres  \n0      Animation|Children's|Comedy  \n1     Adventure|Children's|Fantasy  \n2                   Comedy|Romance  \n3                     Comedy|Drama  \n4                           Comedy  \n...                            ...  \n3878                        Comedy  \n3879                         Drama  \n3880                         Drama  \n3881                         Drama  \n3882                Drama|Thriller  \n\n[3883 rows x 3 columns]",
            "text/html": "<div>\n<style scoped>\n    .dataframe tbody tr th:only-of-type {\n        vertical-align: middle;\n    }\n\n    .dataframe tbody tr th {\n        vertical-align: top;\n    }\n\n    .dataframe thead th {\n        text-align: right;\n    }\n</style>\n<table border=\"1\" class=\"dataframe\">\n  <thead>\n    <tr style=\"text-align: right;\">\n      <th></th>\n      <th>Movie_ID</th>\n      <th>Title</th>\n      <th>Genres</th>\n    </tr>\n  </thead>\n  <tbody>\n    <tr>\n      <th>0</th>\n      <td>1</td>\n      <td>Toy Story (1995)</td>\n      <td>Animation|Children's|Comedy</td>\n    </tr>\n    <tr>\n      <th>1</th>\n      <td>2</td>\n      <td>Jumanji (1995)</td>\n      <td>Adventure|Children's|Fantasy</td>\n    </tr>\n    <tr>\n      <th>2</th>\n      <td>3</td>\n      <td>Grumpier Old Men (1995)</td>\n      <td>Comedy|Romance</td>\n    </tr>\n    <tr>\n      <th>3</th>\n      <td>4</td>\n      <td>Waiting to Exhale (1995)</td>\n      <td>Comedy|Drama</td>\n    </tr>\n    <tr>\n      <th>4</th>\n      <td>5</td>\n      <td>Father of the Bride Part II (1995)</td>\n      <td>Comedy</td>\n    </tr>\n    <tr>\n      <th>...</th>\n      <td>...</td>\n      <td>...</td>\n      <td>...</td>\n    </tr>\n    <tr>\n      <th>3878</th>\n      <td>3948</td>\n      <td>Meet the Parents (2000)</td>\n      <td>Comedy</td>\n    </tr>\n    <tr>\n      <th>3879</th>\n      <td>3949</td>\n      <td>Requiem for a Dream (2000)</td>\n      <td>Drama</td>\n    </tr>\n    <tr>\n      <th>3880</th>\n      <td>3950</td>\n      <td>Tigerland (2000)</td>\n      <td>Drama</td>\n    </tr>\n    <tr>\n      <th>3881</th>\n      <td>3951</td>\n      <td>Two Family House (2000)</td>\n      <td>Drama</td>\n    </tr>\n    <tr>\n      <th>3882</th>\n      <td>3952</td>\n      <td>Contender, The (2000)</td>\n      <td>Drama|Thriller</td>\n    </tr>\n  </tbody>\n</table>\n<p>3883 rows × 3 columns</p>\n</div>"
          },
          "metadata": {}
        }
      ],
      "execution_count": null,
      "metadata": {
        "colab": {
          "base_uri": "https://localhost:8080/",
          "height": 424
        },
        "id": "M_5MTJbaJ5tw",
        "outputId": "dea3286f-d67c-435b-c6ad-fdd1bda0cdb5",
        "gather": {
          "logged": 1663134184446
        }
      }
    },
    {
      "cell_type": "code",
      "source": [
        "df_ratings = pd.read_csv('ratings.csv')\n",
        "df_ratings"
      ],
      "outputs": [
        {
          "output_type": "execute_result",
          "execution_count": 4,
          "data": {
            "text/plain": "         User_ID  Movie_ID  Rating  Timestamp\n0              1      1193       5  978300760\n1              1       661       3  978302109\n2              1       914       3  978301968\n3              1      3408       4  978300275\n4              1      2355       5  978824291\n...          ...       ...     ...        ...\n1000204     6040      1091       1  956716541\n1000205     6040      1094       5  956704887\n1000206     6040       562       5  956704746\n1000207     6040      1096       4  956715648\n1000208     6040      1097       4  956715569\n\n[1000209 rows x 4 columns]",
            "text/html": "<div>\n<style scoped>\n    .dataframe tbody tr th:only-of-type {\n        vertical-align: middle;\n    }\n\n    .dataframe tbody tr th {\n        vertical-align: top;\n    }\n\n    .dataframe thead th {\n        text-align: right;\n    }\n</style>\n<table border=\"1\" class=\"dataframe\">\n  <thead>\n    <tr style=\"text-align: right;\">\n      <th></th>\n      <th>User_ID</th>\n      <th>Movie_ID</th>\n      <th>Rating</th>\n      <th>Timestamp</th>\n    </tr>\n  </thead>\n  <tbody>\n    <tr>\n      <th>0</th>\n      <td>1</td>\n      <td>1193</td>\n      <td>5</td>\n      <td>978300760</td>\n    </tr>\n    <tr>\n      <th>1</th>\n      <td>1</td>\n      <td>661</td>\n      <td>3</td>\n      <td>978302109</td>\n    </tr>\n    <tr>\n      <th>2</th>\n      <td>1</td>\n      <td>914</td>\n      <td>3</td>\n      <td>978301968</td>\n    </tr>\n    <tr>\n      <th>3</th>\n      <td>1</td>\n      <td>3408</td>\n      <td>4</td>\n      <td>978300275</td>\n    </tr>\n    <tr>\n      <th>4</th>\n      <td>1</td>\n      <td>2355</td>\n      <td>5</td>\n      <td>978824291</td>\n    </tr>\n    <tr>\n      <th>...</th>\n      <td>...</td>\n      <td>...</td>\n      <td>...</td>\n      <td>...</td>\n    </tr>\n    <tr>\n      <th>1000204</th>\n      <td>6040</td>\n      <td>1091</td>\n      <td>1</td>\n      <td>956716541</td>\n    </tr>\n    <tr>\n      <th>1000205</th>\n      <td>6040</td>\n      <td>1094</td>\n      <td>5</td>\n      <td>956704887</td>\n    </tr>\n    <tr>\n      <th>1000206</th>\n      <td>6040</td>\n      <td>562</td>\n      <td>5</td>\n      <td>956704746</td>\n    </tr>\n    <tr>\n      <th>1000207</th>\n      <td>6040</td>\n      <td>1096</td>\n      <td>4</td>\n      <td>956715648</td>\n    </tr>\n    <tr>\n      <th>1000208</th>\n      <td>6040</td>\n      <td>1097</td>\n      <td>4</td>\n      <td>956715569</td>\n    </tr>\n  </tbody>\n</table>\n<p>1000209 rows × 4 columns</p>\n</div>"
          },
          "metadata": {}
        }
      ],
      "execution_count": null,
      "metadata": {
        "colab": {
          "base_uri": "https://localhost:8080/",
          "height": 424
        },
        "id": "8n2Ex61bJ5tx",
        "outputId": "5907eecb-ec51-47a8-b96f-b9c514a917e5",
        "gather": {
          "logged": 1663134188472
        }
      }
    },
    {
      "cell_type": "markdown",
      "source": [
        "<br>"
      ],
      "metadata": {
        "id": "S33aY_uaJ5tx"
      }
    },
    {
      "cell_type": "markdown",
      "source": [
        "&nbsp;&nbsp;&nbsp;&nbsp;&nbsp;&nbsp;&nbsp;**Step 3: Data wrangling - editing and cleaning-up**"
      ],
      "metadata": {
        "id": "Iqkst3tvJ5tx"
      }
    },
    {
      "cell_type": "markdown",
      "source": [
        "&nbsp;&nbsp;&nbsp;&nbsp;&nbsp;&nbsp;&nbsp;&nbsp;&nbsp;&nbsp;&nbsp;&nbsp;&nbsp;&nbsp;Dropping the \"Timestamp\" and \"Zip_Code\" variables as they are not relevant in the analysis"
      ],
      "metadata": {
        "id": "8VmKW_VFJ5tx"
      }
    },
    {
      "cell_type": "code",
      "source": [
        "df_users_updated = df_users.drop(['Zip_Code'], axis=1)\n",
        "df_users_updated.head()"
      ],
      "outputs": [
        {
          "output_type": "execute_result",
          "execution_count": 5,
          "data": {
            "text/plain": "   User_ID Gender  Age_Range  Occupation\n0        1      F          1          10\n1        2      M         56          16\n2        3      M         25          15\n3        4      M         45           7\n4        5      M         25          20",
            "text/html": "<div>\n<style scoped>\n    .dataframe tbody tr th:only-of-type {\n        vertical-align: middle;\n    }\n\n    .dataframe tbody tr th {\n        vertical-align: top;\n    }\n\n    .dataframe thead th {\n        text-align: right;\n    }\n</style>\n<table border=\"1\" class=\"dataframe\">\n  <thead>\n    <tr style=\"text-align: right;\">\n      <th></th>\n      <th>User_ID</th>\n      <th>Gender</th>\n      <th>Age_Range</th>\n      <th>Occupation</th>\n    </tr>\n  </thead>\n  <tbody>\n    <tr>\n      <th>0</th>\n      <td>1</td>\n      <td>F</td>\n      <td>1</td>\n      <td>10</td>\n    </tr>\n    <tr>\n      <th>1</th>\n      <td>2</td>\n      <td>M</td>\n      <td>56</td>\n      <td>16</td>\n    </tr>\n    <tr>\n      <th>2</th>\n      <td>3</td>\n      <td>M</td>\n      <td>25</td>\n      <td>15</td>\n    </tr>\n    <tr>\n      <th>3</th>\n      <td>4</td>\n      <td>M</td>\n      <td>45</td>\n      <td>7</td>\n    </tr>\n    <tr>\n      <th>4</th>\n      <td>5</td>\n      <td>M</td>\n      <td>25</td>\n      <td>20</td>\n    </tr>\n  </tbody>\n</table>\n</div>"
          },
          "metadata": {}
        }
      ],
      "execution_count": null,
      "metadata": {
        "colab": {
          "base_uri": "https://localhost:8080/",
          "height": 206
        },
        "id": "IHT8Br8PJ5tx",
        "outputId": "58988012-11af-4b40-beca-7fe13282759a",
        "gather": {
          "logged": 1663134192943
        }
      }
    },
    {
      "cell_type": "code",
      "source": [
        "df_ratings_updated = df_ratings.drop(['Timestamp'], axis=1)\n",
        "df_ratings_updated.head()"
      ],
      "outputs": [
        {
          "output_type": "execute_result",
          "execution_count": 6,
          "data": {
            "text/plain": "   User_ID  Movie_ID  Rating\n0        1      1193       5\n1        1       661       3\n2        1       914       3\n3        1      3408       4\n4        1      2355       5",
            "text/html": "<div>\n<style scoped>\n    .dataframe tbody tr th:only-of-type {\n        vertical-align: middle;\n    }\n\n    .dataframe tbody tr th {\n        vertical-align: top;\n    }\n\n    .dataframe thead th {\n        text-align: right;\n    }\n</style>\n<table border=\"1\" class=\"dataframe\">\n  <thead>\n    <tr style=\"text-align: right;\">\n      <th></th>\n      <th>User_ID</th>\n      <th>Movie_ID</th>\n      <th>Rating</th>\n    </tr>\n  </thead>\n  <tbody>\n    <tr>\n      <th>0</th>\n      <td>1</td>\n      <td>1193</td>\n      <td>5</td>\n    </tr>\n    <tr>\n      <th>1</th>\n      <td>1</td>\n      <td>661</td>\n      <td>3</td>\n    </tr>\n    <tr>\n      <th>2</th>\n      <td>1</td>\n      <td>914</td>\n      <td>3</td>\n    </tr>\n    <tr>\n      <th>3</th>\n      <td>1</td>\n      <td>3408</td>\n      <td>4</td>\n    </tr>\n    <tr>\n      <th>4</th>\n      <td>1</td>\n      <td>2355</td>\n      <td>5</td>\n    </tr>\n  </tbody>\n</table>\n</div>"
          },
          "metadata": {}
        }
      ],
      "execution_count": null,
      "metadata": {
        "colab": {
          "base_uri": "https://localhost:8080/",
          "height": 206
        },
        "id": "TFcDPX7nJ5tx",
        "outputId": "b80fcc71-d875-4388-c131-d9c43dc6415d",
        "gather": {
          "logged": 1663134200308
        }
      }
    },
    {
      "cell_type": "markdown",
      "source": [
        "<br>"
      ],
      "metadata": {
        "id": "iSHWBWd7J5tx"
      }
    },
    {
      "cell_type": "markdown",
      "source": [
        "&nbsp;&nbsp;&nbsp;&nbsp;&nbsp;&nbsp;&nbsp;**Step 4: Merging the data frames**"
      ],
      "metadata": {
        "id": "Pns3ugx_J5ty"
      }
    },
    {
      "cell_type": "code",
      "source": [
        "#Merging first df_users_updated and df_movies\n",
        "df_users_info = df_ratings_updated[['User_ID']].merge(df_users_updated[['User_ID', 'Gender', 'Age_Range', 'Occupation']], on=['User_ID'], how='left')\n",
        "df_users_info"
      ],
      "outputs": [
        {
          "output_type": "execute_result",
          "execution_count": 7,
          "data": {
            "text/plain": "         User_ID Gender  Age_Range  Occupation\n0              1      F          1          10\n1              1      F          1          10\n2              1      F          1          10\n3              1      F          1          10\n4              1      F          1          10\n...          ...    ...        ...         ...\n1000204     6040      M         25           6\n1000205     6040      M         25           6\n1000206     6040      M         25           6\n1000207     6040      M         25           6\n1000208     6040      M         25           6\n\n[1000209 rows x 4 columns]",
            "text/html": "<div>\n<style scoped>\n    .dataframe tbody tr th:only-of-type {\n        vertical-align: middle;\n    }\n\n    .dataframe tbody tr th {\n        vertical-align: top;\n    }\n\n    .dataframe thead th {\n        text-align: right;\n    }\n</style>\n<table border=\"1\" class=\"dataframe\">\n  <thead>\n    <tr style=\"text-align: right;\">\n      <th></th>\n      <th>User_ID</th>\n      <th>Gender</th>\n      <th>Age_Range</th>\n      <th>Occupation</th>\n    </tr>\n  </thead>\n  <tbody>\n    <tr>\n      <th>0</th>\n      <td>1</td>\n      <td>F</td>\n      <td>1</td>\n      <td>10</td>\n    </tr>\n    <tr>\n      <th>1</th>\n      <td>1</td>\n      <td>F</td>\n      <td>1</td>\n      <td>10</td>\n    </tr>\n    <tr>\n      <th>2</th>\n      <td>1</td>\n      <td>F</td>\n      <td>1</td>\n      <td>10</td>\n    </tr>\n    <tr>\n      <th>3</th>\n      <td>1</td>\n      <td>F</td>\n      <td>1</td>\n      <td>10</td>\n    </tr>\n    <tr>\n      <th>4</th>\n      <td>1</td>\n      <td>F</td>\n      <td>1</td>\n      <td>10</td>\n    </tr>\n    <tr>\n      <th>...</th>\n      <td>...</td>\n      <td>...</td>\n      <td>...</td>\n      <td>...</td>\n    </tr>\n    <tr>\n      <th>1000204</th>\n      <td>6040</td>\n      <td>M</td>\n      <td>25</td>\n      <td>6</td>\n    </tr>\n    <tr>\n      <th>1000205</th>\n      <td>6040</td>\n      <td>M</td>\n      <td>25</td>\n      <td>6</td>\n    </tr>\n    <tr>\n      <th>1000206</th>\n      <td>6040</td>\n      <td>M</td>\n      <td>25</td>\n      <td>6</td>\n    </tr>\n    <tr>\n      <th>1000207</th>\n      <td>6040</td>\n      <td>M</td>\n      <td>25</td>\n      <td>6</td>\n    </tr>\n    <tr>\n      <th>1000208</th>\n      <td>6040</td>\n      <td>M</td>\n      <td>25</td>\n      <td>6</td>\n    </tr>\n  </tbody>\n</table>\n<p>1000209 rows × 4 columns</p>\n</div>"
          },
          "metadata": {}
        }
      ],
      "execution_count": null,
      "metadata": {
        "colab": {
          "base_uri": "https://localhost:8080/",
          "height": 424
        },
        "id": "7g_BDr9fJ5ty",
        "outputId": "63d3a1be-c308-4b67-a528-59ee79432f4c",
        "gather": {
          "logged": 1663134207589
        }
      }
    },
    {
      "cell_type": "code",
      "source": [
        "df_movie_info = df_ratings_updated[['User_ID', 'Movie_ID', 'Rating']].merge(df_movies[['Movie_ID', 'Title', 'Genres']], on=['Movie_ID'], how='left')\n",
        "df_movie_info"
      ],
      "outputs": [
        {
          "output_type": "execute_result",
          "execution_count": 18,
          "data": {
            "text/plain": "         User_ID  Movie_ID  Rating                                   Title  \\\n0              1      1193       5  One Flew Over the Cuckoo's Nest (1975)   \n1              1       661       3        James and the Giant Peach (1996)   \n2              1       914       3                     My Fair Lady (1964)   \n3              1      3408       4                  Erin Brockovich (2000)   \n4              1      2355       5                    Bug's Life, A (1998)   \n...          ...       ...     ...                                     ...   \n1000204     6040      1091       1              Weekend at Bernie's (1989)   \n1000205     6040      1094       5                 Crying Game, The (1992)   \n1000206     6040       562       5         Welcome to the Dollhouse (1995)   \n1000207     6040      1096       4                  Sophie's Choice (1982)   \n1000208     6040      1097       4       E.T. the Extra-Terrestrial (1982)   \n\n                                  Genres  \n0                                  Drama  \n1           Animation|Children's|Musical  \n2                        Musical|Romance  \n3                                  Drama  \n4            Animation|Children's|Comedy  \n...                                  ...  \n1000204                           Comedy  \n1000205                Drama|Romance|War  \n1000206                     Comedy|Drama  \n1000207                            Drama  \n1000208  Children's|Drama|Fantasy|Sci-Fi  \n\n[1000209 rows x 5 columns]",
            "text/html": "<div>\n<style scoped>\n    .dataframe tbody tr th:only-of-type {\n        vertical-align: middle;\n    }\n\n    .dataframe tbody tr th {\n        vertical-align: top;\n    }\n\n    .dataframe thead th {\n        text-align: right;\n    }\n</style>\n<table border=\"1\" class=\"dataframe\">\n  <thead>\n    <tr style=\"text-align: right;\">\n      <th></th>\n      <th>User_ID</th>\n      <th>Movie_ID</th>\n      <th>Rating</th>\n      <th>Title</th>\n      <th>Genres</th>\n    </tr>\n  </thead>\n  <tbody>\n    <tr>\n      <th>0</th>\n      <td>1</td>\n      <td>1193</td>\n      <td>5</td>\n      <td>One Flew Over the Cuckoo's Nest (1975)</td>\n      <td>Drama</td>\n    </tr>\n    <tr>\n      <th>1</th>\n      <td>1</td>\n      <td>661</td>\n      <td>3</td>\n      <td>James and the Giant Peach (1996)</td>\n      <td>Animation|Children's|Musical</td>\n    </tr>\n    <tr>\n      <th>2</th>\n      <td>1</td>\n      <td>914</td>\n      <td>3</td>\n      <td>My Fair Lady (1964)</td>\n      <td>Musical|Romance</td>\n    </tr>\n    <tr>\n      <th>3</th>\n      <td>1</td>\n      <td>3408</td>\n      <td>4</td>\n      <td>Erin Brockovich (2000)</td>\n      <td>Drama</td>\n    </tr>\n    <tr>\n      <th>4</th>\n      <td>1</td>\n      <td>2355</td>\n      <td>5</td>\n      <td>Bug's Life, A (1998)</td>\n      <td>Animation|Children's|Comedy</td>\n    </tr>\n    <tr>\n      <th>...</th>\n      <td>...</td>\n      <td>...</td>\n      <td>...</td>\n      <td>...</td>\n      <td>...</td>\n    </tr>\n    <tr>\n      <th>1000204</th>\n      <td>6040</td>\n      <td>1091</td>\n      <td>1</td>\n      <td>Weekend at Bernie's (1989)</td>\n      <td>Comedy</td>\n    </tr>\n    <tr>\n      <th>1000205</th>\n      <td>6040</td>\n      <td>1094</td>\n      <td>5</td>\n      <td>Crying Game, The (1992)</td>\n      <td>Drama|Romance|War</td>\n    </tr>\n    <tr>\n      <th>1000206</th>\n      <td>6040</td>\n      <td>562</td>\n      <td>5</td>\n      <td>Welcome to the Dollhouse (1995)</td>\n      <td>Comedy|Drama</td>\n    </tr>\n    <tr>\n      <th>1000207</th>\n      <td>6040</td>\n      <td>1096</td>\n      <td>4</td>\n      <td>Sophie's Choice (1982)</td>\n      <td>Drama</td>\n    </tr>\n    <tr>\n      <th>1000208</th>\n      <td>6040</td>\n      <td>1097</td>\n      <td>4</td>\n      <td>E.T. the Extra-Terrestrial (1982)</td>\n      <td>Children's|Drama|Fantasy|Sci-Fi</td>\n    </tr>\n  </tbody>\n</table>\n<p>1000209 rows × 5 columns</p>\n</div>"
          },
          "metadata": {}
        }
      ],
      "execution_count": null,
      "metadata": {
        "colab": {
          "base_uri": "https://localhost:8080/",
          "height": 424
        },
        "id": "HkaDvLjqJ5ty",
        "outputId": "009ddb14-9d7f-426e-9f46-82fffeaf2cdb",
        "gather": {
          "logged": 1663134437384
        }
      }
    },
    {
      "cell_type": "code",
      "source": [
        "#Merging df_users_info and df_movie_info and converting the dataframe into a dictionary to get rid of the duplicated column(s)\n",
        "df_merged = pd.concat([df_movie_info, df_users_info], axis=1)\n",
        "df_merged_dict = df_merged.to_dict()"
      ],
      "outputs": [
        {
          "output_type": "stream",
          "name": "stderr",
          "text": "/tmp/ipykernel_9245/1427433901.py:3: UserWarning: DataFrame columns are not unique, some columns will be omitted.\n  df_merged_dict = df_merged.to_dict()\n"
        }
      ],
      "execution_count": null,
      "metadata": {
        "colab": {
          "base_uri": "https://localhost:8080/"
        },
        "id": "J_7vHqAhJ5ty",
        "outputId": "b37d6e87-98f7-41ef-fa50-8eff49ca238d",
        "gather": {
          "logged": 1663134443475
        }
      }
    },
    {
      "cell_type": "code",
      "source": [
        "#Converting the dictionary back to a dataframe free of duplicated columns\n",
        "df_merged_updated = pd.DataFrame(df_merged_dict)\n",
        "df_merged_updated"
      ],
      "outputs": [
        {
          "output_type": "execute_result",
          "execution_count": 20,
          "data": {
            "text/plain": "         User_ID  Movie_ID  Rating                                   Title  \\\n0              1      1193       5  One Flew Over the Cuckoo's Nest (1975)   \n1              1       661       3        James and the Giant Peach (1996)   \n2              1       914       3                     My Fair Lady (1964)   \n3              1      3408       4                  Erin Brockovich (2000)   \n4              1      2355       5                    Bug's Life, A (1998)   \n...          ...       ...     ...                                     ...   \n1000204     6040      1091       1              Weekend at Bernie's (1989)   \n1000205     6040      1094       5                 Crying Game, The (1992)   \n1000206     6040       562       5         Welcome to the Dollhouse (1995)   \n1000207     6040      1096       4                  Sophie's Choice (1982)   \n1000208     6040      1097       4       E.T. the Extra-Terrestrial (1982)   \n\n                                  Genres Gender  Age_Range  Occupation  \n0                                  Drama      F          1          10  \n1           Animation|Children's|Musical      F          1          10  \n2                        Musical|Romance      F          1          10  \n3                                  Drama      F          1          10  \n4            Animation|Children's|Comedy      F          1          10  \n...                                  ...    ...        ...         ...  \n1000204                           Comedy      M         25           6  \n1000205                Drama|Romance|War      M         25           6  \n1000206                     Comedy|Drama      M         25           6  \n1000207                            Drama      M         25           6  \n1000208  Children's|Drama|Fantasy|Sci-Fi      M         25           6  \n\n[1000209 rows x 8 columns]",
            "text/html": "<div>\n<style scoped>\n    .dataframe tbody tr th:only-of-type {\n        vertical-align: middle;\n    }\n\n    .dataframe tbody tr th {\n        vertical-align: top;\n    }\n\n    .dataframe thead th {\n        text-align: right;\n    }\n</style>\n<table border=\"1\" class=\"dataframe\">\n  <thead>\n    <tr style=\"text-align: right;\">\n      <th></th>\n      <th>User_ID</th>\n      <th>Movie_ID</th>\n      <th>Rating</th>\n      <th>Title</th>\n      <th>Genres</th>\n      <th>Gender</th>\n      <th>Age_Range</th>\n      <th>Occupation</th>\n    </tr>\n  </thead>\n  <tbody>\n    <tr>\n      <th>0</th>\n      <td>1</td>\n      <td>1193</td>\n      <td>5</td>\n      <td>One Flew Over the Cuckoo's Nest (1975)</td>\n      <td>Drama</td>\n      <td>F</td>\n      <td>1</td>\n      <td>10</td>\n    </tr>\n    <tr>\n      <th>1</th>\n      <td>1</td>\n      <td>661</td>\n      <td>3</td>\n      <td>James and the Giant Peach (1996)</td>\n      <td>Animation|Children's|Musical</td>\n      <td>F</td>\n      <td>1</td>\n      <td>10</td>\n    </tr>\n    <tr>\n      <th>2</th>\n      <td>1</td>\n      <td>914</td>\n      <td>3</td>\n      <td>My Fair Lady (1964)</td>\n      <td>Musical|Romance</td>\n      <td>F</td>\n      <td>1</td>\n      <td>10</td>\n    </tr>\n    <tr>\n      <th>3</th>\n      <td>1</td>\n      <td>3408</td>\n      <td>4</td>\n      <td>Erin Brockovich (2000)</td>\n      <td>Drama</td>\n      <td>F</td>\n      <td>1</td>\n      <td>10</td>\n    </tr>\n    <tr>\n      <th>4</th>\n      <td>1</td>\n      <td>2355</td>\n      <td>5</td>\n      <td>Bug's Life, A (1998)</td>\n      <td>Animation|Children's|Comedy</td>\n      <td>F</td>\n      <td>1</td>\n      <td>10</td>\n    </tr>\n    <tr>\n      <th>...</th>\n      <td>...</td>\n      <td>...</td>\n      <td>...</td>\n      <td>...</td>\n      <td>...</td>\n      <td>...</td>\n      <td>...</td>\n      <td>...</td>\n    </tr>\n    <tr>\n      <th>1000204</th>\n      <td>6040</td>\n      <td>1091</td>\n      <td>1</td>\n      <td>Weekend at Bernie's (1989)</td>\n      <td>Comedy</td>\n      <td>M</td>\n      <td>25</td>\n      <td>6</td>\n    </tr>\n    <tr>\n      <th>1000205</th>\n      <td>6040</td>\n      <td>1094</td>\n      <td>5</td>\n      <td>Crying Game, The (1992)</td>\n      <td>Drama|Romance|War</td>\n      <td>M</td>\n      <td>25</td>\n      <td>6</td>\n    </tr>\n    <tr>\n      <th>1000206</th>\n      <td>6040</td>\n      <td>562</td>\n      <td>5</td>\n      <td>Welcome to the Dollhouse (1995)</td>\n      <td>Comedy|Drama</td>\n      <td>M</td>\n      <td>25</td>\n      <td>6</td>\n    </tr>\n    <tr>\n      <th>1000207</th>\n      <td>6040</td>\n      <td>1096</td>\n      <td>4</td>\n      <td>Sophie's Choice (1982)</td>\n      <td>Drama</td>\n      <td>M</td>\n      <td>25</td>\n      <td>6</td>\n    </tr>\n    <tr>\n      <th>1000208</th>\n      <td>6040</td>\n      <td>1097</td>\n      <td>4</td>\n      <td>E.T. the Extra-Terrestrial (1982)</td>\n      <td>Children's|Drama|Fantasy|Sci-Fi</td>\n      <td>M</td>\n      <td>25</td>\n      <td>6</td>\n    </tr>\n  </tbody>\n</table>\n<p>1000209 rows × 8 columns</p>\n</div>"
          },
          "metadata": {}
        }
      ],
      "execution_count": null,
      "metadata": {
        "colab": {
          "base_uri": "https://localhost:8080/",
          "height": 537
        },
        "id": "ACAosRpOJ5ty",
        "outputId": "2bb7813e-9a30-459d-c8fc-bef082ebdbbf",
        "gather": {
          "logged": 1663134447076
        }
      }
    },
    {
      "cell_type": "code",
      "source": [
        "df_merged_updated_grouped = df_merged_updated.groupby(['User_ID', 'Gender', 'Age_Range', 'Occupation', 'Genres']).mean().reset_index()\n",
        "df_merged_updated_grouped['Rating'] = df_merged_updated_grouped['Rating'].astype(int)\n",
        "df_merged_updated_grouped"
      ],
      "outputs": [
        {
          "output_type": "execute_result",
          "execution_count": 21,
          "data": {
            "text/plain": "        User_ID Gender  Age_Range  Occupation  \\\n0             1      F          1          10   \n1             1      F          1          10   \n2             1      F          1          10   \n3             1      F          1          10   \n4             1      F          1          10   \n...         ...    ...        ...         ...   \n352315     6040      M         25           6   \n352316     6040      M         25           6   \n352317     6040      M         25           6   \n352318     6040      M         25           6   \n352319     6040      M         25           6   \n\n                                 Genres     Movie_ID  Rating  \n0       Action|Adventure|Comedy|Romance  1197.000000       3  \n1                Action|Adventure|Drama  1287.000000       5  \n2       Action|Adventure|Fantasy|Sci-Fi   260.000000       4  \n3                  Action|Crime|Romance  2692.000000       4  \n4                      Action|Drama|War  2028.000000       5  \n...                                 ...          ...     ...  \n352315                           Sci-Fi  1471.666667       4  \n352316                  Sci-Fi|Thriller  1921.000000       4  \n352317                       Sci-Fi|War   750.000000       5  \n352318                         Thriller  2198.000000       4  \n352319                          Western  1283.000000       4  \n\n[352320 rows x 7 columns]",
            "text/html": "<div>\n<style scoped>\n    .dataframe tbody tr th:only-of-type {\n        vertical-align: middle;\n    }\n\n    .dataframe tbody tr th {\n        vertical-align: top;\n    }\n\n    .dataframe thead th {\n        text-align: right;\n    }\n</style>\n<table border=\"1\" class=\"dataframe\">\n  <thead>\n    <tr style=\"text-align: right;\">\n      <th></th>\n      <th>User_ID</th>\n      <th>Gender</th>\n      <th>Age_Range</th>\n      <th>Occupation</th>\n      <th>Genres</th>\n      <th>Movie_ID</th>\n      <th>Rating</th>\n    </tr>\n  </thead>\n  <tbody>\n    <tr>\n      <th>0</th>\n      <td>1</td>\n      <td>F</td>\n      <td>1</td>\n      <td>10</td>\n      <td>Action|Adventure|Comedy|Romance</td>\n      <td>1197.000000</td>\n      <td>3</td>\n    </tr>\n    <tr>\n      <th>1</th>\n      <td>1</td>\n      <td>F</td>\n      <td>1</td>\n      <td>10</td>\n      <td>Action|Adventure|Drama</td>\n      <td>1287.000000</td>\n      <td>5</td>\n    </tr>\n    <tr>\n      <th>2</th>\n      <td>1</td>\n      <td>F</td>\n      <td>1</td>\n      <td>10</td>\n      <td>Action|Adventure|Fantasy|Sci-Fi</td>\n      <td>260.000000</td>\n      <td>4</td>\n    </tr>\n    <tr>\n      <th>3</th>\n      <td>1</td>\n      <td>F</td>\n      <td>1</td>\n      <td>10</td>\n      <td>Action|Crime|Romance</td>\n      <td>2692.000000</td>\n      <td>4</td>\n    </tr>\n    <tr>\n      <th>4</th>\n      <td>1</td>\n      <td>F</td>\n      <td>1</td>\n      <td>10</td>\n      <td>Action|Drama|War</td>\n      <td>2028.000000</td>\n      <td>5</td>\n    </tr>\n    <tr>\n      <th>...</th>\n      <td>...</td>\n      <td>...</td>\n      <td>...</td>\n      <td>...</td>\n      <td>...</td>\n      <td>...</td>\n      <td>...</td>\n    </tr>\n    <tr>\n      <th>352315</th>\n      <td>6040</td>\n      <td>M</td>\n      <td>25</td>\n      <td>6</td>\n      <td>Sci-Fi</td>\n      <td>1471.666667</td>\n      <td>4</td>\n    </tr>\n    <tr>\n      <th>352316</th>\n      <td>6040</td>\n      <td>M</td>\n      <td>25</td>\n      <td>6</td>\n      <td>Sci-Fi|Thriller</td>\n      <td>1921.000000</td>\n      <td>4</td>\n    </tr>\n    <tr>\n      <th>352317</th>\n      <td>6040</td>\n      <td>M</td>\n      <td>25</td>\n      <td>6</td>\n      <td>Sci-Fi|War</td>\n      <td>750.000000</td>\n      <td>5</td>\n    </tr>\n    <tr>\n      <th>352318</th>\n      <td>6040</td>\n      <td>M</td>\n      <td>25</td>\n      <td>6</td>\n      <td>Thriller</td>\n      <td>2198.000000</td>\n      <td>4</td>\n    </tr>\n    <tr>\n      <th>352319</th>\n      <td>6040</td>\n      <td>M</td>\n      <td>25</td>\n      <td>6</td>\n      <td>Western</td>\n      <td>1283.000000</td>\n      <td>4</td>\n    </tr>\n  </tbody>\n</table>\n<p>352320 rows × 7 columns</p>\n</div>"
          },
          "metadata": {}
        }
      ],
      "execution_count": null,
      "metadata": {
        "colab": {
          "base_uri": "https://localhost:8080/",
          "height": 424
        },
        "id": "xptq5iusJ5tz",
        "outputId": "ac7496d3-5d3a-4a2c-fd0d-5b3488c9d347",
        "gather": {
          "logged": 1663134476065
        }
      }
    },
    {
      "cell_type": "markdown",
      "source": [
        "The above grouped dataset shows the rating mean of each genre per user; with this appraoch I am reducing the number of records from a million to around 350K, and that would help extensively when fitting the model later on."
      ],
      "metadata": {
        "id": "GZeYiTHjapv-"
      }
    },
    {
      "cell_type": "code",
      "source": [
        "#Dropping the Movie_ID and User_ID columns\n",
        "df_merged_updated_grouped_drop = df_merged_updated_grouped.drop(['User_ID', 'Movie_ID'], axis=1)\n",
        "df_merged_updated_grouped_drop"
      ],
      "outputs": [
        {
          "output_type": "execute_result",
          "execution_count": 22,
          "data": {
            "text/plain": "       Gender  Age_Range  Occupation                           Genres  Rating\n0           F          1          10  Action|Adventure|Comedy|Romance       3\n1           F          1          10           Action|Adventure|Drama       5\n2           F          1          10  Action|Adventure|Fantasy|Sci-Fi       4\n3           F          1          10             Action|Crime|Romance       4\n4           F          1          10                 Action|Drama|War       5\n...       ...        ...         ...                              ...     ...\n352315      M         25           6                           Sci-Fi       4\n352316      M         25           6                  Sci-Fi|Thriller       4\n352317      M         25           6                       Sci-Fi|War       5\n352318      M         25           6                         Thriller       4\n352319      M         25           6                          Western       4\n\n[352320 rows x 5 columns]",
            "text/html": "<div>\n<style scoped>\n    .dataframe tbody tr th:only-of-type {\n        vertical-align: middle;\n    }\n\n    .dataframe tbody tr th {\n        vertical-align: top;\n    }\n\n    .dataframe thead th {\n        text-align: right;\n    }\n</style>\n<table border=\"1\" class=\"dataframe\">\n  <thead>\n    <tr style=\"text-align: right;\">\n      <th></th>\n      <th>Gender</th>\n      <th>Age_Range</th>\n      <th>Occupation</th>\n      <th>Genres</th>\n      <th>Rating</th>\n    </tr>\n  </thead>\n  <tbody>\n    <tr>\n      <th>0</th>\n      <td>F</td>\n      <td>1</td>\n      <td>10</td>\n      <td>Action|Adventure|Comedy|Romance</td>\n      <td>3</td>\n    </tr>\n    <tr>\n      <th>1</th>\n      <td>F</td>\n      <td>1</td>\n      <td>10</td>\n      <td>Action|Adventure|Drama</td>\n      <td>5</td>\n    </tr>\n    <tr>\n      <th>2</th>\n      <td>F</td>\n      <td>1</td>\n      <td>10</td>\n      <td>Action|Adventure|Fantasy|Sci-Fi</td>\n      <td>4</td>\n    </tr>\n    <tr>\n      <th>3</th>\n      <td>F</td>\n      <td>1</td>\n      <td>10</td>\n      <td>Action|Crime|Romance</td>\n      <td>4</td>\n    </tr>\n    <tr>\n      <th>4</th>\n      <td>F</td>\n      <td>1</td>\n      <td>10</td>\n      <td>Action|Drama|War</td>\n      <td>5</td>\n    </tr>\n    <tr>\n      <th>...</th>\n      <td>...</td>\n      <td>...</td>\n      <td>...</td>\n      <td>...</td>\n      <td>...</td>\n    </tr>\n    <tr>\n      <th>352315</th>\n      <td>M</td>\n      <td>25</td>\n      <td>6</td>\n      <td>Sci-Fi</td>\n      <td>4</td>\n    </tr>\n    <tr>\n      <th>352316</th>\n      <td>M</td>\n      <td>25</td>\n      <td>6</td>\n      <td>Sci-Fi|Thriller</td>\n      <td>4</td>\n    </tr>\n    <tr>\n      <th>352317</th>\n      <td>M</td>\n      <td>25</td>\n      <td>6</td>\n      <td>Sci-Fi|War</td>\n      <td>5</td>\n    </tr>\n    <tr>\n      <th>352318</th>\n      <td>M</td>\n      <td>25</td>\n      <td>6</td>\n      <td>Thriller</td>\n      <td>4</td>\n    </tr>\n    <tr>\n      <th>352319</th>\n      <td>M</td>\n      <td>25</td>\n      <td>6</td>\n      <td>Western</td>\n      <td>4</td>\n    </tr>\n  </tbody>\n</table>\n<p>352320 rows × 5 columns</p>\n</div>"
          },
          "metadata": {}
        }
      ],
      "execution_count": null,
      "metadata": {
        "colab": {
          "base_uri": "https://localhost:8080/",
          "height": 424
        },
        "id": "a1l_ANFmJ5tz",
        "outputId": "f8c76d06-7df1-4081-d4cb-3586574c4d12",
        "gather": {
          "logged": 1663134488911
        }
      }
    },
    {
      "cell_type": "markdown",
      "source": [
        "Next, I wanted to bring the challenge from having a target with multiple labels to a multi-class target with binary labels in each class. There are many reasons for that, one part is to improve the accuracy and the other part is empirical; I have tried many clustering models such as Kmeans, Knn and MLKnn but I got a poor accuracy. In addition, I tried DBSCAN and ran into a computational problem where the kernel crashed several times. Taking all the experimented approaches that went far beyond the aforementioned ones unsuccessfuly, I decided to bring the challenge to a binary model.\n",
        "\n",
        "I transposed each rating into a separate class; class1=Rating_1, class2=Rating_2, class3=Rating_3, class=Rating_4 and class5=Rating_5"
      ],
      "metadata": {
        "id": "ngIwwui2bijR"
      }
    },
    {
      "cell_type": "code",
      "source": [
        "df_merged_updated_grouped_drop['Rating'] = df_merged_updated_grouped_drop['Rating'].astype(int)\n",
        "final_df = pd.concat([df_merged_updated_grouped_drop, pd.get_dummies(df_merged_updated_grouped_drop['Rating'])], axis=1)\n",
        "final_df = final_df.drop(['Rating'], axis=1)\n",
        "final_df"
      ],
      "outputs": [
        {
          "output_type": "execute_result",
          "execution_count": 23,
          "data": {
            "text/plain": "       Gender  Age_Range  Occupation                           Genres  1  2  \\\n0           F          1          10  Action|Adventure|Comedy|Romance  0  0   \n1           F          1          10           Action|Adventure|Drama  0  0   \n2           F          1          10  Action|Adventure|Fantasy|Sci-Fi  0  0   \n3           F          1          10             Action|Crime|Romance  0  0   \n4           F          1          10                 Action|Drama|War  0  0   \n...       ...        ...         ...                              ... .. ..   \n352315      M         25           6                           Sci-Fi  0  0   \n352316      M         25           6                  Sci-Fi|Thriller  0  0   \n352317      M         25           6                       Sci-Fi|War  0  0   \n352318      M         25           6                         Thriller  0  0   \n352319      M         25           6                          Western  0  0   \n\n        3  4  5  \n0       1  0  0  \n1       0  0  1  \n2       0  1  0  \n3       0  1  0  \n4       0  0  1  \n...    .. .. ..  \n352315  0  1  0  \n352316  0  1  0  \n352317  0  0  1  \n352318  0  1  0  \n352319  0  1  0  \n\n[352320 rows x 9 columns]",
            "text/html": "<div>\n<style scoped>\n    .dataframe tbody tr th:only-of-type {\n        vertical-align: middle;\n    }\n\n    .dataframe tbody tr th {\n        vertical-align: top;\n    }\n\n    .dataframe thead th {\n        text-align: right;\n    }\n</style>\n<table border=\"1\" class=\"dataframe\">\n  <thead>\n    <tr style=\"text-align: right;\">\n      <th></th>\n      <th>Gender</th>\n      <th>Age_Range</th>\n      <th>Occupation</th>\n      <th>Genres</th>\n      <th>1</th>\n      <th>2</th>\n      <th>3</th>\n      <th>4</th>\n      <th>5</th>\n    </tr>\n  </thead>\n  <tbody>\n    <tr>\n      <th>0</th>\n      <td>F</td>\n      <td>1</td>\n      <td>10</td>\n      <td>Action|Adventure|Comedy|Romance</td>\n      <td>0</td>\n      <td>0</td>\n      <td>1</td>\n      <td>0</td>\n      <td>0</td>\n    </tr>\n    <tr>\n      <th>1</th>\n      <td>F</td>\n      <td>1</td>\n      <td>10</td>\n      <td>Action|Adventure|Drama</td>\n      <td>0</td>\n      <td>0</td>\n      <td>0</td>\n      <td>0</td>\n      <td>1</td>\n    </tr>\n    <tr>\n      <th>2</th>\n      <td>F</td>\n      <td>1</td>\n      <td>10</td>\n      <td>Action|Adventure|Fantasy|Sci-Fi</td>\n      <td>0</td>\n      <td>0</td>\n      <td>0</td>\n      <td>1</td>\n      <td>0</td>\n    </tr>\n    <tr>\n      <th>3</th>\n      <td>F</td>\n      <td>1</td>\n      <td>10</td>\n      <td>Action|Crime|Romance</td>\n      <td>0</td>\n      <td>0</td>\n      <td>0</td>\n      <td>1</td>\n      <td>0</td>\n    </tr>\n    <tr>\n      <th>4</th>\n      <td>F</td>\n      <td>1</td>\n      <td>10</td>\n      <td>Action|Drama|War</td>\n      <td>0</td>\n      <td>0</td>\n      <td>0</td>\n      <td>0</td>\n      <td>1</td>\n    </tr>\n    <tr>\n      <th>...</th>\n      <td>...</td>\n      <td>...</td>\n      <td>...</td>\n      <td>...</td>\n      <td>...</td>\n      <td>...</td>\n      <td>...</td>\n      <td>...</td>\n      <td>...</td>\n    </tr>\n    <tr>\n      <th>352315</th>\n      <td>M</td>\n      <td>25</td>\n      <td>6</td>\n      <td>Sci-Fi</td>\n      <td>0</td>\n      <td>0</td>\n      <td>0</td>\n      <td>1</td>\n      <td>0</td>\n    </tr>\n    <tr>\n      <th>352316</th>\n      <td>M</td>\n      <td>25</td>\n      <td>6</td>\n      <td>Sci-Fi|Thriller</td>\n      <td>0</td>\n      <td>0</td>\n      <td>0</td>\n      <td>1</td>\n      <td>0</td>\n    </tr>\n    <tr>\n      <th>352317</th>\n      <td>M</td>\n      <td>25</td>\n      <td>6</td>\n      <td>Sci-Fi|War</td>\n      <td>0</td>\n      <td>0</td>\n      <td>0</td>\n      <td>0</td>\n      <td>1</td>\n    </tr>\n    <tr>\n      <th>352318</th>\n      <td>M</td>\n      <td>25</td>\n      <td>6</td>\n      <td>Thriller</td>\n      <td>0</td>\n      <td>0</td>\n      <td>0</td>\n      <td>1</td>\n      <td>0</td>\n    </tr>\n    <tr>\n      <th>352319</th>\n      <td>M</td>\n      <td>25</td>\n      <td>6</td>\n      <td>Western</td>\n      <td>0</td>\n      <td>0</td>\n      <td>0</td>\n      <td>1</td>\n      <td>0</td>\n    </tr>\n  </tbody>\n</table>\n<p>352320 rows × 9 columns</p>\n</div>"
          },
          "metadata": {}
        }
      ],
      "execution_count": null,
      "metadata": {
        "colab": {
          "base_uri": "https://localhost:8080/",
          "height": 424
        },
        "id": "evBulIGhRfwI",
        "outputId": "67905a4a-eb41-4666-acf6-c8d5bf27a5c3",
        "gather": {
          "logged": 1663134494066
        }
      }
    },
    {
      "cell_type": "markdown",
      "source": [
        "Creating the features:"
      ],
      "metadata": {
        "id": "Hk1o7tTkklie"
      }
    },
    {
      "cell_type": "code",
      "source": [
        "# Features\n",
        "X = df_merged_updated_grouped_drop.drop(['Rating'], axis=1)\n",
        "X"
      ],
      "outputs": [
        {
          "output_type": "execute_result",
          "execution_count": 24,
          "data": {
            "text/plain": "       Gender  Age_Range  Occupation                           Genres\n0           F          1          10  Action|Adventure|Comedy|Romance\n1           F          1          10           Action|Adventure|Drama\n2           F          1          10  Action|Adventure|Fantasy|Sci-Fi\n3           F          1          10             Action|Crime|Romance\n4           F          1          10                 Action|Drama|War\n...       ...        ...         ...                              ...\n352315      M         25           6                           Sci-Fi\n352316      M         25           6                  Sci-Fi|Thriller\n352317      M         25           6                       Sci-Fi|War\n352318      M         25           6                         Thriller\n352319      M         25           6                          Western\n\n[352320 rows x 4 columns]",
            "text/html": "<div>\n<style scoped>\n    .dataframe tbody tr th:only-of-type {\n        vertical-align: middle;\n    }\n\n    .dataframe tbody tr th {\n        vertical-align: top;\n    }\n\n    .dataframe thead th {\n        text-align: right;\n    }\n</style>\n<table border=\"1\" class=\"dataframe\">\n  <thead>\n    <tr style=\"text-align: right;\">\n      <th></th>\n      <th>Gender</th>\n      <th>Age_Range</th>\n      <th>Occupation</th>\n      <th>Genres</th>\n    </tr>\n  </thead>\n  <tbody>\n    <tr>\n      <th>0</th>\n      <td>F</td>\n      <td>1</td>\n      <td>10</td>\n      <td>Action|Adventure|Comedy|Romance</td>\n    </tr>\n    <tr>\n      <th>1</th>\n      <td>F</td>\n      <td>1</td>\n      <td>10</td>\n      <td>Action|Adventure|Drama</td>\n    </tr>\n    <tr>\n      <th>2</th>\n      <td>F</td>\n      <td>1</td>\n      <td>10</td>\n      <td>Action|Adventure|Fantasy|Sci-Fi</td>\n    </tr>\n    <tr>\n      <th>3</th>\n      <td>F</td>\n      <td>1</td>\n      <td>10</td>\n      <td>Action|Crime|Romance</td>\n    </tr>\n    <tr>\n      <th>4</th>\n      <td>F</td>\n      <td>1</td>\n      <td>10</td>\n      <td>Action|Drama|War</td>\n    </tr>\n    <tr>\n      <th>...</th>\n      <td>...</td>\n      <td>...</td>\n      <td>...</td>\n      <td>...</td>\n    </tr>\n    <tr>\n      <th>352315</th>\n      <td>M</td>\n      <td>25</td>\n      <td>6</td>\n      <td>Sci-Fi</td>\n    </tr>\n    <tr>\n      <th>352316</th>\n      <td>M</td>\n      <td>25</td>\n      <td>6</td>\n      <td>Sci-Fi|Thriller</td>\n    </tr>\n    <tr>\n      <th>352317</th>\n      <td>M</td>\n      <td>25</td>\n      <td>6</td>\n      <td>Sci-Fi|War</td>\n    </tr>\n    <tr>\n      <th>352318</th>\n      <td>M</td>\n      <td>25</td>\n      <td>6</td>\n      <td>Thriller</td>\n    </tr>\n    <tr>\n      <th>352319</th>\n      <td>M</td>\n      <td>25</td>\n      <td>6</td>\n      <td>Western</td>\n    </tr>\n  </tbody>\n</table>\n<p>352320 rows × 4 columns</p>\n</div>"
          },
          "metadata": {}
        }
      ],
      "execution_count": null,
      "metadata": {
        "colab": {
          "base_uri": "https://localhost:8080/",
          "height": 424
        },
        "id": "R-nIxkC_WRcj",
        "outputId": "5500969a-1073-4eac-f645-11f8fb88ae58",
        "gather": {
          "logged": 1663134498309
        }
      }
    },
    {
      "cell_type": "markdown",
      "source": [
        "Creating the multi-class target:"
      ],
      "metadata": {
        "id": "S8IjcQK_d4hS"
      }
    },
    {
      "cell_type": "code",
      "source": [
        "# Target\n",
        "y = final_df.drop(['Gender', 'Age_Range', 'Occupation', 'Genres'], axis=1)\n",
        "y = y.rename(columns={1: 'Rating_1', 2: 'Rating_2', 3: 'Rating_3', 4: 'Rating_4', 5: 'Rating_5'})\n",
        "y"
      ],
      "outputs": [
        {
          "output_type": "execute_result",
          "execution_count": 25,
          "data": {
            "text/plain": "        Rating_1  Rating_2  Rating_3  Rating_4  Rating_5\n0              0         0         1         0         0\n1              0         0         0         0         1\n2              0         0         0         1         0\n3              0         0         0         1         0\n4              0         0         0         0         1\n...          ...       ...       ...       ...       ...\n352315         0         0         0         1         0\n352316         0         0         0         1         0\n352317         0         0         0         0         1\n352318         0         0         0         1         0\n352319         0         0         0         1         0\n\n[352320 rows x 5 columns]",
            "text/html": "<div>\n<style scoped>\n    .dataframe tbody tr th:only-of-type {\n        vertical-align: middle;\n    }\n\n    .dataframe tbody tr th {\n        vertical-align: top;\n    }\n\n    .dataframe thead th {\n        text-align: right;\n    }\n</style>\n<table border=\"1\" class=\"dataframe\">\n  <thead>\n    <tr style=\"text-align: right;\">\n      <th></th>\n      <th>Rating_1</th>\n      <th>Rating_2</th>\n      <th>Rating_3</th>\n      <th>Rating_4</th>\n      <th>Rating_5</th>\n    </tr>\n  </thead>\n  <tbody>\n    <tr>\n      <th>0</th>\n      <td>0</td>\n      <td>0</td>\n      <td>1</td>\n      <td>0</td>\n      <td>0</td>\n    </tr>\n    <tr>\n      <th>1</th>\n      <td>0</td>\n      <td>0</td>\n      <td>0</td>\n      <td>0</td>\n      <td>1</td>\n    </tr>\n    <tr>\n      <th>2</th>\n      <td>0</td>\n      <td>0</td>\n      <td>0</td>\n      <td>1</td>\n      <td>0</td>\n    </tr>\n    <tr>\n      <th>3</th>\n      <td>0</td>\n      <td>0</td>\n      <td>0</td>\n      <td>1</td>\n      <td>0</td>\n    </tr>\n    <tr>\n      <th>4</th>\n      <td>0</td>\n      <td>0</td>\n      <td>0</td>\n      <td>0</td>\n      <td>1</td>\n    </tr>\n    <tr>\n      <th>...</th>\n      <td>...</td>\n      <td>...</td>\n      <td>...</td>\n      <td>...</td>\n      <td>...</td>\n    </tr>\n    <tr>\n      <th>352315</th>\n      <td>0</td>\n      <td>0</td>\n      <td>0</td>\n      <td>1</td>\n      <td>0</td>\n    </tr>\n    <tr>\n      <th>352316</th>\n      <td>0</td>\n      <td>0</td>\n      <td>0</td>\n      <td>1</td>\n      <td>0</td>\n    </tr>\n    <tr>\n      <th>352317</th>\n      <td>0</td>\n      <td>0</td>\n      <td>0</td>\n      <td>0</td>\n      <td>1</td>\n    </tr>\n    <tr>\n      <th>352318</th>\n      <td>0</td>\n      <td>0</td>\n      <td>0</td>\n      <td>1</td>\n      <td>0</td>\n    </tr>\n    <tr>\n      <th>352319</th>\n      <td>0</td>\n      <td>0</td>\n      <td>0</td>\n      <td>1</td>\n      <td>0</td>\n    </tr>\n  </tbody>\n</table>\n<p>352320 rows × 5 columns</p>\n</div>"
          },
          "metadata": {}
        }
      ],
      "execution_count": null,
      "metadata": {
        "colab": {
          "base_uri": "https://localhost:8080/",
          "height": 424
        },
        "id": "xtHn55VoWRck",
        "outputId": "05ae7575-5229-47a1-d12d-cc7a96d862d8",
        "gather": {
          "logged": 1663134503189
        }
      }
    },
    {
      "cell_type": "markdown",
      "source": [
        "## **Model selection and fitting**"
      ],
      "metadata": {
        "id": "ghXFOJcXeVIg"
      }
    },
    {
      "cell_type": "markdown",
      "source": [
        "Splitting the dataset into training and testing. I chose 80% of the data for fitting and 20% for testing."
      ],
      "metadata": {
        "id": "J5vGBO_2edXA"
      }
    },
    {
      "cell_type": "code",
      "source": [
        "from sklearn.model_selection import train_test_split\n",
        "\n",
        "X_train, X_test, y_train, y_test = train_test_split(X, y, test_size=0.2, random_state=4)"
      ],
      "outputs": [],
      "execution_count": null,
      "metadata": {
        "id": "78ClSTz_WRck",
        "gather": {
          "logged": 1663134507736
        }
      }
    },
    {
      "cell_type": "code",
      "source": [
        "X_train"
      ],
      "outputs": [
        {
          "output_type": "execute_result",
          "execution_count": 27,
          "data": {
            "text/plain": "       Gender  Age_Range  Occupation                           Genres\n261462      M         35           7                            Drama\n265995      F         25          14            Comedy|Horror|Musical\n217634      M         50           0                        Drama|War\n168748      M         25           0                      Crime|Drama\n309737      M         25           2                         Thriller\n...       ...        ...         ...                              ...\n107578      M         56           7  Children's|Drama|Fantasy|Sci-Fi\n94601       M         50          13                            Drama\n115144      M         35           5                   Action|Romance\n129384      M         35           1          Mystery|Sci-Fi|Thriller\n120705      M         18           4              Action|Thriller|War\n\n[281856 rows x 4 columns]",
            "text/html": "<div>\n<style scoped>\n    .dataframe tbody tr th:only-of-type {\n        vertical-align: middle;\n    }\n\n    .dataframe tbody tr th {\n        vertical-align: top;\n    }\n\n    .dataframe thead th {\n        text-align: right;\n    }\n</style>\n<table border=\"1\" class=\"dataframe\">\n  <thead>\n    <tr style=\"text-align: right;\">\n      <th></th>\n      <th>Gender</th>\n      <th>Age_Range</th>\n      <th>Occupation</th>\n      <th>Genres</th>\n    </tr>\n  </thead>\n  <tbody>\n    <tr>\n      <th>261462</th>\n      <td>M</td>\n      <td>35</td>\n      <td>7</td>\n      <td>Drama</td>\n    </tr>\n    <tr>\n      <th>265995</th>\n      <td>F</td>\n      <td>25</td>\n      <td>14</td>\n      <td>Comedy|Horror|Musical</td>\n    </tr>\n    <tr>\n      <th>217634</th>\n      <td>M</td>\n      <td>50</td>\n      <td>0</td>\n      <td>Drama|War</td>\n    </tr>\n    <tr>\n      <th>168748</th>\n      <td>M</td>\n      <td>25</td>\n      <td>0</td>\n      <td>Crime|Drama</td>\n    </tr>\n    <tr>\n      <th>309737</th>\n      <td>M</td>\n      <td>25</td>\n      <td>2</td>\n      <td>Thriller</td>\n    </tr>\n    <tr>\n      <th>...</th>\n      <td>...</td>\n      <td>...</td>\n      <td>...</td>\n      <td>...</td>\n    </tr>\n    <tr>\n      <th>107578</th>\n      <td>M</td>\n      <td>56</td>\n      <td>7</td>\n      <td>Children's|Drama|Fantasy|Sci-Fi</td>\n    </tr>\n    <tr>\n      <th>94601</th>\n      <td>M</td>\n      <td>50</td>\n      <td>13</td>\n      <td>Drama</td>\n    </tr>\n    <tr>\n      <th>115144</th>\n      <td>M</td>\n      <td>35</td>\n      <td>5</td>\n      <td>Action|Romance</td>\n    </tr>\n    <tr>\n      <th>129384</th>\n      <td>M</td>\n      <td>35</td>\n      <td>1</td>\n      <td>Mystery|Sci-Fi|Thriller</td>\n    </tr>\n    <tr>\n      <th>120705</th>\n      <td>M</td>\n      <td>18</td>\n      <td>4</td>\n      <td>Action|Thriller|War</td>\n    </tr>\n  </tbody>\n</table>\n<p>281856 rows × 4 columns</p>\n</div>"
          },
          "metadata": {}
        }
      ],
      "execution_count": null,
      "metadata": {
        "colab": {
          "base_uri": "https://localhost:8080/",
          "height": 424
        },
        "id": "ANjwCBCPWRck",
        "outputId": "6a41f043-7661-4bb1-ea39-367cbb72b4d5",
        "gather": {
          "logged": 1663134510766
        }
      }
    },
    {
      "cell_type": "code",
      "source": [
        "X_test"
      ],
      "outputs": [
        {
          "output_type": "execute_result",
          "execution_count": 28,
          "data": {
            "text/plain": "       Gender  Age_Range  Occupation                          Genres\n317110      M         35           7                 Adventure|Drama\n125465      M         25           0                 Musical|Romance\n320140      F         25           4                Animation|Comedy\n287273      M         25           7                     Documentary\n118340      M         18           4  Action|Adventure|Comedy|Sci-Fi\n...       ...        ...         ...                             ...\n259801      M         25          14              Film-Noir|Thriller\n234513      M         25           0          Drama|Mystery|Thriller\n295249      M         25          14           Action|Drama|Thriller\n334434      M         45          15          Adventure|Comedy|Drama\n42357       F         56           3                  Comedy|Romance\n\n[70464 rows x 4 columns]",
            "text/html": "<div>\n<style scoped>\n    .dataframe tbody tr th:only-of-type {\n        vertical-align: middle;\n    }\n\n    .dataframe tbody tr th {\n        vertical-align: top;\n    }\n\n    .dataframe thead th {\n        text-align: right;\n    }\n</style>\n<table border=\"1\" class=\"dataframe\">\n  <thead>\n    <tr style=\"text-align: right;\">\n      <th></th>\n      <th>Gender</th>\n      <th>Age_Range</th>\n      <th>Occupation</th>\n      <th>Genres</th>\n    </tr>\n  </thead>\n  <tbody>\n    <tr>\n      <th>317110</th>\n      <td>M</td>\n      <td>35</td>\n      <td>7</td>\n      <td>Adventure|Drama</td>\n    </tr>\n    <tr>\n      <th>125465</th>\n      <td>M</td>\n      <td>25</td>\n      <td>0</td>\n      <td>Musical|Romance</td>\n    </tr>\n    <tr>\n      <th>320140</th>\n      <td>F</td>\n      <td>25</td>\n      <td>4</td>\n      <td>Animation|Comedy</td>\n    </tr>\n    <tr>\n      <th>287273</th>\n      <td>M</td>\n      <td>25</td>\n      <td>7</td>\n      <td>Documentary</td>\n    </tr>\n    <tr>\n      <th>118340</th>\n      <td>M</td>\n      <td>18</td>\n      <td>4</td>\n      <td>Action|Adventure|Comedy|Sci-Fi</td>\n    </tr>\n    <tr>\n      <th>...</th>\n      <td>...</td>\n      <td>...</td>\n      <td>...</td>\n      <td>...</td>\n    </tr>\n    <tr>\n      <th>259801</th>\n      <td>M</td>\n      <td>25</td>\n      <td>14</td>\n      <td>Film-Noir|Thriller</td>\n    </tr>\n    <tr>\n      <th>234513</th>\n      <td>M</td>\n      <td>25</td>\n      <td>0</td>\n      <td>Drama|Mystery|Thriller</td>\n    </tr>\n    <tr>\n      <th>295249</th>\n      <td>M</td>\n      <td>25</td>\n      <td>14</td>\n      <td>Action|Drama|Thriller</td>\n    </tr>\n    <tr>\n      <th>334434</th>\n      <td>M</td>\n      <td>45</td>\n      <td>15</td>\n      <td>Adventure|Comedy|Drama</td>\n    </tr>\n    <tr>\n      <th>42357</th>\n      <td>F</td>\n      <td>56</td>\n      <td>3</td>\n      <td>Comedy|Romance</td>\n    </tr>\n  </tbody>\n</table>\n<p>70464 rows × 4 columns</p>\n</div>"
          },
          "metadata": {}
        }
      ],
      "execution_count": null,
      "metadata": {
        "colab": {
          "base_uri": "https://localhost:8080/",
          "height": 424
        },
        "id": "3W3S5Xh_WRck",
        "outputId": "7fdca89b-096f-4805-822b-658de7c5d8be",
        "gather": {
          "logged": 1663134515162
        }
      }
    },
    {
      "cell_type": "code",
      "source": [
        "y_train"
      ],
      "outputs": [
        {
          "output_type": "execute_result",
          "execution_count": 29,
          "data": {
            "text/plain": "        Rating_1  Rating_2  Rating_3  Rating_4  Rating_5\n261462         0         0         0         0         1\n265995         0         0         1         0         0\n217634         0         0         1         0         0\n168748         0         0         1         0         0\n309737         0         0         1         0         0\n...          ...       ...       ...       ...       ...\n107578         0         0         0         0         1\n94601          0         0         1         0         0\n115144         0         0         1         0         0\n129384         0         0         1         0         0\n120705         0         0         1         0         0\n\n[281856 rows x 5 columns]",
            "text/html": "<div>\n<style scoped>\n    .dataframe tbody tr th:only-of-type {\n        vertical-align: middle;\n    }\n\n    .dataframe tbody tr th {\n        vertical-align: top;\n    }\n\n    .dataframe thead th {\n        text-align: right;\n    }\n</style>\n<table border=\"1\" class=\"dataframe\">\n  <thead>\n    <tr style=\"text-align: right;\">\n      <th></th>\n      <th>Rating_1</th>\n      <th>Rating_2</th>\n      <th>Rating_3</th>\n      <th>Rating_4</th>\n      <th>Rating_5</th>\n    </tr>\n  </thead>\n  <tbody>\n    <tr>\n      <th>261462</th>\n      <td>0</td>\n      <td>0</td>\n      <td>0</td>\n      <td>0</td>\n      <td>1</td>\n    </tr>\n    <tr>\n      <th>265995</th>\n      <td>0</td>\n      <td>0</td>\n      <td>1</td>\n      <td>0</td>\n      <td>0</td>\n    </tr>\n    <tr>\n      <th>217634</th>\n      <td>0</td>\n      <td>0</td>\n      <td>1</td>\n      <td>0</td>\n      <td>0</td>\n    </tr>\n    <tr>\n      <th>168748</th>\n      <td>0</td>\n      <td>0</td>\n      <td>1</td>\n      <td>0</td>\n      <td>0</td>\n    </tr>\n    <tr>\n      <th>309737</th>\n      <td>0</td>\n      <td>0</td>\n      <td>1</td>\n      <td>0</td>\n      <td>0</td>\n    </tr>\n    <tr>\n      <th>...</th>\n      <td>...</td>\n      <td>...</td>\n      <td>...</td>\n      <td>...</td>\n      <td>...</td>\n    </tr>\n    <tr>\n      <th>107578</th>\n      <td>0</td>\n      <td>0</td>\n      <td>0</td>\n      <td>0</td>\n      <td>1</td>\n    </tr>\n    <tr>\n      <th>94601</th>\n      <td>0</td>\n      <td>0</td>\n      <td>1</td>\n      <td>0</td>\n      <td>0</td>\n    </tr>\n    <tr>\n      <th>115144</th>\n      <td>0</td>\n      <td>0</td>\n      <td>1</td>\n      <td>0</td>\n      <td>0</td>\n    </tr>\n    <tr>\n      <th>129384</th>\n      <td>0</td>\n      <td>0</td>\n      <td>1</td>\n      <td>0</td>\n      <td>0</td>\n    </tr>\n    <tr>\n      <th>120705</th>\n      <td>0</td>\n      <td>0</td>\n      <td>1</td>\n      <td>0</td>\n      <td>0</td>\n    </tr>\n  </tbody>\n</table>\n<p>281856 rows × 5 columns</p>\n</div>"
          },
          "metadata": {}
        }
      ],
      "execution_count": null,
      "metadata": {
        "colab": {
          "base_uri": "https://localhost:8080/",
          "height": 424
        },
        "id": "9kzfTvf-WRcl",
        "outputId": "4f2f10a0-f9e4-4350-ce60-efade390c150",
        "gather": {
          "logged": 1663134520314
        }
      }
    },
    {
      "cell_type": "code",
      "source": [
        "y_test"
      ],
      "outputs": [
        {
          "output_type": "execute_result",
          "execution_count": 30,
          "data": {
            "text/plain": "        Rating_1  Rating_2  Rating_3  Rating_4  Rating_5\n317110         0         0         0         0         1\n125465         0         0         0         1         0\n320140         0         1         0         0         0\n287273         0         0         1         0         0\n118340         0         0         1         0         0\n...          ...       ...       ...       ...       ...\n259801         0         0         0         1         0\n234513         0         0         0         1         0\n295249         0         0         0         1         0\n334434         0         0         0         1         0\n42357          0         0         1         0         0\n\n[70464 rows x 5 columns]",
            "text/html": "<div>\n<style scoped>\n    .dataframe tbody tr th:only-of-type {\n        vertical-align: middle;\n    }\n\n    .dataframe tbody tr th {\n        vertical-align: top;\n    }\n\n    .dataframe thead th {\n        text-align: right;\n    }\n</style>\n<table border=\"1\" class=\"dataframe\">\n  <thead>\n    <tr style=\"text-align: right;\">\n      <th></th>\n      <th>Rating_1</th>\n      <th>Rating_2</th>\n      <th>Rating_3</th>\n      <th>Rating_4</th>\n      <th>Rating_5</th>\n    </tr>\n  </thead>\n  <tbody>\n    <tr>\n      <th>317110</th>\n      <td>0</td>\n      <td>0</td>\n      <td>0</td>\n      <td>0</td>\n      <td>1</td>\n    </tr>\n    <tr>\n      <th>125465</th>\n      <td>0</td>\n      <td>0</td>\n      <td>0</td>\n      <td>1</td>\n      <td>0</td>\n    </tr>\n    <tr>\n      <th>320140</th>\n      <td>0</td>\n      <td>1</td>\n      <td>0</td>\n      <td>0</td>\n      <td>0</td>\n    </tr>\n    <tr>\n      <th>287273</th>\n      <td>0</td>\n      <td>0</td>\n      <td>1</td>\n      <td>0</td>\n      <td>0</td>\n    </tr>\n    <tr>\n      <th>118340</th>\n      <td>0</td>\n      <td>0</td>\n      <td>1</td>\n      <td>0</td>\n      <td>0</td>\n    </tr>\n    <tr>\n      <th>...</th>\n      <td>...</td>\n      <td>...</td>\n      <td>...</td>\n      <td>...</td>\n      <td>...</td>\n    </tr>\n    <tr>\n      <th>259801</th>\n      <td>0</td>\n      <td>0</td>\n      <td>0</td>\n      <td>1</td>\n      <td>0</td>\n    </tr>\n    <tr>\n      <th>234513</th>\n      <td>0</td>\n      <td>0</td>\n      <td>0</td>\n      <td>1</td>\n      <td>0</td>\n    </tr>\n    <tr>\n      <th>295249</th>\n      <td>0</td>\n      <td>0</td>\n      <td>0</td>\n      <td>1</td>\n      <td>0</td>\n    </tr>\n    <tr>\n      <th>334434</th>\n      <td>0</td>\n      <td>0</td>\n      <td>0</td>\n      <td>1</td>\n      <td>0</td>\n    </tr>\n    <tr>\n      <th>42357</th>\n      <td>0</td>\n      <td>0</td>\n      <td>1</td>\n      <td>0</td>\n      <td>0</td>\n    </tr>\n  </tbody>\n</table>\n<p>70464 rows × 5 columns</p>\n</div>"
          },
          "metadata": {}
        }
      ],
      "execution_count": null,
      "metadata": {
        "colab": {
          "base_uri": "https://localhost:8080/",
          "height": 424
        },
        "id": "EtRSwv32WRcl",
        "outputId": "75a7dfdc-8102-47c0-e432-5d238f52a76e",
        "gather": {
          "logged": 1663134524594
        }
      }
    },
    {
      "cell_type": "markdown",
      "source": [
        "Next, I will convert the categorical features to numerical so the model can be trained:"
      ],
      "metadata": {
        "id": "hfjB_YuVe76z"
      }
    },
    {
      "cell_type": "code",
      "source": [
        "X_train['Gender'].replace(to_replace=['M','F'], value=[0,1], inplace=True)\n",
        "X_test['Gender'].replace(to_replace=['M','F'], value=[0,1], inplace=True)\n",
        "\n",
        "X_train['Genres'] = X_train[['Genres']].copy(deep=True)\n",
        "X_train['Genres'] = X_train['Genres'].astype('category')\n",
        "X_train['Genres'] = X_train['Genres'].cat.codes\n",
        "\n",
        "X_test['Genres'] = X_test[['Genres']].copy(deep=True)\n",
        "X_test['Genres'] = X_test['Genres'].astype('category')\n",
        "X_test['Genres'] = X_test['Genres'].cat.codes"
      ],
      "outputs": [
        {
          "output_type": "stream",
          "name": "stderr",
          "text": "/anaconda/envs/azureml_py38/lib/python3.8/site-packages/pandas/core/series.py:4576: SettingWithCopyWarning: \nA value is trying to be set on a copy of a slice from a DataFrame\n\nSee the caveats in the documentation: https://pandas.pydata.org/pandas-docs/stable/user_guide/indexing.html#returning-a-view-versus-a-copy\n  return super().replace(\n/tmp/ipykernel_9245/404534004.py:4: SettingWithCopyWarning: \nA value is trying to be set on a copy of a slice from a DataFrame.\nTry using .loc[row_indexer,col_indexer] = value instead\n\nSee the caveats in the documentation: https://pandas.pydata.org/pandas-docs/stable/user_guide/indexing.html#returning-a-view-versus-a-copy\n  X_train['Genres'] = X_train[['Genres']].copy(deep=True)\n/tmp/ipykernel_9245/404534004.py:5: SettingWithCopyWarning: \nA value is trying to be set on a copy of a slice from a DataFrame.\nTry using .loc[row_indexer,col_indexer] = value instead\n\nSee the caveats in the documentation: https://pandas.pydata.org/pandas-docs/stable/user_guide/indexing.html#returning-a-view-versus-a-copy\n  X_train['Genres'] = X_train['Genres'].astype('category')\n/tmp/ipykernel_9245/404534004.py:6: SettingWithCopyWarning: \nA value is trying to be set on a copy of a slice from a DataFrame.\nTry using .loc[row_indexer,col_indexer] = value instead\n\nSee the caveats in the documentation: https://pandas.pydata.org/pandas-docs/stable/user_guide/indexing.html#returning-a-view-versus-a-copy\n  X_train['Genres'] = X_train['Genres'].cat.codes\n/tmp/ipykernel_9245/404534004.py:8: SettingWithCopyWarning: \nA value is trying to be set on a copy of a slice from a DataFrame.\nTry using .loc[row_indexer,col_indexer] = value instead\n\nSee the caveats in the documentation: https://pandas.pydata.org/pandas-docs/stable/user_guide/indexing.html#returning-a-view-versus-a-copy\n  X_test['Genres'] = X_test[['Genres']].copy(deep=True)\n/tmp/ipykernel_9245/404534004.py:9: SettingWithCopyWarning: \nA value is trying to be set on a copy of a slice from a DataFrame.\nTry using .loc[row_indexer,col_indexer] = value instead\n\nSee the caveats in the documentation: https://pandas.pydata.org/pandas-docs/stable/user_guide/indexing.html#returning-a-view-versus-a-copy\n  X_test['Genres'] = X_test['Genres'].astype('category')\n/tmp/ipykernel_9245/404534004.py:10: SettingWithCopyWarning: \nA value is trying to be set on a copy of a slice from a DataFrame.\nTry using .loc[row_indexer,col_indexer] = value instead\n\nSee the caveats in the documentation: https://pandas.pydata.org/pandas-docs/stable/user_guide/indexing.html#returning-a-view-versus-a-copy\n  X_test['Genres'] = X_test['Genres'].cat.codes\n"
        }
      ],
      "execution_count": null,
      "metadata": {
        "id": "ijFHKOFpWRcl",
        "gather": {
          "logged": 1663134541194
        },
        "outputId": "08903c3a-3584-4a72-a712-55bb28b42dd4"
      }
    },
    {
      "cell_type": "markdown",
      "source": [
        "Now, the data will be normalized:"
      ],
      "metadata": {
        "id": "vtW8eVr2fOOj"
      }
    },
    {
      "cell_type": "code",
      "source": [
        "# Normalization\n",
        "from sklearn import preprocessing\n",
        "\n",
        "X_train_norm = preprocessing.StandardScaler().fit(X_train).transform(X_train)\n",
        "X_train_norm = pd.DataFrame(X_train_norm, columns=X_train.columns)\n",
        "X_train_norm"
      ],
      "outputs": [
        {
          "output_type": "execute_result",
          "execution_count": 32,
          "data": {
            "text/plain": "          Gender  Age_Range  Occupation    Genres\n0      -0.562654   0.427148   -0.181702  0.967489\n1       1.777291  -0.402695    0.901977  0.499687\n2      -0.562654   1.671913   -1.265382  1.223667\n3      -0.562654  -0.402695   -1.265382  0.722450\n4      -0.562654  -0.402695   -0.955759  1.624640\n...          ...        ...         ...       ...\n281851 -0.562654   2.169819   -0.181702  0.187818\n281852 -0.562654   1.671913    0.747166  0.967489\n281853 -0.562654   0.427148   -0.491325 -0.781201\n281854 -0.562654   0.427148   -1.110571  1.513259\n281855 -0.562654  -0.983585   -0.646137 -0.658682\n\n[281856 rows x 4 columns]",
            "text/html": "<div>\n<style scoped>\n    .dataframe tbody tr th:only-of-type {\n        vertical-align: middle;\n    }\n\n    .dataframe tbody tr th {\n        vertical-align: top;\n    }\n\n    .dataframe thead th {\n        text-align: right;\n    }\n</style>\n<table border=\"1\" class=\"dataframe\">\n  <thead>\n    <tr style=\"text-align: right;\">\n      <th></th>\n      <th>Gender</th>\n      <th>Age_Range</th>\n      <th>Occupation</th>\n      <th>Genres</th>\n    </tr>\n  </thead>\n  <tbody>\n    <tr>\n      <th>0</th>\n      <td>-0.562654</td>\n      <td>0.427148</td>\n      <td>-0.181702</td>\n      <td>0.967489</td>\n    </tr>\n    <tr>\n      <th>1</th>\n      <td>1.777291</td>\n      <td>-0.402695</td>\n      <td>0.901977</td>\n      <td>0.499687</td>\n    </tr>\n    <tr>\n      <th>2</th>\n      <td>-0.562654</td>\n      <td>1.671913</td>\n      <td>-1.265382</td>\n      <td>1.223667</td>\n    </tr>\n    <tr>\n      <th>3</th>\n      <td>-0.562654</td>\n      <td>-0.402695</td>\n      <td>-1.265382</td>\n      <td>0.722450</td>\n    </tr>\n    <tr>\n      <th>4</th>\n      <td>-0.562654</td>\n      <td>-0.402695</td>\n      <td>-0.955759</td>\n      <td>1.624640</td>\n    </tr>\n    <tr>\n      <th>...</th>\n      <td>...</td>\n      <td>...</td>\n      <td>...</td>\n      <td>...</td>\n    </tr>\n    <tr>\n      <th>281851</th>\n      <td>-0.562654</td>\n      <td>2.169819</td>\n      <td>-0.181702</td>\n      <td>0.187818</td>\n    </tr>\n    <tr>\n      <th>281852</th>\n      <td>-0.562654</td>\n      <td>1.671913</td>\n      <td>0.747166</td>\n      <td>0.967489</td>\n    </tr>\n    <tr>\n      <th>281853</th>\n      <td>-0.562654</td>\n      <td>0.427148</td>\n      <td>-0.491325</td>\n      <td>-0.781201</td>\n    </tr>\n    <tr>\n      <th>281854</th>\n      <td>-0.562654</td>\n      <td>0.427148</td>\n      <td>-1.110571</td>\n      <td>1.513259</td>\n    </tr>\n    <tr>\n      <th>281855</th>\n      <td>-0.562654</td>\n      <td>-0.983585</td>\n      <td>-0.646137</td>\n      <td>-0.658682</td>\n    </tr>\n  </tbody>\n</table>\n<p>281856 rows × 4 columns</p>\n</div>"
          },
          "metadata": {}
        }
      ],
      "execution_count": null,
      "metadata": {
        "colab": {
          "base_uri": "https://localhost:8080/",
          "height": 424
        },
        "id": "ZMXkdP8fWRcl",
        "outputId": "717a6694-906c-40ce-9c21-0809ca37ca6f",
        "gather": {
          "logged": 1663134554624
        }
      }
    },
    {
      "cell_type": "code",
      "source": [
        "X_test_norm = preprocessing.StandardScaler().fit(X_test).transform(X_test)\n",
        "X_test_norm = pd.DataFrame(X_test_norm, columns=X_test.columns)\n",
        "X_test_norm"
      ],
      "outputs": [
        {
          "output_type": "execute_result",
          "execution_count": 33,
          "data": {
            "text/plain": "         Gender  Age_Range  Occupation    Genres\n0     -0.562643   0.425140   -0.177773 -0.289156\n1     -0.562643  -0.404572   -1.262890  1.433839\n2      1.777325  -0.404572   -0.642823  0.026163\n3     -0.562643  -0.404572   -0.177773  0.927076\n4     -0.562643  -0.985370   -0.642823 -1.550433\n...         ...        ...         ...       ...\n70459 -0.562643  -0.404572    0.907344  1.332486\n70460 -0.562643  -0.404572   -1.262890  1.107258\n70461 -0.562643  -0.404572    0.907344 -0.908533\n70462 -0.562643   1.254852    1.062361 -0.345463\n70463  1.777325   2.167536   -0.797840  0.611757\n\n[70464 rows x 4 columns]",
            "text/html": "<div>\n<style scoped>\n    .dataframe tbody tr th:only-of-type {\n        vertical-align: middle;\n    }\n\n    .dataframe tbody tr th {\n        vertical-align: top;\n    }\n\n    .dataframe thead th {\n        text-align: right;\n    }\n</style>\n<table border=\"1\" class=\"dataframe\">\n  <thead>\n    <tr style=\"text-align: right;\">\n      <th></th>\n      <th>Gender</th>\n      <th>Age_Range</th>\n      <th>Occupation</th>\n      <th>Genres</th>\n    </tr>\n  </thead>\n  <tbody>\n    <tr>\n      <th>0</th>\n      <td>-0.562643</td>\n      <td>0.425140</td>\n      <td>-0.177773</td>\n      <td>-0.289156</td>\n    </tr>\n    <tr>\n      <th>1</th>\n      <td>-0.562643</td>\n      <td>-0.404572</td>\n      <td>-1.262890</td>\n      <td>1.433839</td>\n    </tr>\n    <tr>\n      <th>2</th>\n      <td>1.777325</td>\n      <td>-0.404572</td>\n      <td>-0.642823</td>\n      <td>0.026163</td>\n    </tr>\n    <tr>\n      <th>3</th>\n      <td>-0.562643</td>\n      <td>-0.404572</td>\n      <td>-0.177773</td>\n      <td>0.927076</td>\n    </tr>\n    <tr>\n      <th>4</th>\n      <td>-0.562643</td>\n      <td>-0.985370</td>\n      <td>-0.642823</td>\n      <td>-1.550433</td>\n    </tr>\n    <tr>\n      <th>...</th>\n      <td>...</td>\n      <td>...</td>\n      <td>...</td>\n      <td>...</td>\n    </tr>\n    <tr>\n      <th>70459</th>\n      <td>-0.562643</td>\n      <td>-0.404572</td>\n      <td>0.907344</td>\n      <td>1.332486</td>\n    </tr>\n    <tr>\n      <th>70460</th>\n      <td>-0.562643</td>\n      <td>-0.404572</td>\n      <td>-1.262890</td>\n      <td>1.107258</td>\n    </tr>\n    <tr>\n      <th>70461</th>\n      <td>-0.562643</td>\n      <td>-0.404572</td>\n      <td>0.907344</td>\n      <td>-0.908533</td>\n    </tr>\n    <tr>\n      <th>70462</th>\n      <td>-0.562643</td>\n      <td>1.254852</td>\n      <td>1.062361</td>\n      <td>-0.345463</td>\n    </tr>\n    <tr>\n      <th>70463</th>\n      <td>1.777325</td>\n      <td>2.167536</td>\n      <td>-0.797840</td>\n      <td>0.611757</td>\n    </tr>\n  </tbody>\n</table>\n<p>70464 rows × 4 columns</p>\n</div>"
          },
          "metadata": {}
        }
      ],
      "execution_count": null,
      "metadata": {
        "colab": {
          "base_uri": "https://localhost:8080/",
          "height": 424
        },
        "id": "mhvm5_ekWRcm",
        "outputId": "4376877a-86d0-449c-9614-494ba2c057e5",
        "gather": {
          "logged": 1663134560865
        }
      }
    },
    {
      "cell_type": "markdown",
      "source": [
        "The next part will be the model selection and fitting. As mentioned before, I wanted to convert the problem to binary and run a binary classifier. The approach is to:\n",
        "\n",
        "\n",
        "*   Create a seperate target out of each class\n",
        "*   Train 5 sub-models by using the features training set against each of the targets separately using Support Vector Machine Classifier\n",
        "*   Group all the sub-models in an Ensemble and visualize its accuracy\n",
        "\n",
        "\n",
        "\n"
      ],
      "metadata": {
        "id": "5CKDDB7ofoMi"
      }
    },
    {
      "cell_type": "code",
      "source": [
        "y_train_1 = y_train.drop(['Rating_2',\t'Rating_3',\t'Rating_4',\t'Rating_5'], axis=1, index=None).reset_index(drop=True)\n",
        "y_train_2 = y_train.drop(['Rating_1',\t'Rating_3',\t'Rating_4',\t'Rating_5'], axis=1, index=None).reset_index(drop=True)\n",
        "y_train_3 = y_train.drop(['Rating_1',\t'Rating_2',\t'Rating_4',\t'Rating_5'], axis=1, index=None).reset_index(drop=True)\n",
        "y_train_4 = y_train.drop(['Rating_1',\t'Rating_2',\t'Rating_3',\t'Rating_5'], axis=1, index=None).reset_index(drop=True)\n",
        "y_train_5 = y_train.drop(['Rating_1',\t'Rating_2',\t'Rating_3',\t'Rating_4'], axis=1, index=None).reset_index(drop=True)"
      ],
      "outputs": [],
      "execution_count": null,
      "metadata": {
        "id": "S-CRw34EWRcm",
        "gather": {
          "logged": 1663134566063
        }
      }
    },
    {
      "cell_type": "code",
      "source": [
        "y_test_1 = y_test.drop(['Rating_2',\t'Rating_3',\t'Rating_4',\t'Rating_5'], axis=1, index=None).reset_index(drop=True)\n",
        "y_test_2 = y_test.drop(['Rating_1',\t'Rating_3',\t'Rating_4',\t'Rating_5'], axis=1, index=None).reset_index(drop=True)\n",
        "y_test_3 = y_test.drop(['Rating_1',\t'Rating_2',\t'Rating_4',\t'Rating_5'], axis=1, index=None).reset_index(drop=True)\n",
        "y_test_4 = y_test.drop(['Rating_1',\t'Rating_2',\t'Rating_3',\t'Rating_5'], axis=1, index=None).reset_index(drop=True)\n",
        "y_test_5 = y_test.drop(['Rating_1',\t'Rating_2',\t'Rating_3',\t'Rating_4'], axis=1, index=None).reset_index(drop=True)"
      ],
      "outputs": [],
      "execution_count": null,
      "metadata": {
        "id": "3645gX8oWRcm",
        "gather": {
          "logged": 1663134570574
        }
      }
    },
    {
      "cell_type": "code",
      "source": [
        "#Converting the training and testing sets into arrays\n",
        "X_train_norm_array = X_train_norm.values\n",
        "X_test_norm_array = X_test_norm.values\n",
        "\n",
        "y_train_1_array = y_train_1.values.ravel()\n",
        "y_train_2_array = y_train_2.values.ravel()\n",
        "y_train_3_array = y_train_3.values.ravel()\n",
        "y_train_4_array = y_train_4.values.ravel()\n",
        "y_train_5_array = y_train_5.values.ravel()"
      ],
      "outputs": [],
      "execution_count": null,
      "metadata": {
        "id": "KXzbWyPuWRcm",
        "gather": {
          "logged": 1663134576814
        }
      }
    },
    {
      "cell_type": "code",
      "source": [
        "from sklearn import svm\n",
        "\n",
        "# Sub-Model 1\n",
        "Classifier_SVM_1 = svm.SVC(kernel='linear')\n",
        "sub_model_SVM_1 = Classifier_SVM_1.fit(X_train_norm_array, y_train_1_array)"
      ],
      "outputs": [],
      "execution_count": null,
      "metadata": {
        "id": "Mw0D989eWRcm",
        "gather": {
          "logged": 1663134838746
        }
      }
    },
    {
      "cell_type": "code",
      "source": [
        "# Sub-Model 2\n",
        "Classifier_SVM_2 = svm.SVC(kernel='linear')\n",
        "sub_model_SVM_2 = Classifier_SVM_2.fit(X_train_norm_array, y_train_2_array)"
      ],
      "outputs": [],
      "execution_count": null,
      "metadata": {
        "id": "YPQ9dM29WRcn",
        "gather": {
          "logged": 1663135128975
        }
      }
    },
    {
      "cell_type": "code",
      "source": [
        "# Sub-Model 3\n",
        "Classifier_SVM_3 = svm.SVC(kernel='linear')\n",
        "sub_model_SVM_3 = Classifier_SVM_3.fit(X_train_norm_array, y_train_3_array)"
      ],
      "outputs": [],
      "execution_count": null,
      "metadata": {
        "colab": {
          "background_save": true
        },
        "id": "i05vUMScWRcn",
        "gather": {
          "logged": 1663135887762
        }
      }
    },
    {
      "cell_type": "code",
      "source": [
        "# Sub_Model 4\n",
        "Classifier_SVM_4 = svm.SVC(kernel='linear')\n",
        "sub_model_SVM_4 = Classifier_SVM_4.fit(X_train_norm_array, y_train_4_array)"
      ],
      "outputs": [],
      "execution_count": null,
      "metadata": {
        "id": "_K9qgeMgWRcn",
        "gather": {
          "logged": 1663136862241
        }
      }
    },
    {
      "cell_type": "code",
      "source": [
        "# Sub-Model 5\n",
        "Classifier_SVM_5 = svm.SVC(kernel='linear')\n",
        "sub_model_SVM_5 = Classifier_SVM_5.fit(X_train_norm_array, y_train_5_array)"
      ],
      "outputs": [],
      "execution_count": null,
      "metadata": {
        "id": "ZL_EGnGrWRcn",
        "gather": {
          "logged": 1663137326865
        }
      }
    },
    {
      "cell_type": "code",
      "source": [
        "# Appending each target class in a single target list which will be looped in for evaluation purposes in the next cell\n",
        "y_df_list = [y_train_1, y_train_2, y_train_3, y_train_3, y_train_4, y_train_5]"
      ],
      "outputs": [],
      "execution_count": null,
      "metadata": {
        "id": "xX9smcCfWRco",
        "gather": {
          "logged": 1663137346452
        }
      }
    },
    {
      "cell_type": "code",
      "source": [
        "from sklearn.ensemble import VotingClassifier\n",
        "from sklearn.model_selection import cross_val_score\n",
        "from sklearn.model_selection import RepeatedStratifiedKFold\n",
        "from numpy import mean\n",
        "from numpy import std\n",
        "from matplotlib import pyplot\n",
        "\n",
        "# get a voting ensemble of models\n",
        "def get_voting():\n",
        "\t# define the base models\n",
        "\tmodels = list()\n",
        "\tmodels.append(('svm1', sub_model_SVM_1))\n",
        "\tmodels.append(('svm2', sub_model_SVM_2))\n",
        "\tmodels.append(('svm3', sub_model_SVM_3))\n",
        "\tmodels.append(('svm4', sub_model_SVM_4))\n",
        "\tmodels.append(('svm5', sub_model_SVM_5))\n",
        "\t# define the voting ensemble\n",
        "\tensemble = VotingClassifier(estimators=models, voting='hard')\n",
        "\treturn ensemble\n",
        " \n",
        "# get a list of models to evaluate\n",
        "def get_models():\n",
        "\tmodels = dict()\n",
        "\tmodels['svm1'] = sub_model_SVM_1\n",
        "\tmodels['svm2'] = sub_model_SVM_2\n",
        "\tmodels['svm3'] = sub_model_SVM_3\n",
        "\tmodels['svm4'] = sub_model_SVM_4\n",
        "\tmodels['svm5'] = sub_model_SVM_5\n",
        "\tmodels['hard_voting'] = get_voting()\n",
        "\treturn models\n",
        " \n",
        "# evaluate a give model using cross-validation\n",
        "def evaluate_model(model, X, y):\n",
        "\tcv = RepeatedStratifiedKFold(n_splits=10, n_repeats=3, random_state=1)\n",
        "\tscores = cross_val_score(model, X, y, scoring='accuracy', cv=cv, n_jobs=-1, error_score='raise')\n",
        "\treturn scores\n",
        " \n",
        "# get the models to evaluate\n",
        "models = get_models()\n",
        "# evaluate the models and store results\n",
        "results, names = list(), list()\n",
        "for (name, model), (target) in zip(models.items(), y_df_list):\n",
        "\tscores = evaluate_model(model, X_train_norm, target)\n",
        "\tresults.append(scores)\n",
        "\tnames.append(name)\n",
        "\tprint('>%s %.3f' % (name, mean(scores)))\n",
        "# plot model performance for comparison\n",
        "pyplot.rcParams[\"figure.figsize\"] = (10,8)\n",
        "pyplot.boxplot(results, labels=names, showmeans=True)\n",
        "pyplot.show()"
      ],
      "outputs": [],
      "execution_count": null,
      "metadata": {
        "id": "n9xL7oQ7WRco",
        "gather": {
          "logged": 1663153536283
        }
      }
    },
    {
      "cell_type": "markdown",
      "source": [
        "We see that the Ensemble gave an accuracy using hard voting of **82%**, which is indeed a good result!"
      ],
      "metadata": {
        "nteract": {
          "transient": {
            "deleting": false
          }
        },
        "id": "kSof6eVkyGnS"
      }
    },
    {
      "cell_type": "markdown",
      "source": [
        "![ensemble voting.jfif](data:image/jpeg;base64,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)"
      ],
      "metadata": {
        "nteract": {
          "transient": {
            "deleting": false
          }
        },
        "id": "rQKTTRc0yGnT"
      }
    }
  ],
  "metadata": {
    "colab": {
      "machine_shape": "hm",
      "provenance": [],
      "collapsed_sections": [],
      "include_colab_link": true
    },
    "gpuClass": "standard",
    "kernel_info": {
      "name": "python3"
    },
    "kernelspec": {
      "name": "python3",
      "language": "python",
      "display_name": "Python 3 (ipykernel)"
    },
    "language_info": {
      "name": "python",
      "version": "3.8.5",
      "mimetype": "text/x-python",
      "codemirror_mode": {
        "name": "ipython",
        "version": 3
      },
      "pygments_lexer": "ipython3",
      "nbconvert_exporter": "python",
      "file_extension": ".py"
    },
    "nteract": {
      "version": "nteract-front-end@1.0.0"
    }
  },
  "nbformat": 4,
  "nbformat_minor": 0
}