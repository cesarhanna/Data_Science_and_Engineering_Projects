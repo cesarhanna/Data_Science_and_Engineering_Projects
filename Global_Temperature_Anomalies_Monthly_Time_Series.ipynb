{
  "nbformat": 4,
  "nbformat_minor": 0,
  "metadata": {
    "colab": {
      "provenance": []
    },
    "kernelspec": {
      "name": "python3",
      "display_name": "Python 3"
    },
    "language_info": {
      "name": "python"
    }
  },
  "cells": [
    {
      "cell_type": "markdown",
      "source": [
        "#**Global Temperature Anomalies - Monthly Time Series**"
      ],
      "metadata": {
        "id": "FR_ei3urpRZs"
      }
    },
    {
      "cell_type": "markdown",
      "source": [
        "> ### 1. **Introduction**"
      ],
      "metadata": {
        "id": "KTkO0ZRypSjn"
      }
    },
    {
      "cell_type": "markdown",
      "source": [
        "\n",
        "\n",
        "> We started to observe changes in the global climate since, more or less, the inductrial revolution. The impact derived from these temperature fluctuations on the long run has caused what we all see clearly since few decades, the global warming. Global warming is an aspect of climate change, referring to the long-term rise of the planet's temperatures. It is caused by increased concentrations of greenhouse gases in the atmosphere, mainly from human activities such as burning fossil fuels, and farming.\n",
        "\n",
        "> In this project I am using temperature anomalies recorded since the mid-1700 until today to observe the changes in the global climate and predict anomalies in the near future.\n",
        "\n",
        "\n",
        "\n"
      ],
      "metadata": {
        "id": "5EOKdkVWpSuS"
      }
    },
    {
      "cell_type": "markdown",
      "source": [
        "> ### 2. **The Project's Objectives**"
      ],
      "metadata": {
        "id": "A61T6ghcpTBe"
      }
    },
    {
      "cell_type": "markdown",
      "source": [
        "> *   Find real records of climate changes data from trusted source(s)\n",
        "*   Visualize the pattern of data through time\n",
        "*   Derive conclusions from the observed data\n",
        "*   Use the observed data to predict the anomalies in the near future\n",
        "\n"
      ],
      "metadata": {
        "id": "Ji101PvCymvY"
      }
    },
    {
      "cell_type": "markdown",
      "source": [
        "> ### 3. **Initial Data Exploration**"
      ],
      "metadata": {
        "id": "-OmfRCecLLYc"
      }
    },
    {
      "cell_type": "markdown",
      "source": [
        ">> #### A. **Data Source(s)**"
      ],
      "metadata": {
        "id": "Lzcm8SkIynBN"
      }
    },
    {
      "cell_type": "markdown",
      "source": [
        ">>> This analysis is based on the climate changes recorded since 1750 until 2022 from the following source:\n",
        "http://berkeleyearth.org/data/\n",
        "\n",
        ">>> The dataset contains a detailed summary of the land-surface average results produced by the Berkeley Averaging method. Temperatures are in Celsius and reported as anomalies relative to the Jan 1951-Dec 1980 average. Uncertainties represent the 95% confidence interval for statistical and spatial under-sampling effects.\n",
        "\n",
        ">>> The current dataset presented here is described as estimated Global Land-Surface TAVG based on the Complete Berkeley Dataset. This analysis was run on 06-Sep-2022\n",
        "\n",
        ">>> Results are based on 50498 time series with 21029999 data points."
      ],
      "metadata": {
        "id": "5f71v3jT0eSg"
      }
    },
    {
      "cell_type": "markdown",
      "source": [
        "> ### 4. **ETL**"
      ],
      "metadata": {
        "id": "8OZE_DAYx6fv"
      }
    },
    {
      "cell_type": "markdown",
      "source": [
        ">> #### A. **Analysis of the Dataset**"
      ],
      "metadata": {
        "id": "cHYg6ObT4TgX"
      }
    },
    {
      "cell_type": "markdown",
      "source": [
        ">>> Importing few libraries that will help in loading the datased and visualizing it for further analysis"
      ],
      "metadata": {
        "id": "8L09VMXC5DiU"
      }
    },
    {
      "cell_type": "code",
      "execution_count": null,
      "metadata": {
        "id": "TF1kQTdBOn-S"
      },
      "outputs": [],
      "source": [
        "import pandas as pd\n",
        "import numpy as np\n",
        "import matplotlib.pyplot as plt\n",
        "import seaborn as sns; sns.set_theme(color_codes=True)\n",
        "from keras.preprocessing import sequence\n",
        "%matplotlib inline"
      ]
    },
    {
      "cell_type": "code",
      "source": [
        "path = 'https://github.com/cesarhanna/datasets/blob/main/Global_temperature_anomalies.csv?raw=true'"
      ],
      "metadata": {
        "id": "mB_-zGZ6NV-D"
      },
      "execution_count": null,
      "outputs": []
    },
    {
      "cell_type": "code",
      "source": [
        "#Reading the original dataset into a pandas dataframe\n",
        "original_df = pd.read_csv(path)"
      ],
      "metadata": {
        "id": "kiUnPKZBPcxm"
      },
      "execution_count": null,
      "outputs": []
    },
    {
      "cell_type": "code",
      "source": [
        "original_df"
      ],
      "metadata": {
        "colab": {
          "base_uri": "https://localhost:8080/",
          "height": 502
        },
        "id": "edZyNdFiPqxn",
        "outputId": "acad1ba6-de0b-4332-cb8f-a023803529e0"
      },
      "execution_count": null,
      "outputs": [
        {
          "output_type": "execute_result",
          "data": {
            "text/plain": [
              "      Year  Month  Monthly Land Average Temperature Anomaly  \\\n",
              "0     1750      1                                    -1.013   \n",
              "1     1750      2                                    -1.680   \n",
              "2     1750      3                                    -0.199   \n",
              "3     1750      4                                    -0.534   \n",
              "4     1750      5                                    -1.891   \n",
              "...    ...    ...                                       ...   \n",
              "3267  2022      4                                     1.373   \n",
              "3268  2022      5                                     1.031   \n",
              "3269  2022      6                                     1.311   \n",
              "3270  2022      7                                     1.280   \n",
              "3271  2022      8                                     1.246   \n",
              "\n",
              "      Monthly Land Average Temperature Anomaly Uncertainty  \\\n",
              "0                                                 3.202      \n",
              "1                                                 3.764      \n",
              "2                                                   NaN      \n",
              "3                                                 2.100      \n",
              "4                                                 1.340      \n",
              "...                                                 ...      \n",
              "3267                                              0.069      \n",
              "3268                                              0.112      \n",
              "3269                                              0.107      \n",
              "3270                                              0.075      \n",
              "3271                                              0.099      \n",
              "\n",
              "      Annual Land Average Temperature Anomaly  \\\n",
              "0                                         NaN   \n",
              "1                                      -1.204   \n",
              "2                                      -1.222   \n",
              "3                                      -1.248   \n",
              "4                                      -1.560   \n",
              "...                                       ...   \n",
              "3267                                      NaN   \n",
              "3268                                      NaN   \n",
              "3269                                      NaN   \n",
              "3270                                      NaN   \n",
              "3271                                      NaN   \n",
              "\n",
              "      Annual Land Average Temperature Anomaly Uncertainty  \\\n",
              "0                                                   NaN     \n",
              "1                                                   NaN     \n",
              "2                                                   NaN     \n",
              "3                                                   NaN     \n",
              "4                                                   NaN     \n",
              "...                                                 ...     \n",
              "3267                                                NaN     \n",
              "3268                                                NaN     \n",
              "3269                                                NaN     \n",
              "3270                                                NaN     \n",
              "3271                                                NaN     \n",
              "\n",
              "      Five-year Land Average Temperature Anomaly  \\\n",
              "0                                            NaN   \n",
              "1                                            NaN   \n",
              "2                                            NaN   \n",
              "3                                            NaN   \n",
              "4                                            NaN   \n",
              "...                                          ...   \n",
              "3267                                         NaN   \n",
              "3268                                         NaN   \n",
              "3269                                         NaN   \n",
              "3270                                         NaN   \n",
              "3271                                         NaN   \n",
              "\n",
              "      Five-year Land Average Temperature Anomaly Uncertainty  \\\n",
              "0                                                   NaN        \n",
              "1                                                   NaN        \n",
              "2                                                   NaN        \n",
              "3                                                   NaN        \n",
              "4                                                   NaN        \n",
              "...                                                 ...        \n",
              "3267                                                NaN        \n",
              "3268                                                NaN        \n",
              "3269                                                NaN        \n",
              "3270                                                NaN        \n",
              "3271                                                NaN        \n",
              "\n",
              "      Ten-year Land Average Temperature Anomaly  \\\n",
              "0                                           NaN   \n",
              "1                                           NaN   \n",
              "2                                           NaN   \n",
              "3                                           NaN   \n",
              "4                                           NaN   \n",
              "...                                         ...   \n",
              "3267                                        NaN   \n",
              "3268                                        NaN   \n",
              "3269                                        NaN   \n",
              "3270                                        NaN   \n",
              "3271                                        NaN   \n",
              "\n",
              "      Ten-year Land Average Temperature Anomaly Uncertainty  \\\n",
              "0                                                   NaN       \n",
              "1                                                   NaN       \n",
              "2                                                   NaN       \n",
              "3                                                   NaN       \n",
              "4                                                   NaN       \n",
              "...                                                 ...       \n",
              "3267                                                NaN       \n",
              "3268                                                NaN       \n",
              "3269                                                NaN       \n",
              "3270                                                NaN       \n",
              "3271                                                NaN       \n",
              "\n",
              "      Twenty-year Land Average Temperature Anomaly  \\\n",
              "0                                              NaN   \n",
              "1                                              NaN   \n",
              "2                                              NaN   \n",
              "3                                              NaN   \n",
              "4                                              NaN   \n",
              "...                                            ...   \n",
              "3267                                           NaN   \n",
              "3268                                           NaN   \n",
              "3269                                           NaN   \n",
              "3270                                           NaN   \n",
              "3271                                           NaN   \n",
              "\n",
              "      Twenty-year Land Average Temperature Anomaly Uncertainty  \n",
              "0                                                   NaN         \n",
              "1                                                   NaN         \n",
              "2                                                   NaN         \n",
              "3                                                   NaN         \n",
              "4                                                   NaN         \n",
              "...                                                 ...         \n",
              "3267                                                NaN         \n",
              "3268                                                NaN         \n",
              "3269                                                NaN         \n",
              "3270                                                NaN         \n",
              "3271                                                NaN         \n",
              "\n",
              "[3272 rows x 12 columns]"
            ],
            "text/html": [
              "\n",
              "  <div id=\"df-59ed7cbe-06ed-4dcd-926d-1ad2b4ad5961\">\n",
              "    <div class=\"colab-df-container\">\n",
              "      <div>\n",
              "<style scoped>\n",
              "    .dataframe tbody tr th:only-of-type {\n",
              "        vertical-align: middle;\n",
              "    }\n",
              "\n",
              "    .dataframe tbody tr th {\n",
              "        vertical-align: top;\n",
              "    }\n",
              "\n",
              "    .dataframe thead th {\n",
              "        text-align: right;\n",
              "    }\n",
              "</style>\n",
              "<table border=\"1\" class=\"dataframe\">\n",
              "  <thead>\n",
              "    <tr style=\"text-align: right;\">\n",
              "      <th></th>\n",
              "      <th>Year</th>\n",
              "      <th>Month</th>\n",
              "      <th>Monthly Land Average Temperature Anomaly</th>\n",
              "      <th>Monthly Land Average Temperature Anomaly Uncertainty</th>\n",
              "      <th>Annual Land Average Temperature Anomaly</th>\n",
              "      <th>Annual Land Average Temperature Anomaly Uncertainty</th>\n",
              "      <th>Five-year Land Average Temperature Anomaly</th>\n",
              "      <th>Five-year Land Average Temperature Anomaly Uncertainty</th>\n",
              "      <th>Ten-year Land Average Temperature Anomaly</th>\n",
              "      <th>Ten-year Land Average Temperature Anomaly Uncertainty</th>\n",
              "      <th>Twenty-year Land Average Temperature Anomaly</th>\n",
              "      <th>Twenty-year Land Average Temperature Anomaly Uncertainty</th>\n",
              "    </tr>\n",
              "  </thead>\n",
              "  <tbody>\n",
              "    <tr>\n",
              "      <th>0</th>\n",
              "      <td>1750</td>\n",
              "      <td>1</td>\n",
              "      <td>-1.013</td>\n",
              "      <td>3.202</td>\n",
              "      <td>NaN</td>\n",
              "      <td>NaN</td>\n",
              "      <td>NaN</td>\n",
              "      <td>NaN</td>\n",
              "      <td>NaN</td>\n",
              "      <td>NaN</td>\n",
              "      <td>NaN</td>\n",
              "      <td>NaN</td>\n",
              "    </tr>\n",
              "    <tr>\n",
              "      <th>1</th>\n",
              "      <td>1750</td>\n",
              "      <td>2</td>\n",
              "      <td>-1.680</td>\n",
              "      <td>3.764</td>\n",
              "      <td>-1.204</td>\n",
              "      <td>NaN</td>\n",
              "      <td>NaN</td>\n",
              "      <td>NaN</td>\n",
              "      <td>NaN</td>\n",
              "      <td>NaN</td>\n",
              "      <td>NaN</td>\n",
              "      <td>NaN</td>\n",
              "    </tr>\n",
              "    <tr>\n",
              "      <th>2</th>\n",
              "      <td>1750</td>\n",
              "      <td>3</td>\n",
              "      <td>-0.199</td>\n",
              "      <td>NaN</td>\n",
              "      <td>-1.222</td>\n",
              "      <td>NaN</td>\n",
              "      <td>NaN</td>\n",
              "      <td>NaN</td>\n",
              "      <td>NaN</td>\n",
              "      <td>NaN</td>\n",
              "      <td>NaN</td>\n",
              "      <td>NaN</td>\n",
              "    </tr>\n",
              "    <tr>\n",
              "      <th>3</th>\n",
              "      <td>1750</td>\n",
              "      <td>4</td>\n",
              "      <td>-0.534</td>\n",
              "      <td>2.100</td>\n",
              "      <td>-1.248</td>\n",
              "      <td>NaN</td>\n",
              "      <td>NaN</td>\n",
              "      <td>NaN</td>\n",
              "      <td>NaN</td>\n",
              "      <td>NaN</td>\n",
              "      <td>NaN</td>\n",
              "      <td>NaN</td>\n",
              "    </tr>\n",
              "    <tr>\n",
              "      <th>4</th>\n",
              "      <td>1750</td>\n",
              "      <td>5</td>\n",
              "      <td>-1.891</td>\n",
              "      <td>1.340</td>\n",
              "      <td>-1.560</td>\n",
              "      <td>NaN</td>\n",
              "      <td>NaN</td>\n",
              "      <td>NaN</td>\n",
              "      <td>NaN</td>\n",
              "      <td>NaN</td>\n",
              "      <td>NaN</td>\n",
              "      <td>NaN</td>\n",
              "    </tr>\n",
              "    <tr>\n",
              "      <th>...</th>\n",
              "      <td>...</td>\n",
              "      <td>...</td>\n",
              "      <td>...</td>\n",
              "      <td>...</td>\n",
              "      <td>...</td>\n",
              "      <td>...</td>\n",
              "      <td>...</td>\n",
              "      <td>...</td>\n",
              "      <td>...</td>\n",
              "      <td>...</td>\n",
              "      <td>...</td>\n",
              "      <td>...</td>\n",
              "    </tr>\n",
              "    <tr>\n",
              "      <th>3267</th>\n",
              "      <td>2022</td>\n",
              "      <td>4</td>\n",
              "      <td>1.373</td>\n",
              "      <td>0.069</td>\n",
              "      <td>NaN</td>\n",
              "      <td>NaN</td>\n",
              "      <td>NaN</td>\n",
              "      <td>NaN</td>\n",
              "      <td>NaN</td>\n",
              "      <td>NaN</td>\n",
              "      <td>NaN</td>\n",
              "      <td>NaN</td>\n",
              "    </tr>\n",
              "    <tr>\n",
              "      <th>3268</th>\n",
              "      <td>2022</td>\n",
              "      <td>5</td>\n",
              "      <td>1.031</td>\n",
              "      <td>0.112</td>\n",
              "      <td>NaN</td>\n",
              "      <td>NaN</td>\n",
              "      <td>NaN</td>\n",
              "      <td>NaN</td>\n",
              "      <td>NaN</td>\n",
              "      <td>NaN</td>\n",
              "      <td>NaN</td>\n",
              "      <td>NaN</td>\n",
              "    </tr>\n",
              "    <tr>\n",
              "      <th>3269</th>\n",
              "      <td>2022</td>\n",
              "      <td>6</td>\n",
              "      <td>1.311</td>\n",
              "      <td>0.107</td>\n",
              "      <td>NaN</td>\n",
              "      <td>NaN</td>\n",
              "      <td>NaN</td>\n",
              "      <td>NaN</td>\n",
              "      <td>NaN</td>\n",
              "      <td>NaN</td>\n",
              "      <td>NaN</td>\n",
              "      <td>NaN</td>\n",
              "    </tr>\n",
              "    <tr>\n",
              "      <th>3270</th>\n",
              "      <td>2022</td>\n",
              "      <td>7</td>\n",
              "      <td>1.280</td>\n",
              "      <td>0.075</td>\n",
              "      <td>NaN</td>\n",
              "      <td>NaN</td>\n",
              "      <td>NaN</td>\n",
              "      <td>NaN</td>\n",
              "      <td>NaN</td>\n",
              "      <td>NaN</td>\n",
              "      <td>NaN</td>\n",
              "      <td>NaN</td>\n",
              "    </tr>\n",
              "    <tr>\n",
              "      <th>3271</th>\n",
              "      <td>2022</td>\n",
              "      <td>8</td>\n",
              "      <td>1.246</td>\n",
              "      <td>0.099</td>\n",
              "      <td>NaN</td>\n",
              "      <td>NaN</td>\n",
              "      <td>NaN</td>\n",
              "      <td>NaN</td>\n",
              "      <td>NaN</td>\n",
              "      <td>NaN</td>\n",
              "      <td>NaN</td>\n",
              "      <td>NaN</td>\n",
              "    </tr>\n",
              "  </tbody>\n",
              "</table>\n",
              "<p>3272 rows × 12 columns</p>\n",
              "</div>\n",
              "      <button class=\"colab-df-convert\" onclick=\"convertToInteractive('df-59ed7cbe-06ed-4dcd-926d-1ad2b4ad5961')\"\n",
              "              title=\"Convert this dataframe to an interactive table.\"\n",
              "              style=\"display:none;\">\n",
              "        \n",
              "  <svg xmlns=\"http://www.w3.org/2000/svg\" height=\"24px\"viewBox=\"0 0 24 24\"\n",
              "       width=\"24px\">\n",
              "    <path d=\"M0 0h24v24H0V0z\" fill=\"none\"/>\n",
              "    <path d=\"M18.56 5.44l.94 2.06.94-2.06 2.06-.94-2.06-.94-.94-2.06-.94 2.06-2.06.94zm-11 1L8.5 8.5l.94-2.06 2.06-.94-2.06-.94L8.5 2.5l-.94 2.06-2.06.94zm10 10l.94 2.06.94-2.06 2.06-.94-2.06-.94-.94-2.06-.94 2.06-2.06.94z\"/><path d=\"M17.41 7.96l-1.37-1.37c-.4-.4-.92-.59-1.43-.59-.52 0-1.04.2-1.43.59L10.3 9.45l-7.72 7.72c-.78.78-.78 2.05 0 2.83L4 21.41c.39.39.9.59 1.41.59.51 0 1.02-.2 1.41-.59l7.78-7.78 2.81-2.81c.8-.78.8-2.07 0-2.86zM5.41 20L4 18.59l7.72-7.72 1.47 1.35L5.41 20z\"/>\n",
              "  </svg>\n",
              "      </button>\n",
              "      \n",
              "  <style>\n",
              "    .colab-df-container {\n",
              "      display:flex;\n",
              "      flex-wrap:wrap;\n",
              "      gap: 12px;\n",
              "    }\n",
              "\n",
              "    .colab-df-convert {\n",
              "      background-color: #E8F0FE;\n",
              "      border: none;\n",
              "      border-radius: 50%;\n",
              "      cursor: pointer;\n",
              "      display: none;\n",
              "      fill: #1967D2;\n",
              "      height: 32px;\n",
              "      padding: 0 0 0 0;\n",
              "      width: 32px;\n",
              "    }\n",
              "\n",
              "    .colab-df-convert:hover {\n",
              "      background-color: #E2EBFA;\n",
              "      box-shadow: 0px 1px 2px rgba(60, 64, 67, 0.3), 0px 1px 3px 1px rgba(60, 64, 67, 0.15);\n",
              "      fill: #174EA6;\n",
              "    }\n",
              "\n",
              "    [theme=dark] .colab-df-convert {\n",
              "      background-color: #3B4455;\n",
              "      fill: #D2E3FC;\n",
              "    }\n",
              "\n",
              "    [theme=dark] .colab-df-convert:hover {\n",
              "      background-color: #434B5C;\n",
              "      box-shadow: 0px 1px 3px 1px rgba(0, 0, 0, 0.15);\n",
              "      filter: drop-shadow(0px 1px 2px rgba(0, 0, 0, 0.3));\n",
              "      fill: #FFFFFF;\n",
              "    }\n",
              "  </style>\n",
              "\n",
              "      <script>\n",
              "        const buttonEl =\n",
              "          document.querySelector('#df-59ed7cbe-06ed-4dcd-926d-1ad2b4ad5961 button.colab-df-convert');\n",
              "        buttonEl.style.display =\n",
              "          google.colab.kernel.accessAllowed ? 'block' : 'none';\n",
              "\n",
              "        async function convertToInteractive(key) {\n",
              "          const element = document.querySelector('#df-59ed7cbe-06ed-4dcd-926d-1ad2b4ad5961');\n",
              "          const dataTable =\n",
              "            await google.colab.kernel.invokeFunction('convertToInteractive',\n",
              "                                                     [key], {});\n",
              "          if (!dataTable) return;\n",
              "\n",
              "          const docLinkHtml = 'Like what you see? Visit the ' +\n",
              "            '<a target=\"_blank\" href=https://colab.research.google.com/notebooks/data_table.ipynb>data table notebook</a>'\n",
              "            + ' to learn more about interactive tables.';\n",
              "          element.innerHTML = '';\n",
              "          dataTable['output_type'] = 'display_data';\n",
              "          await google.colab.output.renderOutput(dataTable, element);\n",
              "          const docLink = document.createElement('div');\n",
              "          docLink.innerHTML = docLinkHtml;\n",
              "          element.appendChild(docLink);\n",
              "        }\n",
              "      </script>\n",
              "    </div>\n",
              "  </div>\n",
              "  "
            ]
          },
          "metadata": {},
          "execution_count": 4
        }
      ]
    },
    {
      "cell_type": "code",
      "source": [
        "#Creating the temperature anomaly dataset which will be used later in the x axis in the visualization graph\n",
        "monthly_avg_temp_anom = original_df['Monthly Land Average Temperature Anomaly']"
      ],
      "metadata": {
        "id": "5iVziltKQL7c"
      },
      "execution_count": null,
      "outputs": []
    },
    {
      "cell_type": "code",
      "source": [
        "#Creating the temperature anomaly dataset which will be used later in the y axis in the visualization graph\n",
        "year = original_df['Year']"
      ],
      "metadata": {
        "id": "Nw7szCo8UIWy"
      },
      "execution_count": null,
      "outputs": []
    },
    {
      "cell_type": "code",
      "source": [
        "plt.plot(year, monthly_avg_temp_anom, color = 'red', label = 'Temperature Anomaly')\n",
        "plt.title('Monthly Land Average Temperature Anomaly')\n",
        "plt.xlabel('Time(Year)')\n",
        "plt.ylabel('Temperature Anomaly')\n",
        "plt.rcParams[\"figure.figsize\"] = (8,5.5)\n",
        "plt.legend()\n",
        "plt.show()"
      ],
      "metadata": {
        "colab": {
          "base_uri": "https://localhost:8080/",
          "height": 382
        },
        "id": "xwB3z2JnRIEz",
        "outputId": "694005e7-d9ee-4227-e2d4-8f5eedcb10bb"
      },
      "execution_count": null,
      "outputs": [
        {
          "output_type": "display_data",
          "data": {
            "text/plain": [
              "<Figure size 576x396 with 1 Axes>"
            ],
            "image/png": "[encoded data removed]"
          },
          "metadata": {
            "needs_background": "light"
          }
        }
      ]
    },
    {
      "cell_type": "markdown",
      "source": [
        ">>> In the above graph we see that the frequency between the highest and the lowest anomaly started relatively high in 1750 and began to decrease until around 1850 where from that year onward the frequency normalized."
      ],
      "metadata": {
        "id": "Hw3KyG3V69_i"
      }
    },
    {
      "cell_type": "markdown",
      "source": [
        ">>> Further analysis below using Polynomial Regression. The reason I am using Polynomial Regresion is that it shows a better representation of the courviture and trajectory of the anomalies through time as seen in the graph:"
      ],
      "metadata": {
        "id": "GQIWttJv75S2"
      }
    },
    {
      "cell_type": "code",
      "source": [
        "#Importing the needed libraries:\n",
        "from sklearn.preprocessing import PolynomialFeatures\n",
        "from sklearn.linear_model import LinearRegression\n",
        "\n",
        "#Removing the 'NaN' values from the anomalies and replacing them with '0':\n",
        "original_df['Monthly Land Average Temperature Anomaly'] = original_df['Monthly Land Average Temperature Anomaly'].fillna(0)\n",
        "\n",
        "#Converting the features to float so they can be transformed and fit:\n",
        "year = original_df['Year'].astype(float)\n",
        "monthly_avg_temp_anom = original_df['Monthly Land Average Temperature Anomaly'].astype(float)\n",
        "\n",
        "x = np.array(year)\n",
        "y = np.array(monthly_avg_temp_anom)\n",
        "\n",
        "x = x.reshape(-1,1)\n",
        "\n",
        "#Pre-processing x so it can be fit:\n",
        "features = PolynomialFeatures(degree=2)\n",
        "x_transformed = features.fit_transform(x)\n",
        "\n",
        "#Fitting the Polynomial Regression model:\n",
        "pr_model = LinearRegression()\n",
        "pr_model.fit(x_transformed, y)\n",
        "\n",
        "#Predicting the anomaly values:\n",
        "y_pred = pr_model.predict(x_transformed)\n",
        "\n",
        "#Plotting the Polynomial Regression model:\n",
        "plt.scatter(x, y, c = \"blue\")\n",
        "plt.title('Monthly Land Average Temperature Anomaly')\n",
        "plt.xlabel('Time(Year)')\n",
        "plt.ylabel('Temperature Anomaly')\n",
        "plt.rcParams[\"figure.figsize\"] = (8,5.5)\n",
        "x_sorted = np.sort(x,axis=0)\n",
        "y_pred_sorted = pr_model.predict(features.fit_transform(x_sorted))\n",
        "plt.plot(x_sorted,y_pred_sorted, c=\"red\", label='Polyfit')\n",
        "plt.legend()"
      ],
      "metadata": {
        "colab": {
          "base_uri": "https://localhost:8080/",
          "height": 399
        },
        "id": "dOii3iFv9FLm",
        "outputId": "73049857-f98e-4e03-c7ee-3198bf451165"
      },
      "execution_count": null,
      "outputs": [
        {
          "output_type": "execute_result",
          "data": {
            "text/plain": [
              "<matplotlib.legend.Legend at 0x7f74252ca990>"
            ]
          },
          "metadata": {},
          "execution_count": 9
        },
        {
          "output_type": "display_data",
          "data": {
            "text/plain": [
              "<Figure size 576x396 with 1 Axes>"
            ],
            "image/png": "[encoded data removed]"
          },
          "metadata": {
            "needs_background": "light"
          }
        }
      ]
    },
    {
      "cell_type": "markdown",
      "source": [
        ">>> Additional analysis on the above graph:\n",
        "\n",
        ">>> *   The regression line around the anomaly data points is increasing through time, which indicates the increase in the global land temperature.\n",
        ">>> *   We observe that from 1750 until around 1850 there are quite a lot of outliers.\n",
        ">>> *   The data points started to get closer to the regression line through time as shown from the year 1750 until 1850 where the frequency started to normalize. I am going to go on a limb here and assume that during those 100 years from 1750 until 1850 they didn't have the right technology to accurately record the anomalies.\n",
        "\n"
      ],
      "metadata": {
        "id": "Kmb-zENED-tz"
      }
    },
    {
      "cell_type": "markdown",
      "source": [
        ">> #### B. **Decision on the Final Dataset**"
      ],
      "metadata": {
        "id": "6b7IvupqInPk"
      }
    },
    {
      "cell_type": "markdown",
      "source": [
        ">>> The decision on the final dataset is based on several factors:\n",
        "\n",
        "\n",
        ">>> *   As mentioned before, the outliers and the high frequency of anomaly fluctuations between 1750 and 1850.\n",
        ">>> *   The columns in the original dataset that are not going to be relevant in the model training. We only need to focus here on the monthly average temperature anomaly data points.\n",
        "\n",
        ">>> Decisions:\n",
        "\n",
        "\n",
        ">>> *   Remove all the records from year 1750 until 1849 since this inconsistency of data points pattern might impact the model prediction accuracy. \n",
        ">>> *   Keep only the monthly anomaly average column since this is the target that I want to predict; the rest of the columns do not have any correlation with the target.\n",
        "\n",
        "\n",
        "\n"
      ],
      "metadata": {
        "id": "Sn_YHvnUKty6"
      }
    },
    {
      "cell_type": "markdown",
      "source": [
        ">> #### C. **Creating the Final Dataset**"
      ],
      "metadata": {
        "id": "UGBhQ9r-WMPr"
      }
    },
    {
      "cell_type": "code",
      "source": [
        "#Removing the all the rows from 1750 until end of 1849 inclusive:\n",
        "index_at_year_1850 = (1850 - 1750) * 12 \n",
        "df_updated_rows = original_df.drop(original_df.loc[0:index_at_year_1850-1].index)"
      ],
      "metadata": {
        "id": "XmIuBAOMWU92"
      },
      "execution_count": null,
      "outputs": []
    },
    {
      "cell_type": "code",
      "source": [
        "#Removing all columns except for 'Monthly Land Average Temperature Anomaly', which is our target:\n",
        "df_updated_rows_columns = pd.DataFrame(df_updated_rows, columns=['Year', 'Month', 'Monthly Land Average Temperature Anomaly']).reset_index(drop=True)"
      ],
      "metadata": {
        "id": "Tf-AE1hKcrL-"
      },
      "execution_count": null,
      "outputs": []
    },
    {
      "cell_type": "markdown",
      "source": [
        ">>> Final Data Frame:"
      ],
      "metadata": {
        "id": "eeFdoSMUd8pl"
      }
    },
    {
      "cell_type": "code",
      "source": [
        "df_updated_rows_columns['Monthly Land Average Temperature Anomaly'].fillna(0) #Replacing the 'NaN' values with '0'\n",
        "final_df = df_updated_rows_columns\n",
        "final_df = pd.DataFrame(final_df)\n",
        "final_df"
      ],
      "metadata": {
        "colab": {
          "base_uri": "https://localhost:8080/",
          "height": 424
        },
        "id": "AY60g1PzeAVf",
        "outputId": "7c9f7553-eb13-4f6e-d4bb-3ea0966bd822"
      },
      "execution_count": null,
      "outputs": [
        {
          "output_type": "execute_result",
          "data": {
            "text/plain": [
              "      Year  Month  Monthly Land Average Temperature Anomaly\n",
              "0     1850      1                                    -1.922\n",
              "1     1850      2                                    -0.171\n",
              "2     1850      3                                    -0.552\n",
              "3     1850      4                                    -1.151\n",
              "4     1850      5                                    -1.381\n",
              "...    ...    ...                                       ...\n",
              "2067  2022      4                                     1.373\n",
              "2068  2022      5                                     1.031\n",
              "2069  2022      6                                     1.311\n",
              "2070  2022      7                                     1.280\n",
              "2071  2022      8                                     1.246\n",
              "\n",
              "[2072 rows x 3 columns]"
            ],
            "text/html": [
              "\n",
              "  <div id=\"df-02326ab1-f521-45d4-8904-c7f5685fde74\">\n",
              "    <div class=\"colab-df-container\">\n",
              "      <div>\n",
              "<style scoped>\n",
              "    .dataframe tbody tr th:only-of-type {\n",
              "        vertical-align: middle;\n",
              "    }\n",
              "\n",
              "    .dataframe tbody tr th {\n",
              "        vertical-align: top;\n",
              "    }\n",
              "\n",
              "    .dataframe thead th {\n",
              "        text-align: right;\n",
              "    }\n",
              "</style>\n",
              "<table border=\"1\" class=\"dataframe\">\n",
              "  <thead>\n",
              "    <tr style=\"text-align: right;\">\n",
              "      <th></th>\n",
              "      <th>Year</th>\n",
              "      <th>Month</th>\n",
              "      <th>Monthly Land Average Temperature Anomaly</th>\n",
              "    </tr>\n",
              "  </thead>\n",
              "  <tbody>\n",
              "    <tr>\n",
              "      <th>0</th>\n",
              "      <td>1850</td>\n",
              "      <td>1</td>\n",
              "      <td>-1.922</td>\n",
              "    </tr>\n",
              "    <tr>\n",
              "      <th>1</th>\n",
              "      <td>1850</td>\n",
              "      <td>2</td>\n",
              "      <td>-0.171</td>\n",
              "    </tr>\n",
              "    <tr>\n",
              "      <th>2</th>\n",
              "      <td>1850</td>\n",
              "      <td>3</td>\n",
              "      <td>-0.552</td>\n",
              "    </tr>\n",
              "    <tr>\n",
              "      <th>3</th>\n",
              "      <td>1850</td>\n",
              "      <td>4</td>\n",
              "      <td>-1.151</td>\n",
              "    </tr>\n",
              "    <tr>\n",
              "      <th>4</th>\n",
              "      <td>1850</td>\n",
              "      <td>5</td>\n",
              "      <td>-1.381</td>\n",
              "    </tr>\n",
              "    <tr>\n",
              "      <th>...</th>\n",
              "      <td>...</td>\n",
              "      <td>...</td>\n",
              "      <td>...</td>\n",
              "    </tr>\n",
              "    <tr>\n",
              "      <th>2067</th>\n",
              "      <td>2022</td>\n",
              "      <td>4</td>\n",
              "      <td>1.373</td>\n",
              "    </tr>\n",
              "    <tr>\n",
              "      <th>2068</th>\n",
              "      <td>2022</td>\n",
              "      <td>5</td>\n",
              "      <td>1.031</td>\n",
              "    </tr>\n",
              "    <tr>\n",
              "      <th>2069</th>\n",
              "      <td>2022</td>\n",
              "      <td>6</td>\n",
              "      <td>1.311</td>\n",
              "    </tr>\n",
              "    <tr>\n",
              "      <th>2070</th>\n",
              "      <td>2022</td>\n",
              "      <td>7</td>\n",
              "      <td>1.280</td>\n",
              "    </tr>\n",
              "    <tr>\n",
              "      <th>2071</th>\n",
              "      <td>2022</td>\n",
              "      <td>8</td>\n",
              "      <td>1.246</td>\n",
              "    </tr>\n",
              "  </tbody>\n",
              "</table>\n",
              "<p>2072 rows × 3 columns</p>\n",
              "</div>\n",
              "      <button class=\"colab-df-convert\" onclick=\"convertToInteractive('df-02326ab1-f521-45d4-8904-c7f5685fde74')\"\n",
              "              title=\"Convert this dataframe to an interactive table.\"\n",
              "              style=\"display:none;\">\n",
              "        \n",
              "  <svg xmlns=\"http://www.w3.org/2000/svg\" height=\"24px\"viewBox=\"0 0 24 24\"\n",
              "       width=\"24px\">\n",
              "    <path d=\"M0 0h24v24H0V0z\" fill=\"none\"/>\n",
              "    <path d=\"M18.56 5.44l.94 2.06.94-2.06 2.06-.94-2.06-.94-.94-2.06-.94 2.06-2.06.94zm-11 1L8.5 8.5l.94-2.06 2.06-.94-2.06-.94L8.5 2.5l-.94 2.06-2.06.94zm10 10l.94 2.06.94-2.06 2.06-.94-2.06-.94-.94-2.06-.94 2.06-2.06.94z\"/><path d=\"M17.41 7.96l-1.37-1.37c-.4-.4-.92-.59-1.43-.59-.52 0-1.04.2-1.43.59L10.3 9.45l-7.72 7.72c-.78.78-.78 2.05 0 2.83L4 21.41c.39.39.9.59 1.41.59.51 0 1.02-.2 1.41-.59l7.78-7.78 2.81-2.81c.8-.78.8-2.07 0-2.86zM5.41 20L4 18.59l7.72-7.72 1.47 1.35L5.41 20z\"/>\n",
              "  </svg>\n",
              "      </button>\n",
              "      \n",
              "  <style>\n",
              "    .colab-df-container {\n",
              "      display:flex;\n",
              "      flex-wrap:wrap;\n",
              "      gap: 12px;\n",
              "    }\n",
              "\n",
              "    .colab-df-convert {\n",
              "      background-color: #E8F0FE;\n",
              "      border: none;\n",
              "      border-radius: 50%;\n",
              "      cursor: pointer;\n",
              "      display: none;\n",
              "      fill: #1967D2;\n",
              "      height: 32px;\n",
              "      padding: 0 0 0 0;\n",
              "      width: 32px;\n",
              "    }\n",
              "\n",
              "    .colab-df-convert:hover {\n",
              "      background-color: #E2EBFA;\n",
              "      box-shadow: 0px 1px 2px rgba(60, 64, 67, 0.3), 0px 1px 3px 1px rgba(60, 64, 67, 0.15);\n",
              "      fill: #174EA6;\n",
              "    }\n",
              "\n",
              "    [theme=dark] .colab-df-convert {\n",
              "      background-color: #3B4455;\n",
              "      fill: #D2E3FC;\n",
              "    }\n",
              "\n",
              "    [theme=dark] .colab-df-convert:hover {\n",
              "      background-color: #434B5C;\n",
              "      box-shadow: 0px 1px 3px 1px rgba(0, 0, 0, 0.15);\n",
              "      filter: drop-shadow(0px 1px 2px rgba(0, 0, 0, 0.3));\n",
              "      fill: #FFFFFF;\n",
              "    }\n",
              "  </style>\n",
              "\n",
              "      <script>\n",
              "        const buttonEl =\n",
              "          document.querySelector('#df-02326ab1-f521-45d4-8904-c7f5685fde74 button.colab-df-convert');\n",
              "        buttonEl.style.display =\n",
              "          google.colab.kernel.accessAllowed ? 'block' : 'none';\n",
              "\n",
              "        async function convertToInteractive(key) {\n",
              "          const element = document.querySelector('#df-02326ab1-f521-45d4-8904-c7f5685fde74');\n",
              "          const dataTable =\n",
              "            await google.colab.kernel.invokeFunction('convertToInteractive',\n",
              "                                                     [key], {});\n",
              "          if (!dataTable) return;\n",
              "\n",
              "          const docLinkHtml = 'Like what you see? Visit the ' +\n",
              "            '<a target=\"_blank\" href=https://colab.research.google.com/notebooks/data_table.ipynb>data table notebook</a>'\n",
              "            + ' to learn more about interactive tables.';\n",
              "          element.innerHTML = '';\n",
              "          dataTable['output_type'] = 'display_data';\n",
              "          await google.colab.output.renderOutput(dataTable, element);\n",
              "          const docLink = document.createElement('div');\n",
              "          docLink.innerHTML = docLinkHtml;\n",
              "          element.appendChild(docLink);\n",
              "        }\n",
              "      </script>\n",
              "    </div>\n",
              "  </div>\n",
              "  "
            ]
          },
          "metadata": {},
          "execution_count": 12
        }
      ]
    },
    {
      "cell_type": "markdown",
      "source": [
        ">>> So, let's visualize the final dataset:"
      ],
      "metadata": {
        "id": "oUHPltaqAlBH"
      }
    },
    {
      "cell_type": "code",
      "source": [
        "#Extracting the year and monthly average anomaly for plotting:\n",
        "year_updated = final_df['Year']\n",
        "monthly_avg_temp_anom_updated = final_df['Monthly Land Average Temperature Anomaly']\n",
        "\n",
        "#Plotting the new data for visualization:\n",
        "plt.plot(year_updated, monthly_avg_temp_anom_updated, color = 'red', label = 'Temperature Anomaly')\n",
        "plt.title('Monthly Land Average Temperature Anomaly')\n",
        "plt.xlabel('Time(Year)')\n",
        "plt.ylabel('Temperature Anomaly')\n",
        "plt.rcParams[\"figure.figsize\"] = (8,5.5)\n",
        "plt.legend()\n",
        "plt.show()"
      ],
      "metadata": {
        "colab": {
          "base_uri": "https://localhost:8080/",
          "height": 382
        },
        "id": "HGP6-GdXAtDf",
        "outputId": "e4325db9-e6ef-4bf8-9f17-a5533ad1c623"
      },
      "execution_count": null,
      "outputs": [
        {
          "output_type": "display_data",
          "data": {
            "text/plain": [
              "<Figure size 576x396 with 1 Axes>"
            ],
            "image/png": "[encoded data removed]"
          },
          "metadata": {
            "needs_background": "light"
          }
        }
      ]
    },
    {
      "cell_type": "markdown",
      "source": [
        ">> #### D. **Defining the Batch and training set size**"
      ],
      "metadata": {
        "id": "zXc5dFz1AcEq"
      }
    },
    {
      "cell_type": "markdown",
      "source": [
        ">>> As per the market research and analysis, choosing a batch size of 64 for deep learning proved to be performing well and this is because the learning rate and batch size are closely linked."
      ],
      "metadata": {
        "id": "L05W9ZiNBBaN"
      }
    },
    {
      "cell_type": "code",
      "source": [
        "#Defining the batch size:\n",
        "batch_size = 32"
      ],
      "metadata": {
        "id": "wgcI77RRAjQ-"
      },
      "execution_count": null,
      "outputs": []
    },
    {
      "cell_type": "markdown",
      "source": [
        ">>> Now, let's define the training-set size in which where we divide it by the batch size should give us a remainder of 0:"
      ],
      "metadata": {
        "id": "UCpE7Lq_DAOJ"
      }
    },
    {
      "cell_type": "code",
      "source": [
        "#Getting the training set length based on the batch size:\n",
        "def get_trainingset_length(dataset, batch_size, testset_percentage):\n",
        "  #Substract test_percent to be excluded from training; reserved for test-set\n",
        "  length = len(dataset)\n",
        "  length *= 1 - testset_percentage\n",
        "  trainingset_length_values = []\n",
        "  for i in range(int(length) - 50, int(length)):\n",
        "    remainder = i%batch_size\n",
        "    if (remainder == 0):\n",
        "      trainingset_length_values.append(i)\n",
        "  return (max(trainingset_length_values))"
      ],
      "metadata": {
        "id": "IUlp49WaDYDS"
      },
      "execution_count": null,
      "outputs": []
    },
    {
      "cell_type": "code",
      "source": [
        "#Length of the training set:\n",
        "length = get_trainingset_length(final_df, batch_size, 0.05) #Taking 95% for the training-set and 5% for the test-set thus the '0.05'\n",
        "print('Length of the training set is:', length)"
      ],
      "metadata": {
        "colab": {
          "base_uri": "https://localhost:8080/"
        },
        "id": "9z7MTjCSD_zd",
        "outputId": "1b8f7a71-5157-4d28-b5c8-3b49aea8aee6"
      },
      "execution_count": null,
      "outputs": [
        {
          "output_type": "stream",
          "name": "stdout",
          "text": [
            "Length of the training set is: 1952\n"
          ]
        }
      ]
    },
    {
      "cell_type": "markdown",
      "source": [
        ">>> The last part of the ETL is to increase the boundary of the training-set as this is required to create the sliding window, where we train the timesteps on the left of the window and predict the anomaly for the next timesteps on the right of the window:"
      ],
      "metadata": {
        "id": "tM-qt7AcINu-"
      }
    },
    {
      "cell_type": "code",
      "source": [
        "#Defining the timesteps to 12 considering the 12 months of the year:\n",
        "timesteps = 12\n",
        "\n",
        "#Increasing the upper boundary of the training set by adding the multiplication of the timesteps by 2:\n",
        "upper_train = length + timesteps*2\n",
        "final_df_train = final_df[0:upper_train]\n",
        "training_set_updated = final_df_train.iloc[:,2:3].values\n",
        "\n",
        "#Let's see the shape of the updated training set:\n",
        "training_set_updated.shape"
      ],
      "metadata": {
        "colab": {
          "base_uri": "https://localhost:8080/"
        },
        "id": "iFFfhTIWIYrA",
        "outputId": "647bcaf2-a975-4142-b03e-706ca1e00eca"
      },
      "execution_count": null,
      "outputs": [
        {
          "output_type": "execute_result",
          "data": {
            "text/plain": [
              "(1976, 1)"
            ]
          },
          "metadata": {},
          "execution_count": 17
        }
      ]
    },
    {
      "cell_type": "markdown",
      "source": [
        ">>> Quick explenation on the shape of the traning-set above: the 1944 represents the number of rows or size of the set, and the 1 represents the dimension of the data that we want to train and predict, in this case our target is only one field and that is the monthly average anomaly."
      ],
      "metadata": {
        "id": "HancZJV4KB6w"
      }
    },
    {
      "cell_type": "markdown",
      "source": [
        ">> #### E. **Scaling the training set**"
      ],
      "metadata": {
        "id": "ppBLcsEBQLhh"
      }
    },
    {
      "cell_type": "markdown",
      "source": [
        ">>> This step is important to the accuracy of the model. The point is to bring the values of the training set between 0 and 1"
      ],
      "metadata": {
        "id": "xopHvVw9RDat"
      }
    },
    {
      "cell_type": "code",
      "source": [
        "#Training set scaling using MinMaxScaler:\n",
        "from sklearn.preprocessing import MinMaxScaler\n",
        "\n",
        "sc = MinMaxScaler(feature_range = (0,1)) #scaling the data to be in a range from 0 to 1\n",
        "training_set_updated_scaled = sc.fit_transform(np.float64(training_set_updated))"
      ],
      "metadata": {
        "id": "pRhzAWZYQTtM"
      },
      "execution_count": null,
      "outputs": []
    },
    {
      "cell_type": "markdown",
      "source": [
        "> ### 5. **Feature Creation**"
      ],
      "metadata": {
        "id": "5El4ZgENLd_d"
      }
    },
    {
      "cell_type": "markdown",
      "source": [
        ">> Now, we constrcut the input data (features) and output data (target) with a **sliding window method**.\n",
        "\n",
        ">> What is a sliding window method anyway? It is the use of prior time steps to predict the next time step. For short, it may be called the window method in some literature. In statistics and time series analysis, this is called a lag or lag method. The number of previous time steps is called the window width or size of the lag.\n",
        "\n",
        ">> In our case here, since we have only a single variable to train and predict, we have the so called **Univariate** Time Series."
      ],
      "metadata": {
        "id": "WMXLtvSxLlar"
      }
    },
    {
      "cell_type": "code",
      "source": [
        "X_train = [] #input data\n",
        "y_train = [] #output data\n",
        "\n",
        "#Creating a data structure with n timesteps:\n",
        "for i in range(timesteps, length + timesteps): #timesteps = 12\n",
        "  X_train.append(training_set_updated_scaled[i-timesteps:i,0]) #left side of the sliding window where we train 12 steps of the data (past time data)\n",
        "  y_train.append(training_set_updated_scaled[i:i+timesteps,0]) #right side of the sliding window where we predict the next 12 steps of the data (future time data)"
      ],
      "metadata": {
        "id": "6gB71jgANwye"
      },
      "execution_count": null,
      "outputs": []
    },
    {
      "cell_type": "markdown",
      "source": [
        ">> Let's have a look at both X_train and y_train and see how the sliding window looks like. This clearly shows the first 12 data points (left side of the window) belong to X_train and the next 12 data points (right side of the window) belong to y_train, and then the window slides by 1 step each time."
      ],
      "metadata": {
        "id": "DW8XKoEAd3NN"
      }
    },
    {
      "cell_type": "code",
      "source": [
        "X_train[:5]"
      ],
      "metadata": {
        "colab": {
          "base_uri": "https://localhost:8080/"
        },
        "id": "1rg-J_LlYhHB",
        "outputId": "e19c06d0-d769-4215-c930-0d0dc62bc96e"
      },
      "execution_count": null,
      "outputs": [
        {
          "output_type": "execute_result",
          "data": {
            "text/plain": [
              "[array([0.06071429, 0.47761905, 0.38690476, 0.24428571, 0.18952381,\n",
              "        0.38238095, 0.5052381 , 0.51119048, 0.33714286, 0.20357143,\n",
              "        0.16309524, 0.23833333]),\n",
              " array([0.47761905, 0.38690476, 0.24428571, 0.18952381, 0.38238095,\n",
              "        0.5052381 , 0.51119048, 0.33714286, 0.20357143, 0.16309524,\n",
              "        0.23833333, 0.48595238]),\n",
              " array([0.38690476, 0.24428571, 0.18952381, 0.38238095, 0.5052381 ,\n",
              "        0.51119048, 0.33714286, 0.20357143, 0.16309524, 0.23833333,\n",
              "        0.48595238, 0.33880952]),\n",
              " array([0.24428571, 0.18952381, 0.38238095, 0.5052381 , 0.51119048,\n",
              "        0.33714286, 0.20357143, 0.16309524, 0.23833333, 0.48595238,\n",
              "        0.33880952, 0.21952381]),\n",
              " array([0.18952381, 0.38238095, 0.5052381 , 0.51119048, 0.33714286,\n",
              "        0.20357143, 0.16309524, 0.23833333, 0.48595238, 0.33880952,\n",
              "        0.21952381, 0.25595238])]"
            ]
          },
          "metadata": {},
          "execution_count": 20
        }
      ]
    },
    {
      "cell_type": "code",
      "source": [
        "y_train[:5]"
      ],
      "metadata": {
        "colab": {
          "base_uri": "https://localhost:8080/"
        },
        "id": "sBwMa0AedJM3",
        "outputId": "d77d1941-f4f4-4589-e4a9-d1b1c081cfcc"
      },
      "execution_count": null,
      "outputs": [
        {
          "output_type": "execute_result",
          "data": {
            "text/plain": [
              "[array([0.48595238, 0.33880952, 0.21952381, 0.25595238, 0.42833333,\n",
              "        0.425     , 0.49642857, 0.42404762, 0.38142857, 0.45285714,\n",
              "        0.2152381 , 0.38642857]),\n",
              " array([0.33880952, 0.21952381, 0.25595238, 0.42833333, 0.425     ,\n",
              "        0.49642857, 0.42404762, 0.38142857, 0.45285714, 0.2152381 ,\n",
              "        0.38642857, 0.43857143]),\n",
              " array([0.21952381, 0.25595238, 0.42833333, 0.425     , 0.49642857,\n",
              "        0.42404762, 0.38142857, 0.45285714, 0.2152381 , 0.38642857,\n",
              "        0.43857143, 0.30595238]),\n",
              " array([0.25595238, 0.42833333, 0.425     , 0.49642857, 0.42404762,\n",
              "        0.38142857, 0.45285714, 0.2152381 , 0.38642857, 0.43857143,\n",
              "        0.30595238, 0.1052381 ]),\n",
              " array([0.42833333, 0.425     , 0.49642857, 0.42404762, 0.38142857,\n",
              "        0.45285714, 0.2152381 , 0.38642857, 0.43857143, 0.30595238,\n",
              "        0.1052381 , 0.29357143])]"
            ]
          },
          "metadata": {},
          "execution_count": 21
        }
      ]
    },
    {
      "cell_type": "markdown",
      "source": [
        ">> To just visualize the sliding window, let's take a summarized representation on how the mechanism works:"
      ],
      "metadata": {
        "id": "HBRFxgGusikR"
      }
    },
    {
      "cell_type": "markdown",
      "source": [
        ">> ![image.png](data:image/png;base64,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)"
      ],
      "metadata": {
        "id": "u3vx-SOCtL9J"
      }
    },
    {
      "cell_type": "markdown",
      "source": [
        ">> Now, we convert both lists, X_train and y_train, to numpy arrays in order to reshape them:"
      ],
      "metadata": {
        "id": "7goEnWbLFOZi"
      }
    },
    {
      "cell_type": "code",
      "source": [
        "X_train, y_train = np.array(X_train), np.array(y_train)"
      ],
      "metadata": {
        "id": "Jl33N2ZOFFRI"
      },
      "execution_count": null,
      "outputs": []
    },
    {
      "cell_type": "code",
      "source": [
        "#Checking the shape of each array:\n",
        "print('X_train shape:', X_train.shape)\n",
        "print('y_train shape:', y_train.shape)"
      ],
      "metadata": {
        "colab": {
          "base_uri": "https://localhost:8080/"
        },
        "id": "Yw7kOu6EFhmV",
        "outputId": "8956ab3e-54e2-4a79-ffc0-846db8dc2083"
      },
      "execution_count": null,
      "outputs": [
        {
          "output_type": "stream",
          "name": "stdout",
          "text": [
            "X_train shape: (1952, 12)\n",
            "y_train shape: (1952, 12)\n"
          ]
        }
      ]
    },
    {
      "cell_type": "markdown",
      "source": [
        ">> As you can see, both datasets have 2D dimension; the number of rows in the dataset and the number of features (which is in this case 12 timesteps). However, these datasets are missing the target (average monthky anomaly) which we want to predict, so we need to reshape them to 3D by including the target."
      ],
      "metadata": {
        "id": "gzIXjSxbGDPR"
      }
    },
    {
      "cell_type": "code",
      "source": [
        "#Reshaping the X_train and y_train to include the target:\n",
        "X_train = np.reshape(X_train, (X_train.shape[0], X_train.shape[1], 1)) #the '1' at the end represents the number of output or target, which in this case is 1 (average monthly anomaly)\n",
        "y_train = np.reshape(y_train, (y_train.shape[0], y_train.shape[1], 1)) #the '1' at the end represents the number of output or target, which in this case is 1 (average monthly anomaly)\n",
        "print('The updated shape of X_train:', X_train.shape)\n",
        "print('The updated shape of y_train:', y_train.shape)"
      ],
      "metadata": {
        "colab": {
          "base_uri": "https://localhost:8080/"
        },
        "id": "SFRuFxSIGN67",
        "outputId": "6902004d-92fa-450f-e685-d40bd55b0f5d"
      },
      "execution_count": null,
      "outputs": [
        {
          "output_type": "stream",
          "name": "stdout",
          "text": [
            "The updated shape of X_train: (1952, 12, 1)\n",
            "The updated shape of y_train: (1952, 12, 1)\n"
          ]
        }
      ]
    },
    {
      "cell_type": "markdown",
      "source": [
        ">> If we want to explain the shapes above, we can say that each matrix has 1920 rows of data, 12 features and 1 target. Great! this is now ready to be trained."
      ],
      "metadata": {
        "id": "hIQA2tA5H612"
      }
    },
    {
      "cell_type": "markdown",
      "source": [
        "> ### 6. **Model Definition**"
      ],
      "metadata": {
        "id": "gHxE1KlMIPTF"
      }
    },
    {
      "cell_type": "markdown",
      "source": [
        ">> In order to choose the right machine learning algorithm, two algorithms will be used to train the model for comparison, a non-deep learning and a deep learning, then through a score comparison it will be decided which algorithm to use for this particular case. "
      ],
      "metadata": {
        "id": "raGYHpjQIr5F"
      }
    },
    {
      "cell_type": "markdown",
      "source": [
        ">> Let's start with few machine learning algorithm used in a multi-output regressor. The reason a **multi-output regressor** is used is because of the target has continuous values.\n",
        "\n",
        ">> A clustering algorithm can't be used here since the target values are of type float and changing that to integer just to train the model will not be considered as best practice and will eventually impact the accuracy of the model. The regression models that will be used with the multi-output regressor are:\n",
        "\n",
        ">> *   **Ridge Regression**\n",
        ">> *   **Random Forest Regression**\n",
        ">> *   **Support Vector Machine**\n",
        "\n",
        ">> The accuracy measures that will be used are:\n",
        "\n",
        ">> *   Mean Squared Error\n",
        ">> *   R2 Score\n",
        "\n",
        ">> For the depp learning model LSTM will be used"
      ],
      "metadata": {
        "id": "5pS6VFWeSD2Q"
      }
    },
    {
      "cell_type": "markdown",
      "source": [
        ">> Let's first create the test set"
      ],
      "metadata": {
        "id": "8HQb5OuNkbx_"
      }
    },
    {
      "cell_type": "code",
      "source": [
        "#Creating the test set since we have already created the training set previously:\n",
        "\n",
        "#Increasing the upper boundary of the test set so we can create the test features later on without having an out of bound error:\n",
        "length_testset = int(len(final_df)*5/100)\n",
        "upper_test = length_testset + timesteps*2\n",
        "final_df_test = final_df[0:upper_test]\n",
        "test_set = final_df_test.iloc[:,2:3].values\n",
        "\n",
        "#Let's see the shape of the updated training set:\n",
        "test_set.shape"
      ],
      "metadata": {
        "colab": {
          "base_uri": "https://localhost:8080/"
        },
        "id": "IBkBB7jzSAaw",
        "outputId": "d0a14187-d078-4b19-eb4c-6db8dba043e6"
      },
      "execution_count": null,
      "outputs": [
        {
          "output_type": "execute_result",
          "data": {
            "text/plain": [
              "(127, 1)"
            ]
          },
          "metadata": {},
          "execution_count": 25
        }
      ]
    },
    {
      "cell_type": "markdown",
      "source": [
        ">> Scaling the test set\n",
        "\n"
      ],
      "metadata": {
        "id": "79mXoxqKW2-M"
      }
    },
    {
      "cell_type": "code",
      "source": [
        "#Test set scaling using MinMaxScaler:\n",
        "sc = MinMaxScaler(feature_range = (0,1)) #scaling the data to be in a range from 0 to 1\n",
        "test_set_scaled = sc.fit_transform(np.float64(test_set))"
      ],
      "metadata": {
        "id": "w4eIRr6uV1-j"
      },
      "execution_count": null,
      "outputs": []
    },
    {
      "cell_type": "markdown",
      "source": [
        ">> Creating the test feature and target\n",
        "\n"
      ],
      "metadata": {
        "id": "ZQ20cYtaeLLW"
      }
    },
    {
      "cell_type": "code",
      "source": [
        "X_test = [] #input data\n",
        "y_test = [] #output data\n",
        "\n",
        "#Creating a data structure with n timesteps:\n",
        "for i in range(timesteps, length_testset + timesteps): #timesteps = 12\n",
        "  X_test.append(test_set_scaled[i-timesteps:i,0]) #left side of the sliding window where we train 12 steps of the data (past time data)\n",
        "  y_test.append(test_set_scaled[i:i+timesteps,0]) #right side of the sliding window where we predict the next 12 steps of the data (future time data)"
      ],
      "metadata": {
        "id": "1C1tLBVHYWFu"
      },
      "execution_count": null,
      "outputs": []
    },
    {
      "cell_type": "markdown",
      "source": [
        ">>> Let's have a quick look at both X_test and y_test datasets:"
      ],
      "metadata": {
        "id": "OOoJ1hKhhDR0"
      }
    },
    {
      "cell_type": "code",
      "source": [
        "X_test[:5]"
      ],
      "metadata": {
        "colab": {
          "base_uri": "https://localhost:8080/"
        },
        "id": "CJfNolk9gP1c",
        "outputId": "ee880ca8-c395-4848-875c-4a6b656608b3"
      },
      "execution_count": null,
      "outputs": [
        {
          "output_type": "execute_result",
          "data": {
            "text/plain": [
              "[array([0.01557508, 0.71485623, 0.56269968, 0.32348243, 0.23162939,\n",
              "        0.55511182, 0.76118211, 0.77116613, 0.47923323, 0.25519169,\n",
              "        0.18730032, 0.3134984 ]),\n",
              " array([0.71485623, 0.56269968, 0.32348243, 0.23162939, 0.55511182,\n",
              "        0.76118211, 0.77116613, 0.47923323, 0.25519169, 0.18730032,\n",
              "        0.3134984 , 0.72883387]),\n",
              " array([0.56269968, 0.32348243, 0.23162939, 0.55511182, 0.76118211,\n",
              "        0.77116613, 0.47923323, 0.25519169, 0.18730032, 0.3134984 ,\n",
              "        0.72883387, 0.48202875]),\n",
              " array([0.32348243, 0.23162939, 0.55511182, 0.76118211, 0.77116613,\n",
              "        0.47923323, 0.25519169, 0.18730032, 0.3134984 , 0.72883387,\n",
              "        0.48202875, 0.28194888]),\n",
              " array([0.23162939, 0.55511182, 0.76118211, 0.77116613, 0.47923323,\n",
              "        0.25519169, 0.18730032, 0.3134984 , 0.72883387, 0.48202875,\n",
              "        0.28194888, 0.34305112])]"
            ]
          },
          "metadata": {},
          "execution_count": 28
        }
      ]
    },
    {
      "cell_type": "code",
      "source": [
        "y_test[:5]"
      ],
      "metadata": {
        "colab": {
          "base_uri": "https://localhost:8080/"
        },
        "id": "dlaUZE0FgbX-",
        "outputId": "43368fe3-3cc9-4eba-b4d0-783f43c3f343"
      },
      "execution_count": null,
      "outputs": [
        {
          "output_type": "execute_result",
          "data": {
            "text/plain": [
              "[array([0.72883387, 0.48202875, 0.28194888, 0.34305112, 0.6321885 ,\n",
              "        0.62659744, 0.74640575, 0.625     , 0.55351438, 0.67332268,\n",
              "        0.27476038, 0.56190096]),\n",
              " array([0.48202875, 0.28194888, 0.34305112, 0.6321885 , 0.62659744,\n",
              "        0.74640575, 0.625     , 0.55351438, 0.67332268, 0.27476038,\n",
              "        0.56190096, 0.64936102]),\n",
              " array([0.28194888, 0.34305112, 0.6321885 , 0.62659744, 0.74640575,\n",
              "        0.625     , 0.55351438, 0.67332268, 0.27476038, 0.56190096,\n",
              "        0.64936102, 0.42691693]),\n",
              " array([0.34305112, 0.6321885 , 0.62659744, 0.74640575, 0.625     ,\n",
              "        0.55351438, 0.67332268, 0.27476038, 0.56190096, 0.64936102,\n",
              "        0.42691693, 0.09025559]),\n",
              " array([0.6321885 , 0.62659744, 0.74640575, 0.625     , 0.55351438,\n",
              "        0.67332268, 0.27476038, 0.56190096, 0.64936102, 0.42691693,\n",
              "        0.09025559, 0.40615016])]"
            ]
          },
          "metadata": {},
          "execution_count": 29
        }
      ]
    },
    {
      "cell_type": "markdown",
      "source": [
        ">> We convert both lists, X_test and y_test, to numpy arrays in order to reshape them\n",
        "\n"
      ],
      "metadata": {
        "id": "Iou888z3hwsu"
      }
    },
    {
      "cell_type": "code",
      "source": [
        "X_test, y_test = np.array(X_test), np.array(y_test)"
      ],
      "metadata": {
        "id": "4gwRAtOwhrTQ"
      },
      "execution_count": null,
      "outputs": []
    },
    {
      "cell_type": "code",
      "source": [
        "#Checking the shape of each array:\n",
        "print('X_test shape:', X_test.shape)\n",
        "print('y_test shape:', y_test.shape)"
      ],
      "metadata": {
        "colab": {
          "base_uri": "https://localhost:8080/"
        },
        "id": "1v6ONQxsiVPR",
        "outputId": "cfca260a-8c06-463b-c5ba-fbd75976fba5"
      },
      "execution_count": null,
      "outputs": [
        {
          "output_type": "stream",
          "name": "stdout",
          "text": [
            "X_test shape: (103, 12)\n",
            "y_test shape: (103, 12)\n"
          ]
        }
      ]
    },
    {
      "cell_type": "markdown",
      "source": [
        ">> We reshape X_test and y_test\n",
        "\n"
      ],
      "metadata": {
        "id": "arO-q5oBigM8"
      }
    },
    {
      "cell_type": "code",
      "source": [
        "#Reshaping the X_test and y_test to include the target:\n",
        "X_test = np.reshape(X_test, (X_test.shape[0], X_test.shape[1], 1)) #the '1' at the end represents the number of output or target, which in this case is 1 (average monthly anomaly)\n",
        "y_test = np.reshape(y_test, (y_test.shape[0], y_test.shape[1], 1)) #the '1' at the end represents the number of output or target, which in this case is 1 (average monthly anomaly)\n",
        "\n",
        "#Removing the last 7 records from X_test and y_test to be divisible by the number of batches in order to avoid the dimensionality descrepency error later on when we evaluate the model using the test set:\n",
        "X_test_updated = X_test[0:96]\n",
        "y_test_updated = y_test[0:96]\n",
        "\n",
        "#Printing the shapes of the updated sets:\n",
        "print('The updated shape of X_test_updated:', X_test_updated.shape)\n",
        "print('The updated shape of y_test_updated:', y_test_updated.shape)"
      ],
      "metadata": {
        "colab": {
          "base_uri": "https://localhost:8080/"
        },
        "id": "U43GOOBVierN",
        "outputId": "c37b8618-1ec9-4cc8-c8e9-b1732172977f"
      },
      "execution_count": null,
      "outputs": [
        {
          "output_type": "stream",
          "name": "stdout",
          "text": [
            "The updated shape of X_test_updated: (96, 12, 1)\n",
            "The updated shape of y_test_updated: (96, 12, 1)\n"
          ]
        }
      ]
    },
    {
      "cell_type": "markdown",
      "source": [
        ">>>> Now that we have the test datasets for feature and target ready, we can then start creating and training the model."
      ],
      "metadata": {
        "id": "WEUJ0nW3ktG1"
      }
    },
    {
      "cell_type": "markdown",
      "source": [
        ">> **Deep Learning Model: Long-Short Term Memory (LSTM)** "
      ],
      "metadata": {
        "id": "1H0BhDTvlGED"
      }
    },
    {
      "cell_type": "markdown",
      "source": [
        ">>> *  Designing and building the LSTM architecture in Keras\n",
        "\n",
        "\n",
        "\n"
      ],
      "metadata": {
        "id": "xQ4agmANlrb4"
      }
    },
    {
      "cell_type": "code",
      "source": [
        "# Importing the Keras libraries and packages in order to start building the LSTM model:\n",
        "\n",
        "from keras.layers import Dense\n",
        "from keras.layers import Input, LSTM\n",
        "from keras.models import Model"
      ],
      "metadata": {
        "id": "giOAjAZvlhBO"
      },
      "execution_count": null,
      "outputs": []
    },
    {
      "cell_type": "markdown",
      "source": [
        ">>>> A functional API will be used instead of 'Sequential' LSTM, since the functional API gives more flexibility.\n",
        "\n",
        ">>>> MAE (Mean Absolute Error) loss-function will be used to measure the loss after each epoch."
      ],
      "metadata": {
        "id": "cwVDOYWjnt46"
      }
    },
    {
      "cell_type": "code",
      "source": [
        "#Initializing the LSTM with MAE Loss-Function using Functional API:\n",
        "inputs_1_mae = Input(batch_shape = (batch_size, timesteps, 1))\n",
        "lstm_1_mae = LSTM(12, stateful=True, return_sequences=True)(inputs_1_mae) # 'return_sequences=True' will return an output for every neuron (in this case 12 neurons), which will be used as input for the next layer\n",
        "lstm_2_mae = LSTM(12, stateful=True, return_sequences=True)(lstm_1_mae)\n",
        "\n",
        "output_1_mae = Dense(units = 1)(lstm_2_mae) # 'units = 1' is representing the number of output or target, which in this case is 1 (monthly average anomaly)\n",
        "\n",
        "regressor_mae = Model(inputs=inputs_1_mae, outputs=output_1_mae)\n",
        "\n",
        "regressor_mae.compile(optimizer='adam', loss='mae', metrics=['accuracy'])\n",
        "regressor_mae.summary()"
      ],
      "metadata": {
        "colab": {
          "base_uri": "https://localhost:8080/"
        },
        "id": "iRLqwz6jniBd",
        "outputId": "d24d813d-3089-40b4-9c5b-8e1071de1205"
      },
      "execution_count": null,
      "outputs": [
        {
          "output_type": "stream",
          "name": "stdout",
          "text": [
            "Model: \"model_1\"\n",
            "_________________________________________________________________\n",
            " Layer (type)                Output Shape              Param #   \n",
            "=================================================================\n",
            " input_2 (InputLayer)        [(32, 12, 1)]             0         \n",
            "                                                                 \n",
            " lstm_2 (LSTM)               (32, 12, 12)              672       \n",
            "                                                                 \n",
            " lstm_3 (LSTM)               (32, 12, 12)              1200      \n",
            "                                                                 \n",
            " dense_1 (Dense)             (32, 12, 1)               13        \n",
            "                                                                 \n",
            "=================================================================\n",
            "Total params: 1,885\n",
            "Trainable params: 1,885\n",
            "Non-trainable params: 0\n",
            "_________________________________________________________________\n"
          ]
        }
      ]
    },
    {
      "cell_type": "markdown",
      "source": [
        ">>>> Visualizing the LSTM model per batch processing:"
      ],
      "metadata": {
        "id": "J2daK7YLO9KG"
      }
    },
    {
      "cell_type": "code",
      "source": [
        "#Importing the libarary that let's us plot the model:\n",
        "from keras.utils.vis_utils import plot_model\n",
        "\n",
        "plot_model(regressor_mae, to_file='model_plot.png', show_shapes=True, show_layer_names=True)"
      ],
      "metadata": {
        "colab": {
          "base_uri": "https://localhost:8080/",
          "height": 422
        },
        "id": "BgkQ2YPSOGBE",
        "outputId": "d9e7ebc4-1333-4a2a-e099-a5483b3ad873"
      },
      "execution_count": null,
      "outputs": [
        {
          "output_type": "execute_result",
          "data": {
            "image/png": "[encoded data removed]",
            "text/plain": [
              "<IPython.core.display.Image object>"
            ]
          },
          "metadata": {},
          "execution_count": 35
        }
      ]
    },
    {
      "cell_type": "markdown",
      "source": [
        "> ### 7. **Model Training**"
      ],
      "metadata": {
        "id": "W06j1IvYQSpJ"
      }
    },
    {
      "cell_type": "markdown",
      "source": [
        ">>> First let's import few libraries that we are going to use for training"
      ],
      "metadata": {
        "id": "ogvb649XnbZI"
      }
    },
    {
      "cell_type": "code",
      "source": [
        "from sklearn.multioutput import MultiOutputRegressor\n",
        "from sklearn.linear_model import Ridge\n",
        "from sklearn.metrics import mean_squared_error\n",
        "from sklearn.metrics import r2_score\n",
        "from sklearn.ensemble import RandomForestRegressor\n",
        "from sklearn import svm"
      ],
      "metadata": {
        "id": "QM7L84v_nmhX"
      },
      "execution_count": 73,
      "outputs": []
    },
    {
      "cell_type": "markdown",
      "source": [
        ">>> Then let's reshape the train and test arrays in order to fit them"
      ],
      "metadata": {
        "id": "DYdGhNg8oHdO"
      }
    },
    {
      "cell_type": "code",
      "source": [
        "X_train_reshaped = np.reshape(X_train, (X_train.shape[0], X_train.shape[1]))\n",
        "y_train_reshaped = np.reshape(y_train, (y_train.shape[0], y_train.shape[1]))\n",
        "\n",
        "X_test_reshaped = np.reshape(X_test, (X_test.shape[0], X_test.shape[1]))\n",
        "y_test_reshaped = np.reshape(y_test, (y_test.shape[0], y_test.shape[1]))"
      ],
      "metadata": {
        "id": "n1wNNS9dpNFH"
      },
      "execution_count": null,
      "outputs": []
    },
    {
      "cell_type": "markdown",
      "source": [
        ">> #### A. **Ridge Regression with Multi-output Regressor**"
      ],
      "metadata": {
        "id": "BjzSPNlCQeuB"
      }
    },
    {
      "cell_type": "code",
      "source": [
        "#Creating the Multi-output Regressor with the Ridge Regression model and fitting it:\n",
        "Rreg = MultiOutputRegressor(Ridge(random_state=123)).fit(X_train_reshaped, y_train_reshaped)\n",
        "                                                         \n",
        "#Predict using the test set:\n",
        "yhat_ridge = Rreg.predict(X_test_reshaped)"
      ],
      "metadata": {
        "id": "mwZ4BpUMpepL"
      },
      "execution_count": 65,
      "outputs": []
    },
    {
      "cell_type": "markdown",
      "source": [
        ">> #### B. **Random Forest Regression with Multi-output Regressor**"
      ],
      "metadata": {
        "id": "Gtx-J2AKq-TY"
      }
    },
    {
      "cell_type": "code",
      "source": [
        "#Creating the Multi-output Regressor with the Random Forest Regression model and fitting it:\n",
        "RFReg = MultiOutputRegressor(RandomForestRegressor(n_estimators=100, max_depth=30, random_state=0)).fit(X_train_reshaped, y_train_reshaped)\n",
        "\n",
        "#Predict using the test set:\n",
        "yhat_random_forest = RFReg.predict(X_test_reshaped)"
      ],
      "metadata": {
        "id": "2aA7IutLoWj1"
      },
      "execution_count": 67,
      "outputs": []
    },
    {
      "cell_type": "markdown",
      "source": [
        ">> #### C. **Support Vector Machine with Multi-output Regressor**"
      ],
      "metadata": {
        "id": "hKQxr9JisKH_"
      }
    },
    {
      "cell_type": "code",
      "source": [
        "#Creating the Support Vector Machine with the Random Forest Regression model and fitting it:\n",
        "svm = MultiOutputRegressor(svm.SVR(epsilon=0.2)).fit(X_train_reshaped, y_train_reshaped)\n",
        "\n",
        "#Predict using the test set:\n",
        "yhat_svm = svm.predict(X_test_reshaped)"
      ],
      "metadata": {
        "id": "FHqOLiduIpqM"
      },
      "execution_count": 74,
      "outputs": []
    },
    {
      "cell_type": "markdown",
      "source": [
        ">> #### D. **Training the LSTM model**"
      ],
      "metadata": {
        "id": "ZS5mzso6ZeX5"
      }
    },
    {
      "cell_type": "code",
      "source": [
        "#Defining the number of epochs:\n",
        "epochs = 130\n",
        "\n",
        "#We fit our model in every epoch and we print the epoch number:\n",
        "lstm = regressor_mae.fit(X_train, y_train, shuffle=False, epochs=epochs, batch_size=batch_size, validation_data=(X_train, y_train)) #here we need the 'shuffle' to be False because we have sequences that we are training and predicting, if we put True we will break the order of sequences\n",
        "regressor_mae.reset_states() #here we reset after each epoch because we don't want to take the state or result of the previous epoch to the next one, we want to start fresh for every epoch"
      ],
      "metadata": {
        "id": "MsB-jP12Znnv"
      },
      "execution_count": null,
      "outputs": []
    },
    {
      "cell_type": "markdown",
      "source": [
        "> ### 8. **Model Evaluation**"
      ],
      "metadata": {
        "id": "5oAfooufevlk"
      }
    },
    {
      "cell_type": "markdown",
      "source": [
        ">> #### A. **Ridge Regression with Multi-output Regressor Evaluation**"
      ],
      "metadata": {
        "id": "LT9THsHOe31A"
      }
    },
    {
      "cell_type": "code",
      "source": [
        "#Calculating the mean squared error:\n",
        "mse = mean_squared_error(y_test_reshaped, yhat_ridge)\n",
        "\n",
        "#Calculating the R2 score:\n",
        "score = r2_score(y_test_reshaped, yhat_ridge)\n",
        "\n",
        "print('Ridge MSE is: ', mse)\n",
        "print('Ridge R2 Score is: ', score)"
      ],
      "metadata": {
        "colab": {
          "base_uri": "https://localhost:8080/"
        },
        "id": "C2rH7Y4dfwlW",
        "outputId": "2aa2dbe2-338b-48b7-d1b0-7a3c4d44b1e4"
      },
      "execution_count": 59,
      "outputs": [
        {
          "output_type": "stream",
          "name": "stdout",
          "text": [
            "Ridge MSE is:  0.039907431427345735\n",
            "Ridge R2 Score is:  -0.0986165530494168\n"
          ]
        }
      ]
    },
    {
      "cell_type": "markdown",
      "source": [
        ">>> Let's compare the test set of the final dataframe with the Ridge Regression fitting result by visualizing it"
      ],
      "metadata": {
        "id": "z7IMbXRkBRin"
      }
    },
    {
      "cell_type": "code",
      "source": [
        "#First, we need to create the average temperature array test set and normalizing it:\n",
        "length_avg_temp = int(len(final_df['Monthly Land Average Temperature Anomaly'])*95/100)\n",
        "avg_temp_updated = final_df['Monthly Land Average Temperature Anomaly'][length_avg_temp:-1]\n",
        "avg_temp_updated_array = np.array(avg_temp_updated)\n",
        "stds = MinMaxScaler(feature_range = (0,1)) #scaling the data to be in a range from 0 to 1\n",
        "avg_temp_updated_array_scaled = stds.fit_transform(np.float64(avg_temp_updated_array.reshape(-1, 1)))"
      ],
      "metadata": {
        "id": "11cfhklkBXaz"
      },
      "execution_count": 60,
      "outputs": []
    },
    {
      "cell_type": "code",
      "source": [
        "#Converting the needed arrays to list in order to create a dataframe later on:\n",
        "year_updated_list = year_updated.tolist()\n",
        "avg_temp_updated_scaled_list = avg_temp_updated_array_scaled.tolist()"
      ],
      "metadata": {
        "id": "jFhas9xFJFue"
      },
      "execution_count": 61,
      "outputs": []
    },
    {
      "cell_type": "code",
      "source": [
        "#Converting the predicted array to list in order to add it to the dataframe:\n",
        "yhat_ridge_list = yhat_ridge.tolist()\n",
        "\n",
        "avg_temp = []\n",
        "yhat_list = []\n",
        "\n",
        "for i in avg_temp_updated_scaled_list:\n",
        "  for j in i:\n",
        "    avg_temp.append(j)\n",
        "\n",
        "for k in yhat_ridge_list:\n",
        "  for l in k:\n",
        "    yhat_list.append(l)"
      ],
      "metadata": {
        "id": "ZK4sKQHcBtrK"
      },
      "execution_count": 62,
      "outputs": []
    },
    {
      "cell_type": "code",
      "source": [
        "#Creating the necessary dataframe for plotting:\n",
        "ridge_regression_df = pd.DataFrame(zip(year_updated_list, avg_temp, yhat_list),\n",
        "              columns=['year', 'true_avg_temp', 'predicted_temp_ridge'])\n",
        "\n",
        "#Let's have a quick look on the created dataframe:\n",
        "ridge_regression_df.head()"
      ],
      "metadata": {
        "colab": {
          "base_uri": "https://localhost:8080/",
          "height": 206
        },
        "id": "rcSzBCG3Cgtl",
        "outputId": "c09631c4-f78b-4cca-9c43-62cae9a7e0a1"
      },
      "execution_count": 63,
      "outputs": [
        {
          "output_type": "execute_result",
          "data": {
            "text/plain": [
              "   year  true_avg_temp  predicted_temp_ridge\n",
              "0  1850       0.464646              0.335847\n",
              "1  1850       0.000000              0.410869\n",
              "2  1850       0.396066              0.405062\n",
              "3  1850       0.510367              0.417899\n",
              "4  1850       0.482190              0.456955"
            ],
            "text/html": [
              "\n",
              "  <div id=\"df-9a6bdcc8-9d5b-49ba-8aab-f2af5f70a999\">\n",
              "    <div class=\"colab-df-container\">\n",
              "      <div>\n",
              "<style scoped>\n",
              "    .dataframe tbody tr th:only-of-type {\n",
              "        vertical-align: middle;\n",
              "    }\n",
              "\n",
              "    .dataframe tbody tr th {\n",
              "        vertical-align: top;\n",
              "    }\n",
              "\n",
              "    .dataframe thead th {\n",
              "        text-align: right;\n",
              "    }\n",
              "</style>\n",
              "<table border=\"1\" class=\"dataframe\">\n",
              "  <thead>\n",
              "    <tr style=\"text-align: right;\">\n",
              "      <th></th>\n",
              "      <th>year</th>\n",
              "      <th>true_avg_temp</th>\n",
              "      <th>predicted_temp_ridge</th>\n",
              "    </tr>\n",
              "  </thead>\n",
              "  <tbody>\n",
              "    <tr>\n",
              "      <th>0</th>\n",
              "      <td>1850</td>\n",
              "      <td>0.464646</td>\n",
              "      <td>0.335847</td>\n",
              "    </tr>\n",
              "    <tr>\n",
              "      <th>1</th>\n",
              "      <td>1850</td>\n",
              "      <td>0.000000</td>\n",
              "      <td>0.410869</td>\n",
              "    </tr>\n",
              "    <tr>\n",
              "      <th>2</th>\n",
              "      <td>1850</td>\n",
              "      <td>0.396066</td>\n",
              "      <td>0.405062</td>\n",
              "    </tr>\n",
              "    <tr>\n",
              "      <th>3</th>\n",
              "      <td>1850</td>\n",
              "      <td>0.510367</td>\n",
              "      <td>0.417899</td>\n",
              "    </tr>\n",
              "    <tr>\n",
              "      <th>4</th>\n",
              "      <td>1850</td>\n",
              "      <td>0.482190</td>\n",
              "      <td>0.456955</td>\n",
              "    </tr>\n",
              "  </tbody>\n",
              "</table>\n",
              "</div>\n",
              "      <button class=\"colab-df-convert\" onclick=\"convertToInteractive('df-9a6bdcc8-9d5b-49ba-8aab-f2af5f70a999')\"\n",
              "              title=\"Convert this dataframe to an interactive table.\"\n",
              "              style=\"display:none;\">\n",
              "        \n",
              "  <svg xmlns=\"http://www.w3.org/2000/svg\" height=\"24px\"viewBox=\"0 0 24 24\"\n",
              "       width=\"24px\">\n",
              "    <path d=\"M0 0h24v24H0V0z\" fill=\"none\"/>\n",
              "    <path d=\"M18.56 5.44l.94 2.06.94-2.06 2.06-.94-2.06-.94-.94-2.06-.94 2.06-2.06.94zm-11 1L8.5 8.5l.94-2.06 2.06-.94-2.06-.94L8.5 2.5l-.94 2.06-2.06.94zm10 10l.94 2.06.94-2.06 2.06-.94-2.06-.94-.94-2.06-.94 2.06-2.06.94z\"/><path d=\"M17.41 7.96l-1.37-1.37c-.4-.4-.92-.59-1.43-.59-.52 0-1.04.2-1.43.59L10.3 9.45l-7.72 7.72c-.78.78-.78 2.05 0 2.83L4 21.41c.39.39.9.59 1.41.59.51 0 1.02-.2 1.41-.59l7.78-7.78 2.81-2.81c.8-.78.8-2.07 0-2.86zM5.41 20L4 18.59l7.72-7.72 1.47 1.35L5.41 20z\"/>\n",
              "  </svg>\n",
              "      </button>\n",
              "      \n",
              "  <style>\n",
              "    .colab-df-container {\n",
              "      display:flex;\n",
              "      flex-wrap:wrap;\n",
              "      gap: 12px;\n",
              "    }\n",
              "\n",
              "    .colab-df-convert {\n",
              "      background-color: #E8F0FE;\n",
              "      border: none;\n",
              "      border-radius: 50%;\n",
              "      cursor: pointer;\n",
              "      display: none;\n",
              "      fill: #1967D2;\n",
              "      height: 32px;\n",
              "      padding: 0 0 0 0;\n",
              "      width: 32px;\n",
              "    }\n",
              "\n",
              "    .colab-df-convert:hover {\n",
              "      background-color: #E2EBFA;\n",
              "      box-shadow: 0px 1px 2px rgba(60, 64, 67, 0.3), 0px 1px 3px 1px rgba(60, 64, 67, 0.15);\n",
              "      fill: #174EA6;\n",
              "    }\n",
              "\n",
              "    [theme=dark] .colab-df-convert {\n",
              "      background-color: #3B4455;\n",
              "      fill: #D2E3FC;\n",
              "    }\n",
              "\n",
              "    [theme=dark] .colab-df-convert:hover {\n",
              "      background-color: #434B5C;\n",
              "      box-shadow: 0px 1px 3px 1px rgba(0, 0, 0, 0.15);\n",
              "      filter: drop-shadow(0px 1px 2px rgba(0, 0, 0, 0.3));\n",
              "      fill: #FFFFFF;\n",
              "    }\n",
              "  </style>\n",
              "\n",
              "      <script>\n",
              "        const buttonEl =\n",
              "          document.querySelector('#df-9a6bdcc8-9d5b-49ba-8aab-f2af5f70a999 button.colab-df-convert');\n",
              "        buttonEl.style.display =\n",
              "          google.colab.kernel.accessAllowed ? 'block' : 'none';\n",
              "\n",
              "        async function convertToInteractive(key) {\n",
              "          const element = document.querySelector('#df-9a6bdcc8-9d5b-49ba-8aab-f2af5f70a999');\n",
              "          const dataTable =\n",
              "            await google.colab.kernel.invokeFunction('convertToInteractive',\n",
              "                                                     [key], {});\n",
              "          if (!dataTable) return;\n",
              "\n",
              "          const docLinkHtml = 'Like what you see? Visit the ' +\n",
              "            '<a target=\"_blank\" href=https://colab.research.google.com/notebooks/data_table.ipynb>data table notebook</a>'\n",
              "            + ' to learn more about interactive tables.';\n",
              "          element.innerHTML = '';\n",
              "          dataTable['output_type'] = 'display_data';\n",
              "          await google.colab.output.renderOutput(dataTable, element);\n",
              "          const docLink = document.createElement('div');\n",
              "          docLink.innerHTML = docLinkHtml;\n",
              "          element.appendChild(docLink);\n",
              "        }\n",
              "      </script>\n",
              "    </div>\n",
              "  </div>\n",
              "  "
            ]
          },
          "metadata": {},
          "execution_count": 63
        }
      ]
    },
    {
      "cell_type": "code",
      "source": [
        "#Visualizing the true values with the predicted using seaborn:\n",
        "sns.lineplot(x='year', y='true_avg_temp', data=ridge_regression_df)\n",
        "sns.lineplot(x='year', y='predicted_temp_ridge', data=ridge_regression_df)\n",
        "plt.show()"
      ],
      "metadata": {
        "colab": {
          "base_uri": "https://localhost:8080/",
          "height": 366
        },
        "id": "qqO69aOiCq6d",
        "outputId": "96935015-09d3-4624-a87a-4a70f7bf3198"
      },
      "execution_count": 64,
      "outputs": [
        {
          "output_type": "display_data",
          "data": {
            "text/plain": [
              "<Figure size 576x396 with 1 Axes>"
            ],
            "image/png": "[encoded data removed]"
          },
          "metadata": {
            "needs_background": "light"
          }
        }
      ]
    },
    {
      "cell_type": "markdown",
      "source": [
        ">> #### B. **Random Forest Regressor with Multi-output Regressor Evaluation**"
      ],
      "metadata": {
        "id": "qqRwugkbggRx"
      }
    },
    {
      "cell_type": "code",
      "source": [
        "#Calculating the mean squared error:\n",
        "mse = mean_squared_error(y_test_reshaped, yhat_random_forest)\n",
        "\n",
        "#Calculating the R2 score:\n",
        "score = r2_score(y_test_reshaped, yhat_random_forest)\n",
        "\n",
        "print('Random Forest MSE is: ', mse)\n",
        "print('Random Forest R2 Score is: ', score)"
      ],
      "metadata": {
        "colab": {
          "base_uri": "https://localhost:8080/"
        },
        "id": "YIimcp13grX8",
        "outputId": "fe75e5d2-9716-4d2a-ab2a-a2a535bde0e1"
      },
      "execution_count": 66,
      "outputs": [
        {
          "output_type": "stream",
          "name": "stdout",
          "text": [
            "Random Forest MSE is:  0.04223059999308427\n",
            "Random Forest R2 Score is:  -0.1625224368160085\n"
          ]
        }
      ]
    },
    {
      "cell_type": "markdown",
      "source": [
        ">>> Let's compare the test set of the final dataframe with the Random Forest fitting result by visualizing it"
      ],
      "metadata": {
        "id": "vqSj-YhwDzYE"
      }
    },
    {
      "cell_type": "code",
      "source": [
        "#Converting the predicted array to list in order to add it to the dataframe:\n",
        "yhat_rf_list = yhat_random_forest.tolist()\n",
        "\n",
        "yhat_list = []\n",
        "\n",
        "for k in yhat_rf_list:\n",
        "  for l in k:\n",
        "    yhat_list.append(l)"
      ],
      "metadata": {
        "id": "M6G666f8D4E7"
      },
      "execution_count": 68,
      "outputs": []
    },
    {
      "cell_type": "code",
      "source": [
        "#Creating the necessary dataframe for plotting:\n",
        "rf_regression_df = pd.DataFrame(zip(year_updated_list, avg_temp, yhat_list),\n",
        "              columns=['year', 'true_avg_temp', 'predicted_temp_rf'])\n",
        "\n",
        "#Let's have a quick look on the created dataframe:\n",
        "rf_regression_df.head()"
      ],
      "metadata": {
        "colab": {
          "base_uri": "https://localhost:8080/",
          "height": 206
        },
        "id": "PTTGCkgQEDWf",
        "outputId": "14c66e22-371b-4e89-90be-1ecd32124aab"
      },
      "execution_count": 69,
      "outputs": [
        {
          "output_type": "execute_result",
          "data": {
            "text/plain": [
              "   year  true_avg_temp  predicted_temp_rf\n",
              "0  1850       0.464646           0.337376\n",
              "1  1850       0.000000           0.422355\n",
              "2  1850       0.396066           0.411138\n",
              "3  1850       0.510367           0.337831\n",
              "4  1850       0.482190           0.422695"
            ],
            "text/html": [
              "\n",
              "  <div id=\"df-64c7a57f-0ccf-4a62-86f0-4156cc985917\">\n",
              "    <div class=\"colab-df-container\">\n",
              "      <div>\n",
              "<style scoped>\n",
              "    .dataframe tbody tr th:only-of-type {\n",
              "        vertical-align: middle;\n",
              "    }\n",
              "\n",
              "    .dataframe tbody tr th {\n",
              "        vertical-align: top;\n",
              "    }\n",
              "\n",
              "    .dataframe thead th {\n",
              "        text-align: right;\n",
              "    }\n",
              "</style>\n",
              "<table border=\"1\" class=\"dataframe\">\n",
              "  <thead>\n",
              "    <tr style=\"text-align: right;\">\n",
              "      <th></th>\n",
              "      <th>year</th>\n",
              "      <th>true_avg_temp</th>\n",
              "      <th>predicted_temp_rf</th>\n",
              "    </tr>\n",
              "  </thead>\n",
              "  <tbody>\n",
              "    <tr>\n",
              "      <th>0</th>\n",
              "      <td>1850</td>\n",
              "      <td>0.464646</td>\n",
              "      <td>0.337376</td>\n",
              "    </tr>\n",
              "    <tr>\n",
              "      <th>1</th>\n",
              "      <td>1850</td>\n",
              "      <td>0.000000</td>\n",
              "      <td>0.422355</td>\n",
              "    </tr>\n",
              "    <tr>\n",
              "      <th>2</th>\n",
              "      <td>1850</td>\n",
              "      <td>0.396066</td>\n",
              "      <td>0.411138</td>\n",
              "    </tr>\n",
              "    <tr>\n",
              "      <th>3</th>\n",
              "      <td>1850</td>\n",
              "      <td>0.510367</td>\n",
              "      <td>0.337831</td>\n",
              "    </tr>\n",
              "    <tr>\n",
              "      <th>4</th>\n",
              "      <td>1850</td>\n",
              "      <td>0.482190</td>\n",
              "      <td>0.422695</td>\n",
              "    </tr>\n",
              "  </tbody>\n",
              "</table>\n",
              "</div>\n",
              "      <button class=\"colab-df-convert\" onclick=\"convertToInteractive('df-64c7a57f-0ccf-4a62-86f0-4156cc985917')\"\n",
              "              title=\"Convert this dataframe to an interactive table.\"\n",
              "              style=\"display:none;\">\n",
              "        \n",
              "  <svg xmlns=\"http://www.w3.org/2000/svg\" height=\"24px\"viewBox=\"0 0 24 24\"\n",
              "       width=\"24px\">\n",
              "    <path d=\"M0 0h24v24H0V0z\" fill=\"none\"/>\n",
              "    <path d=\"M18.56 5.44l.94 2.06.94-2.06 2.06-.94-2.06-.94-.94-2.06-.94 2.06-2.06.94zm-11 1L8.5 8.5l.94-2.06 2.06-.94-2.06-.94L8.5 2.5l-.94 2.06-2.06.94zm10 10l.94 2.06.94-2.06 2.06-.94-2.06-.94-.94-2.06-.94 2.06-2.06.94z\"/><path d=\"M17.41 7.96l-1.37-1.37c-.4-.4-.92-.59-1.43-.59-.52 0-1.04.2-1.43.59L10.3 9.45l-7.72 7.72c-.78.78-.78 2.05 0 2.83L4 21.41c.39.39.9.59 1.41.59.51 0 1.02-.2 1.41-.59l7.78-7.78 2.81-2.81c.8-.78.8-2.07 0-2.86zM5.41 20L4 18.59l7.72-7.72 1.47 1.35L5.41 20z\"/>\n",
              "  </svg>\n",
              "      </button>\n",
              "      \n",
              "  <style>\n",
              "    .colab-df-container {\n",
              "      display:flex;\n",
              "      flex-wrap:wrap;\n",
              "      gap: 12px;\n",
              "    }\n",
              "\n",
              "    .colab-df-convert {\n",
              "      background-color: #E8F0FE;\n",
              "      border: none;\n",
              "      border-radius: 50%;\n",
              "      cursor: pointer;\n",
              "      display: none;\n",
              "      fill: #1967D2;\n",
              "      height: 32px;\n",
              "      padding: 0 0 0 0;\n",
              "      width: 32px;\n",
              "    }\n",
              "\n",
              "    .colab-df-convert:hover {\n",
              "      background-color: #E2EBFA;\n",
              "      box-shadow: 0px 1px 2px rgba(60, 64, 67, 0.3), 0px 1px 3px 1px rgba(60, 64, 67, 0.15);\n",
              "      fill: #174EA6;\n",
              "    }\n",
              "\n",
              "    [theme=dark] .colab-df-convert {\n",
              "      background-color: #3B4455;\n",
              "      fill: #D2E3FC;\n",
              "    }\n",
              "\n",
              "    [theme=dark] .colab-df-convert:hover {\n",
              "      background-color: #434B5C;\n",
              "      box-shadow: 0px 1px 3px 1px rgba(0, 0, 0, 0.15);\n",
              "      filter: drop-shadow(0px 1px 2px rgba(0, 0, 0, 0.3));\n",
              "      fill: #FFFFFF;\n",
              "    }\n",
              "  </style>\n",
              "\n",
              "      <script>\n",
              "        const buttonEl =\n",
              "          document.querySelector('#df-64c7a57f-0ccf-4a62-86f0-4156cc985917 button.colab-df-convert');\n",
              "        buttonEl.style.display =\n",
              "          google.colab.kernel.accessAllowed ? 'block' : 'none';\n",
              "\n",
              "        async function convertToInteractive(key) {\n",
              "          const element = document.querySelector('#df-64c7a57f-0ccf-4a62-86f0-4156cc985917');\n",
              "          const dataTable =\n",
              "            await google.colab.kernel.invokeFunction('convertToInteractive',\n",
              "                                                     [key], {});\n",
              "          if (!dataTable) return;\n",
              "\n",
              "          const docLinkHtml = 'Like what you see? Visit the ' +\n",
              "            '<a target=\"_blank\" href=https://colab.research.google.com/notebooks/data_table.ipynb>data table notebook</a>'\n",
              "            + ' to learn more about interactive tables.';\n",
              "          element.innerHTML = '';\n",
              "          dataTable['output_type'] = 'display_data';\n",
              "          await google.colab.output.renderOutput(dataTable, element);\n",
              "          const docLink = document.createElement('div');\n",
              "          docLink.innerHTML = docLinkHtml;\n",
              "          element.appendChild(docLink);\n",
              "        }\n",
              "      </script>\n",
              "    </div>\n",
              "  </div>\n",
              "  "
            ]
          },
          "metadata": {},
          "execution_count": 69
        }
      ]
    },
    {
      "cell_type": "code",
      "source": [
        "#Visualizing the true values with the predicted using seaborn:\n",
        "sns.lineplot(x='year', y='true_avg_temp', data=rf_regression_df)\n",
        "sns.lineplot(x='year', y='predicted_temp_rf', data=rf_regression_df, color='green')\n",
        "plt.show()"
      ],
      "metadata": {
        "colab": {
          "base_uri": "https://localhost:8080/",
          "height": 366
        },
        "id": "BlD1LID6EMJ2",
        "outputId": "56c9b978-4a92-4050-d378-f095c436e3ea"
      },
      "execution_count": 70,
      "outputs": [
        {
          "output_type": "display_data",
          "data": {
            "text/plain": [
              "<Figure size 576x396 with 1 Axes>"
            ],
            "image/png": "[encoded data removed]"
          },
          "metadata": {
            "needs_background": "light"
          }
        }
      ]
    },
    {
      "cell_type": "markdown",
      "source": [
        ">> #### C. **Support Vector Machine with Multi-output Regressor Evaluation**"
      ],
      "metadata": {
        "id": "VSDvZHYRhKiB"
      }
    },
    {
      "cell_type": "code",
      "source": [
        "#Calculating the mean squared error:\n",
        "mse = mean_squared_error(y_test_reshaped, yhat_svm)\n",
        "\n",
        "#Calculating the R2 score:\n",
        "score = r2_score(y_test_reshaped, yhat_svm)\n",
        "\n",
        "print('Support Vector Machine MSE is: ', mse)\n",
        "print('Support Vector Machine R2 Score is: ', score)"
      ],
      "metadata": {
        "colab": {
          "base_uri": "https://localhost:8080/"
        },
        "id": "yxiTpyULhO9s",
        "outputId": "cbfdac9f-805d-4ca8-b433-a4896b9d06b3"
      },
      "execution_count": 71,
      "outputs": [
        {
          "output_type": "stream",
          "name": "stdout",
          "text": [
            "Support Vector Machine MSE is:  0.04760080942126291\n",
            "Support Vector Machine R2 Score is:  -0.3110956085726821\n"
          ]
        }
      ]
    },
    {
      "cell_type": "markdown",
      "source": [
        ">>> Let's compare the test set of the final dataframe with the Support Vector Machine fitting result by visualizing it"
      ],
      "metadata": {
        "id": "odsC8k-l4zxT"
      }
    },
    {
      "cell_type": "code",
      "source": [
        "#Converting the predicted array to list in order to add it to the dataframe:\n",
        "yhat_svm_list = yhat_svm.tolist()\n",
        "\n",
        "yhat_list = []\n",
        "\n",
        "for k in yhat_svm_list:\n",
        "  for l in k:\n",
        "    yhat_list.append(l)"
      ],
      "metadata": {
        "id": "SNS97Zd5yhhY"
      },
      "execution_count": 75,
      "outputs": []
    },
    {
      "cell_type": "code",
      "source": [
        "#Creating the necessary dataframe for plotting:\n",
        "svm_regression_df = pd.DataFrame(zip(year_updated_list, avg_temp, yhat_list),\n",
        "              columns=['year', 'true_avg_temp', 'predicted_temp_svm'])\n",
        "\n",
        "#Let's have a quick look on the created dataframe:\n",
        "svm_regression_df.head()"
      ],
      "metadata": {
        "colab": {
          "base_uri": "https://localhost:8080/",
          "height": 206
        },
        "id": "4v-hhT3u9819",
        "outputId": "a31d4888-9e5e-4fcb-e70c-21db97c9d3f5"
      },
      "execution_count": 76,
      "outputs": [
        {
          "output_type": "execute_result",
          "data": {
            "text/plain": [
              "   year  true_avg_temp  predicted_temp_svm\n",
              "0  1850       0.464646            0.414421\n",
              "1  1850       0.000000            0.422682\n",
              "2  1850       0.396066            0.376660\n",
              "3  1850       0.510367            0.407020\n",
              "4  1850       0.482190            0.361219"
            ],
            "text/html": [
              "\n",
              "  <div id=\"df-966d06ea-9c88-45ed-8088-42349b2889ce\">\n",
              "    <div class=\"colab-df-container\">\n",
              "      <div>\n",
              "<style scoped>\n",
              "    .dataframe tbody tr th:only-of-type {\n",
              "        vertical-align: middle;\n",
              "    }\n",
              "\n",
              "    .dataframe tbody tr th {\n",
              "        vertical-align: top;\n",
              "    }\n",
              "\n",
              "    .dataframe thead th {\n",
              "        text-align: right;\n",
              "    }\n",
              "</style>\n",
              "<table border=\"1\" class=\"dataframe\">\n",
              "  <thead>\n",
              "    <tr style=\"text-align: right;\">\n",
              "      <th></th>\n",
              "      <th>year</th>\n",
              "      <th>true_avg_temp</th>\n",
              "      <th>predicted_temp_svm</th>\n",
              "    </tr>\n",
              "  </thead>\n",
              "  <tbody>\n",
              "    <tr>\n",
              "      <th>0</th>\n",
              "      <td>1850</td>\n",
              "      <td>0.464646</td>\n",
              "      <td>0.414421</td>\n",
              "    </tr>\n",
              "    <tr>\n",
              "      <th>1</th>\n",
              "      <td>1850</td>\n",
              "      <td>0.000000</td>\n",
              "      <td>0.422682</td>\n",
              "    </tr>\n",
              "    <tr>\n",
              "      <th>2</th>\n",
              "      <td>1850</td>\n",
              "      <td>0.396066</td>\n",
              "      <td>0.376660</td>\n",
              "    </tr>\n",
              "    <tr>\n",
              "      <th>3</th>\n",
              "      <td>1850</td>\n",
              "      <td>0.510367</td>\n",
              "      <td>0.407020</td>\n",
              "    </tr>\n",
              "    <tr>\n",
              "      <th>4</th>\n",
              "      <td>1850</td>\n",
              "      <td>0.482190</td>\n",
              "      <td>0.361219</td>\n",
              "    </tr>\n",
              "  </tbody>\n",
              "</table>\n",
              "</div>\n",
              "      <button class=\"colab-df-convert\" onclick=\"convertToInteractive('df-966d06ea-9c88-45ed-8088-42349b2889ce')\"\n",
              "              title=\"Convert this dataframe to an interactive table.\"\n",
              "              style=\"display:none;\">\n",
              "        \n",
              "  <svg xmlns=\"http://www.w3.org/2000/svg\" height=\"24px\"viewBox=\"0 0 24 24\"\n",
              "       width=\"24px\">\n",
              "    <path d=\"M0 0h24v24H0V0z\" fill=\"none\"/>\n",
              "    <path d=\"M18.56 5.44l.94 2.06.94-2.06 2.06-.94-2.06-.94-.94-2.06-.94 2.06-2.06.94zm-11 1L8.5 8.5l.94-2.06 2.06-.94-2.06-.94L8.5 2.5l-.94 2.06-2.06.94zm10 10l.94 2.06.94-2.06 2.06-.94-2.06-.94-.94-2.06-.94 2.06-2.06.94z\"/><path d=\"M17.41 7.96l-1.37-1.37c-.4-.4-.92-.59-1.43-.59-.52 0-1.04.2-1.43.59L10.3 9.45l-7.72 7.72c-.78.78-.78 2.05 0 2.83L4 21.41c.39.39.9.59 1.41.59.51 0 1.02-.2 1.41-.59l7.78-7.78 2.81-2.81c.8-.78.8-2.07 0-2.86zM5.41 20L4 18.59l7.72-7.72 1.47 1.35L5.41 20z\"/>\n",
              "  </svg>\n",
              "      </button>\n",
              "      \n",
              "  <style>\n",
              "    .colab-df-container {\n",
              "      display:flex;\n",
              "      flex-wrap:wrap;\n",
              "      gap: 12px;\n",
              "    }\n",
              "\n",
              "    .colab-df-convert {\n",
              "      background-color: #E8F0FE;\n",
              "      border: none;\n",
              "      border-radius: 50%;\n",
              "      cursor: pointer;\n",
              "      display: none;\n",
              "      fill: #1967D2;\n",
              "      height: 32px;\n",
              "      padding: 0 0 0 0;\n",
              "      width: 32px;\n",
              "    }\n",
              "\n",
              "    .colab-df-convert:hover {\n",
              "      background-color: #E2EBFA;\n",
              "      box-shadow: 0px 1px 2px rgba(60, 64, 67, 0.3), 0px 1px 3px 1px rgba(60, 64, 67, 0.15);\n",
              "      fill: #174EA6;\n",
              "    }\n",
              "\n",
              "    [theme=dark] .colab-df-convert {\n",
              "      background-color: #3B4455;\n",
              "      fill: #D2E3FC;\n",
              "    }\n",
              "\n",
              "    [theme=dark] .colab-df-convert:hover {\n",
              "      background-color: #434B5C;\n",
              "      box-shadow: 0px 1px 3px 1px rgba(0, 0, 0, 0.15);\n",
              "      filter: drop-shadow(0px 1px 2px rgba(0, 0, 0, 0.3));\n",
              "      fill: #FFFFFF;\n",
              "    }\n",
              "  </style>\n",
              "\n",
              "      <script>\n",
              "        const buttonEl =\n",
              "          document.querySelector('#df-966d06ea-9c88-45ed-8088-42349b2889ce button.colab-df-convert');\n",
              "        buttonEl.style.display =\n",
              "          google.colab.kernel.accessAllowed ? 'block' : 'none';\n",
              "\n",
              "        async function convertToInteractive(key) {\n",
              "          const element = document.querySelector('#df-966d06ea-9c88-45ed-8088-42349b2889ce');\n",
              "          const dataTable =\n",
              "            await google.colab.kernel.invokeFunction('convertToInteractive',\n",
              "                                                     [key], {});\n",
              "          if (!dataTable) return;\n",
              "\n",
              "          const docLinkHtml = 'Like what you see? Visit the ' +\n",
              "            '<a target=\"_blank\" href=https://colab.research.google.com/notebooks/data_table.ipynb>data table notebook</a>'\n",
              "            + ' to learn more about interactive tables.';\n",
              "          element.innerHTML = '';\n",
              "          dataTable['output_type'] = 'display_data';\n",
              "          await google.colab.output.renderOutput(dataTable, element);\n",
              "          const docLink = document.createElement('div');\n",
              "          docLink.innerHTML = docLinkHtml;\n",
              "          element.appendChild(docLink);\n",
              "        }\n",
              "      </script>\n",
              "    </div>\n",
              "  </div>\n",
              "  "
            ]
          },
          "metadata": {},
          "execution_count": 76
        }
      ]
    },
    {
      "cell_type": "code",
      "source": [
        "#Visualizing the true values with the predicted using seaborn:\n",
        "sns.lineplot(x='year', y='true_avg_temp', data=svm_regression_df)\n",
        "sns.lineplot(x='year', y='predicted_temp_svm', data=svm_regression_df, color='black')\n",
        "plt.show()"
      ],
      "metadata": {
        "colab": {
          "base_uri": "https://localhost:8080/",
          "height": 366
        },
        "id": "_8FyZn9NwwWz",
        "outputId": "537e07f2-fa78-4bef-e28f-497a68f2a770"
      },
      "execution_count": 77,
      "outputs": [
        {
          "output_type": "display_data",
          "data": {
            "text/plain": [
              "<Figure size 576x396 with 1 Axes>"
            ],
            "image/png": "[encoded data removed]"
          },
          "metadata": {
            "needs_background": "light"
          }
        }
      ]
    },
    {
      "cell_type": "markdown",
      "source": [
        ">>> Let's visualize how all 3 non-deep learning models compare to each other in terms of performance:"
      ],
      "metadata": {
        "id": "28_xvDJF8-QE"
      }
    },
    {
      "cell_type": "code",
      "source": [
        "sns.lineplot(x='year', y='true_avg_temp', data=svm_regression_df)\n",
        "sns.lineplot(x='year', y='predicted_temp_ridge', data=ridge_regression_df)\n",
        "sns.lineplot(x='year', y='predicted_temp_rf', data=rf_regression_df)\n",
        "sns.lineplot(x='year', y='predicted_temp_svm', data=svm_regression_df, color='black')"
      ],
      "metadata": {
        "colab": {
          "base_uri": "https://localhost:8080/",
          "height": 383
        },
        "id": "kfQdc8v5gaSU",
        "outputId": "c39c74e2-cf43-4647-ce5f-61e04a7b2b6b"
      },
      "execution_count": 78,
      "outputs": [
        {
          "output_type": "execute_result",
          "data": {
            "text/plain": [
              "<matplotlib.axes._subplots.AxesSubplot at 0x7f741938ce50>"
            ]
          },
          "metadata": {},
          "execution_count": 78
        },
        {
          "output_type": "display_data",
          "data": {
            "text/plain": [
              "<Figure size 576x396 with 1 Axes>"
            ],
            "image/png": "[encoded data removed]"
          },
          "metadata": {
            "needs_background": "light"
          }
        }
      ]
    },
    {
      "cell_type": "markdown",
      "source": [
        ">>> Quick analysis of the graph above and the Regression models performence in  general:\n",
        ">>> *   The blue line represents the true values from the test set\n",
        ">>> *   The orange line represents the predicted values using Ridge Regression\n",
        ">>> *   The greenline represents the predicted values using Random Forest\n",
        ">>> *   The black line represents the predicted values using SVM\n",
        ">>> *   Ridge Regression and Random Forest got pretty close results\n",
        ">>> *   We clearly see that all the non-deep learning regression models are poorly performing, especially SVM, thus non of these models will be used to train the dataset"
      ],
      "metadata": {
        "id": "7FMqp27LqGsT"
      }
    },
    {
      "cell_type": "markdown",
      "source": [
        ">>> Since none of the regression models performed well, let's see if the deep learning LSTM model performs as expected:"
      ],
      "metadata": {
        "id": "qJVjUgGXrNdT"
      }
    },
    {
      "cell_type": "markdown",
      "source": [
        ">> #### D. **LSTM Evaluation**"
      ],
      "metadata": {
        "id": "6ZudZ4Awicf_"
      }
    },
    {
      "cell_type": "markdown",
      "source": [
        ">>> Let's check the loss performence:"
      ],
      "metadata": {
        "id": "ve4crPmsHamp"
      }
    },
    {
      "cell_type": "code",
      "source": [
        "plt.plot(lstm.history['loss'])\n",
        "plt.plot(lstm.history['val_loss'])\n",
        "plt.title('model loss')\n",
        "plt.ylabel('loss')\n",
        "plt.xlabel('epoch')\n",
        "plt.legend(['train', 'validation'], loc='upper right')\n",
        "plt.show()"
      ],
      "metadata": {
        "colab": {
          "base_uri": "https://localhost:8080/",
          "height": 382
        },
        "id": "1-n_5Y_--RDH",
        "outputId": "57a8f7f2-c36f-4ba8-cf5f-4371a4aed3b4"
      },
      "execution_count": null,
      "outputs": [
        {
          "output_type": "display_data",
          "data": {
            "text/plain": [
              "<Figure size 576x396 with 1 Axes>"
            ],
            "image/png": "[encoded data removed]"
          },
          "metadata": {
            "needs_background": "light"
          }
        }
      ]
    },
    {
      "cell_type": "markdown",
      "source": [
        ">>>> The loss performence looks pretty good! It is a normal behavior that the loss line will start higher than the train line as the training is just starting, however, it drops and goes more in parallel frequency with the train line which indicates that the model is not overfitting. It is not underfitting either as the validation line is is still above the train line."
      ],
      "metadata": {
        "id": "I9-32dzHHlm2"
      }
    },
    {
      "cell_type": "markdown",
      "source": [
        ">>> Now, let's have a look at the accuracy:"
      ],
      "metadata": {
        "id": "Fo8IXRqbIYBM"
      }
    },
    {
      "cell_type": "code",
      "source": [
        "plt.plot(lstm.history['accuracy'])\n",
        "plt.plot(lstm.history['val_accuracy'])\n",
        "plt.title('model accuracy')\n",
        "plt.ylabel('accuracy')\n",
        "plt.xlabel('epoch')\n",
        "plt.legend(['train', 'validation'], loc='lower right')\n",
        "plt.show()"
      ],
      "metadata": {
        "colab": {
          "base_uri": "https://localhost:8080/",
          "height": 382
        },
        "id": "6H9uqKMBDDCi",
        "outputId": "8824d15f-b409-4e05-b3a1-53aa109ef352"
      },
      "execution_count": null,
      "outputs": [
        {
          "output_type": "display_data",
          "data": {
            "text/plain": [
              "<Figure size 576x396 with 1 Axes>"
            ],
            "image/png": "[encoded data removed]"
          },
          "metadata": {
            "needs_background": "light"
          }
        }
      ]
    },
    {
      "cell_type": "markdown",
      "source": [
        ">>>> The accuracy looks very good as well! It starts at a low accuracy which is normal as we just started to train the model, but then it goes in parallel with the train data as the training progresses."
      ],
      "metadata": {
        "id": "RIBsyFZFItH2"
      }
    },
    {
      "cell_type": "markdown",
      "source": [
        ">>> **The LSTM is showing good performence which will be used as our training algorithm for this product.**"
      ],
      "metadata": {
        "id": "UgIEcP3DlQXH"
      }
    }
  ]
}